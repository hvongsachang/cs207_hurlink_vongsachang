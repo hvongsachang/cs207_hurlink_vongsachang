{
 "cells": [
  {
   "cell_type": "markdown",
   "metadata": {},
   "source": [
    "# Exercise 1\n",
    "\n",
    "In this problem, you will write a closure to make writing messages easier.  Suppose you write the following message all the time: \n",
    "```python \n",
    "print(\"The correct answer is: {0:17.16f}\".format(answer))\n",
    "```\n",
    "Wouldn't it be nicer to just write \n",
    "```python \n",
    "correct_answer_is(answer)\n",
    "```\n",
    "and have the message?  Your task is to write a closure to accomplish that.  Here's how everything should work:\n",
    "```python\n",
    "correct_answer_is = my_message(message)\n",
    "correct_answer_is(answer)\n",
    "```\n",
    "The output should be: `The correct answer is:  42.0000000000000000.`\n",
    "\n",
    "Now change the message to something else.  Notice that you don't need to re-write everything.  You simply need to get a new message function from `my_message` and invoke your new function when you want to.\n",
    "\n",
    "You should feel free to modify this in any way you like.  Creativity is encouraged!"
   ]
  },
  {
   "cell_type": "code",
   "execution_count": 20,
   "metadata": {
    "collapsed": true
   },
   "outputs": [],
   "source": [
    "def my_message(f):\n",
    "    def inner(*args):\n",
    "        m = message()\n",
    "        print(m + \"{0:17.16f}\".format(*args))\n",
    "    return inner\n",
    "\n",
    "def message():\n",
    "    return (\"The correct answer is: \")"
   ]
  },
  {
   "cell_type": "code",
   "execution_count": 22,
   "metadata": {},
   "outputs": [
    {
     "name": "stdout",
     "output_type": "stream",
     "text": [
      "The correct answer is: 60.0000000000000000\n"
     ]
    }
   ],
   "source": [
    "correct_answer_is = my_message(message)\n",
    "correct_answer_is(60)"
   ]
  },
  {
   "cell_type": "code",
   "execution_count": null,
   "metadata": {
    "collapsed": true
   },
   "outputs": [],
   "source": []
  }
 ],
 "metadata": {
  "kernelspec": {
   "display_name": "Python 3",
   "language": "python",
   "name": "python3"
  },
  "language_info": {
   "codemirror_mode": {
    "name": "ipython",
    "version": 3
   },
   "file_extension": ".py",
   "mimetype": "text/x-python",
   "name": "python",
   "nbconvert_exporter": "python",
   "pygments_lexer": "ipython3",
   "version": "3.6.3"
  }
 },
 "nbformat": 4,
 "nbformat_minor": 2
}
