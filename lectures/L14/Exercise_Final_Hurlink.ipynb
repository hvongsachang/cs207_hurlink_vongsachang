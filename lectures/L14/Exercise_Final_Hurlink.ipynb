{
 "cells": [
  {
   "cell_type": "markdown",
   "metadata": {},
   "source": [
    "# Exercise: Lecture 14\n",
    "## Writing an Input File\n",
    "### October 18th, 2018"
   ]
  },
  {
   "cell_type": "markdown",
   "metadata": {},
   "source": [
    "Write an input file for any coding project of yours that would benefit from one.\n",
    "\n",
    "#### Example\n",
    "We've been discussing Newton's method a little bit in this course.  You know that Newton's method requires a convergence tolerance, an initial guess, and a maximum iteration threshold.  These parameters could all be specified by the user through an input file.  We could design our software to read in the algorithmic parameters via an input file.\n",
    "\n",
    "#### Requirements\n",
    "* You must create a non-trivial input file\n",
    "  - It can't simply have a one-line input\n",
    "* The input file can be in any of the formats discussed in class: `JSON`, `XML`, `YAML`\n",
    "* You must demo reading from the input file"
   ]
  },
  {
   "cell_type": "code",
   "execution_count": 23,
   "metadata": {
    "collapsed": true
   },
   "outputs": [],
   "source": [
    "students = {\"college\": \"Harvard College\", \"students\": [{\"name\": \"Hurlink\", \"age\": 20, \"major\": \"Computer Science\", \"takingCS207\": \"Yes\"}, \n",
    "                           {\"name\": \"Christine\", \"age\": 19, \"major\": \"East Asian Studies\", \"takingCS207\": \"No\"}]}"
   ]
  },
  {
   "cell_type": "code",
   "execution_count": 24,
   "metadata": {
    "collapsed": true
   },
   "outputs": [],
   "source": [
    "import json\n",
    "\n",
    "with open(\"students.json\", \"w\") as write_students:\n",
    "    json.dump(students, write_students, indent=4)"
   ]
  },
  {
   "cell_type": "code",
   "execution_count": 25,
   "metadata": {
    "collapsed": true
   },
   "outputs": [],
   "source": [
    "with open (\"students.json\", \"r\") as students_info:\n",
    "    students = json.load(students_info)"
   ]
  },
  {
   "cell_type": "code",
   "execution_count": 26,
   "metadata": {},
   "outputs": [
    {
     "name": "stdout",
     "output_type": "stream",
     "text": [
      "[{'name': 'Hurlink', 'age': 20, 'major': 'Computer Science', 'takingCS207': 'Yes'}, {'name': 'Christine', 'age': 19, 'major': 'East Asian Studies', 'takingCS207': 'No'}]\n"
     ]
    }
   ],
   "source": [
    "print (students[\"students\"])"
   ]
  },
  {
   "cell_type": "code",
   "execution_count": 27,
   "metadata": {},
   "outputs": [
    {
     "data": {
      "text/plain": [
       "list"
      ]
     },
     "execution_count": 27,
     "metadata": {},
     "output_type": "execute_result"
    }
   ],
   "source": [
    "type(students[\"students\"])"
   ]
  },
  {
   "cell_type": "code",
   "execution_count": 28,
   "metadata": {},
   "outputs": [
    {
     "data": {
      "text/plain": [
       "dict"
      ]
     },
     "execution_count": 28,
     "metadata": {},
     "output_type": "execute_result"
    }
   ],
   "source": [
    "type(students)"
   ]
  },
  {
   "cell_type": "code",
   "execution_count": 29,
   "metadata": {},
   "outputs": [
    {
     "name": "stdout",
     "output_type": "stream",
     "text": [
      "{'college': 'Harvard College', 'students': [{'name': 'Hurlink', 'age': 20, 'major': 'Computer Science', 'takingCS207': 'Yes'}, {'name': 'Christine', 'age': 19, 'major': 'East Asian Studies', 'takingCS207': 'No'}]}\n"
     ]
    }
   ],
   "source": [
    "print(students)"
   ]
  },
  {
   "cell_type": "code",
   "execution_count": 30,
   "metadata": {},
   "outputs": [
    {
     "name": "stdout",
     "output_type": "stream",
     "text": [
      "Harvard College\n"
     ]
    }
   ],
   "source": [
    "print(students['college'])"
   ]
  },
  {
   "cell_type": "code",
   "execution_count": 31,
   "metadata": {},
   "outputs": [
    {
     "name": "stdout",
     "output_type": "stream",
     "text": [
      "Hurlink is 20 years old, majoring in Computer Science. Is Hurlink taking CS207?: Yes\n",
      "Christine is 19 years old, majoring in East Asian Studies. Is Christine taking CS207?: No\n"
     ]
    }
   ],
   "source": [
    "for student in students['students']:\n",
    "    print (\"{} is {} years old, majoring in {}. Is {} taking CS207?: {}\".format(student['name'], \n",
    "                                                                                student['age'],\n",
    "                                                                                student['major'],\n",
    "                                                                                student['name'],\n",
    "                                                                                student['takingCS207']))"
   ]
  },
  {
   "cell_type": "code",
   "execution_count": null,
   "metadata": {
    "collapsed": true
   },
   "outputs": [],
   "source": []
  }
 ],
 "metadata": {
  "kernelspec": {
   "display_name": "Python 3",
   "language": "python",
   "name": "python3"
  },
  "language_info": {
   "codemirror_mode": {
    "name": "ipython",
    "version": 3
   },
   "file_extension": ".py",
   "mimetype": "text/x-python",
   "name": "python",
   "nbconvert_exporter": "python",
   "pygments_lexer": "ipython3",
   "version": "3.6.3"
  }
 },
 "nbformat": 4,
 "nbformat_minor": 2
}
