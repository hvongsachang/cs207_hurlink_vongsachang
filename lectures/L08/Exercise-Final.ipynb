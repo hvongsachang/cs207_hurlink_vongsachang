{
 "cells": [
  {
   "cell_type": "markdown",
   "metadata": {},
   "source": [
    "# Exercise: \"Private\" Methods and Names in Python\n",
    "\n",
    "## Background\n",
    "We will consider two extensions to the real numbers:  complex numbers and dual numbers.  A complex number is defined as $$z = a + ib$$ where $i^{2} = -1$.  $a$ is the real part and $b$ is the imaginary part.  The polar form of a complex number is $$z = \\left|z\\right|e^{i\\theta}$$ where $\\left|z\\right| = zz^{*} = a^{2} + b^{2}$ and $z^{*} = a - ib$ is the complex conjugate of $z$.  The angle between $a$ and $b$ is given by $$\\theta = \\tan^{-1}\\left(\\frac{b}{a}\\right).$$\n",
    "\n",
    "The dual numbers look similar.  We have $d = a + \\epsilon b$ where $\\epsilon$ is a number (not zero!) such that $\\epsilon^{2} = 0$.  Once again $a$ is the real part, but here $b$ is the dual part.  The polar form of this number is \n",
    "$$d = \\displaystyle a\\left(1 + \\epsilon \\frac{b}{a}\\right).$$  Note that the magnitude of the dual number $\\left|d\\right| = a$ since $dd^{*} = \\left(a + \\epsilon b\\right)\\left(a - \\epsilon b\\right) = a$ where $d^{*} = a - \\epsilon b$ is the conjugate of $d$.\n",
    "\n",
    "Dual numbers are a route to automatic differentiation.  We'll mention them again next week in the AD lectures.\n",
    "\n",
    "## Problem Description\n",
    "\n",
    "### Part 1\n",
    "For today, your task is to write a module called `mynumbers.py`.  The module should contain, at a minimum the following:\n",
    "* A base class called `RealExtensions` with a constructor that accepts $a$ and $b$.\n",
    "* A subclass called `Complex` (inherits from `RealExtensions`) that has the following methods:\n",
    "  * Compute the magnitude of the complex number\n",
    "    * **Note:** This method should be preceeded by a single underscore to indicate that it should not be accessed by a user.\n",
    "  * Compute the \"angle\" of the complex number\n",
    "    * **Note:** This method should be preceeded by a single underscore to indicate that it should not be accessed by a user.\n",
    "  * Compute the polar form of the complex number using `_magnitude()` and `_angle()`\n",
    "* A subclass called `Dual` (inherits from `RealExtensions`) that has methods for compute the magnitude and \"angle\" of the dual number.\n",
    "  * Compute the magnitude of the dual number\n",
    "    * **Note:** This method should be preceeded by a single underscore to indicate that it should not be accessed by a user.\n",
    "  * Compute the \"angle\" of the dual number\n",
    "    * **Note:** This method should be preceeded by a single underscore to indicate that it should not be accessed by a user.\n",
    "  * Compute the polar form of the dual number using `_magnitude()` and `_angle()`\n",
    "\n",
    "The choice of \"hiding\" the `magnitude()` and `angle()` methods may not be a good one.  The goal is to show that this is not really privacy; it's more of a contract between people using the code.  Note that a user can still access `_magnitude()` and `_angle()`.\n",
    "\n",
    "#### Import your module using `import mynumbers` and play around with creating complex and dual numbers.\n",
    "\n",
    "### Part 2\n",
    "Once you're happy with your module, make the following change:\n",
    "* Rename the `Complex` subclass as `_Complex`\n",
    "* Now import your module using `from mynumbers import *`\n",
    "* Try to create a complex number.  What happens?\n",
    "  * **Note:** You can use `dir()` to see what's in your namespace.\n",
    "\n",
    "### Part 3\n",
    "This part is open-ended.  Can you think of a situation in which you may want to use name-mangling for this problem?  Think about a case where a subclass might redefine a method or name from the superclass, but the superclass should still have access to the name."
   ]
  },
  {
   "cell_type": "markdown",
   "metadata": {},
   "source": [
    "### Part 1"
   ]
  },
  {
   "cell_type": "code",
   "execution_count": 1,
   "metadata": {
    "collapsed": true
   },
   "outputs": [],
   "source": [
    "import mynumbers"
   ]
  },
  {
   "cell_type": "code",
   "execution_count": 2,
   "metadata": {},
   "outputs": [
    {
     "data": {
      "text/plain": [
       "(5.0, 53.13010235415598)"
      ]
     },
     "execution_count": 2,
     "metadata": {},
     "output_type": "execute_result"
    }
   ],
   "source": [
    "cdemo = mynumbers.Complex(3,4)\n",
    "cdemo.polar()"
   ]
  },
  {
   "cell_type": "code",
   "execution_count": 8,
   "metadata": {},
   "outputs": [
    {
     "data": {
      "text/plain": [
       "(3, 1.3333333333333333)"
      ]
     },
     "execution_count": 8,
     "metadata": {},
     "output_type": "execute_result"
    }
   ],
   "source": [
    "ddemo = mynumbers.Dual(3,4)\n",
    "ddemo.polar()"
   ]
  },
  {
   "cell_type": "markdown",
   "metadata": {},
   "source": [
    "### Part 2"
   ]
  },
  {
   "cell_type": "code",
   "execution_count": 1,
   "metadata": {
    "collapsed": true
   },
   "outputs": [],
   "source": [
    "from mynumbers import *"
   ]
  },
  {
   "cell_type": "code",
   "execution_count": 2,
   "metadata": {
    "scrolled": true
   },
   "outputs": [
    {
     "ename": "NameError",
     "evalue": "name 'Complex' is not defined",
     "output_type": "error",
     "traceback": [
      "\u001b[0;31m---------------------------------------------------------------------------\u001b[0m",
      "\u001b[0;31mNameError\u001b[0m                                 Traceback (most recent call last)",
      "\u001b[0;32m<ipython-input-2-4356a8579602>\u001b[0m in \u001b[0;36m<module>\u001b[0;34m()\u001b[0m\n\u001b[0;32m----> 1\u001b[0;31m \u001b[0mcdemo1\u001b[0m \u001b[0;34m=\u001b[0m \u001b[0mComplex\u001b[0m\u001b[0;34m(\u001b[0m\u001b[0;36m5\u001b[0m\u001b[0;34m,\u001b[0m\u001b[0;36m6\u001b[0m\u001b[0;34m)\u001b[0m\u001b[0;34m\u001b[0m\u001b[0m\n\u001b[0m",
      "\u001b[0;31mNameError\u001b[0m: name 'Complex' is not defined"
     ]
    }
   ],
   "source": [
    "cdemo1 = Complex(5,6)"
   ]
  },
  {
   "cell_type": "markdown",
   "metadata": {},
   "source": [
    "Complex was not defined because we had \"hid\" it!"
   ]
  },
  {
   "cell_type": "code",
   "execution_count": 3,
   "metadata": {},
   "outputs": [
    {
     "data": {
      "text/plain": [
       "['Dual',\n",
       " 'RealExtensions',\n",
       " '_Complex',\n",
       " '__builtins__',\n",
       " '__cached__',\n",
       " '__doc__',\n",
       " '__file__',\n",
       " '__loader__',\n",
       " '__name__',\n",
       " '__package__',\n",
       " '__spec__',\n",
       " 'math']"
      ]
     },
     "execution_count": 3,
     "metadata": {},
     "output_type": "execute_result"
    }
   ],
   "source": [
    "import mynumbers\n",
    "dir(mynumbers)"
   ]
  },
  {
   "cell_type": "markdown",
   "metadata": {},
   "source": [
    "### Part 3\n",
    "\n",
    "One situation in which name mangling could be useful is if we wanted to implement ways to transform the complex numbers given the a and b. If we wanted to keep the original values of a and b in the superclass we would precede the names with a double underscore, and then we could safely change the a and b in the Complex or Dual class. Then, we could be able to see what the original a and b values were from the superclass, while still naming the transformed values in the Complex or Dual objects a and b."
   ]
  },
  {
   "cell_type": "code",
   "execution_count": null,
   "metadata": {
    "collapsed": true
   },
   "outputs": [],
   "source": []
  }
 ],
 "metadata": {
  "kernelspec": {
   "display_name": "Python 3",
   "language": "python",
   "name": "python3"
  },
  "language_info": {
   "codemirror_mode": {
    "name": "ipython",
    "version": 3
   },
   "file_extension": ".py",
   "mimetype": "text/x-python",
   "name": "python",
   "nbconvert_exporter": "python",
   "pygments_lexer": "ipython3",
   "version": "3.6.3"
  }
 },
 "nbformat": 4,
 "nbformat_minor": 2
}
