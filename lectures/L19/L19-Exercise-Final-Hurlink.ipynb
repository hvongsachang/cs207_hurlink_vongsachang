{
 "cells": [
  {
   "cell_type": "code",
   "execution_count": 1,
   "metadata": {
    "collapsed": true
   },
   "outputs": [],
   "source": [
    "import sqlite3"
   ]
  },
  {
   "cell_type": "code",
   "execution_count": 2,
   "metadata": {},
   "outputs": [
    {
     "data": {
      "text/plain": [
       "<sqlite3.Cursor at 0x10e0dcb90>"
      ]
     },
     "execution_count": 2,
     "metadata": {},
     "output_type": "execute_result"
    }
   ],
   "source": [
    "db = sqlite3.connect('candidates.sqlite')\n",
    "cursor = db.cursor()\n",
    "cursor.execute(\"DROP TABLE IF EXISTS candidates\") # Convenient in case you want to start over\n",
    "cursor.execute(\"DROP TABLE IF EXISTS contributors\") # Convenient in case you want to start over"
   ]
  },
  {
   "cell_type": "code",
   "execution_count": 3,
   "metadata": {},
   "outputs": [
    {
     "data": {
      "text/plain": [
       "<sqlite3.Cursor at 0x10e0dcb90>"
      ]
     },
     "execution_count": 3,
     "metadata": {},
     "output_type": "execute_result"
    }
   ],
   "source": [
    "cursor.execute(\"PRAGMA foreign_keys=1\")"
   ]
  },
  {
   "cell_type": "code",
   "execution_count": 4,
   "metadata": {
    "collapsed": true
   },
   "outputs": [],
   "source": [
    "cursor.execute('''CREATE TABLE candidates (\n",
    "               id INTEGER PRIMARY KEY NOT NULL, \n",
    "               first_name TEXT, \n",
    "               last_name TEXT, \n",
    "               middle_init TEXT, \n",
    "               party TEXT NOT NULL)''')\n",
    "\n",
    "db.commit() # Commit changes to the database"
   ]
  },
  {
   "cell_type": "code",
   "execution_count": 5,
   "metadata": {},
   "outputs": [],
   "source": [
    "cands = []\n",
    "\n",
    "with open('candidates.txt', \"r\") as f:\n",
    "    next(f)\n",
    "    for line in f:\n",
    "        line = line.replace('\\n','')\n",
    "        cands.append(line.split('|'))"
   ]
  },
  {
   "cell_type": "code",
   "execution_count": 6,
   "metadata": {},
   "outputs": [],
   "source": [
    "for row in cands:\n",
    "    cursor.execute('''INSERT INTO candidates\n",
    "               (id, first_name, last_name, middle_init, party)\n",
    "               VALUES (?, ?, ?, ?, ?)''', \n",
    "                (row[0], row[1], row[2], row[3], row[4]))\n",
    "    db.commit()"
   ]
  },
  {
   "cell_type": "code",
   "execution_count": 7,
   "metadata": {},
   "outputs": [
    {
     "name": "stdout",
     "output_type": "stream",
     "text": [
      "[(16, 'Mike', 'Huckabee', '', 'R'), (20, 'Barack', 'Obama', '', 'D'), (22, 'Rudolph', 'Giuliani', '', 'R'), (24, 'Mike', 'Gravel', '', 'D'), (26, 'John', 'Edwards', '', 'D'), (29, 'Bill', 'Richardson', '', 'D'), (30, 'Duncan', 'Hunter', '', 'R'), (31, 'Dennis', 'Kucinich', '', 'D'), (32, 'Ron', 'Paul', '', 'R'), (33, 'Joseph', 'Biden', '', 'D'), (34, 'Hillary', 'Clinton', 'R.', 'D'), (35, 'Mitt', 'Romney', '', 'R'), (36, 'Samuel', 'Brownback', '', 'R'), (37, 'John', 'McCain', '', 'R'), (38, 'Tom', 'Tancredo', '', 'R'), (39, 'Christopher', 'Dodd', 'J.', 'D'), (41, 'Fred', 'Thompson', 'D.', 'R')]\n"
     ]
    }
   ],
   "source": [
    "cursor.execute(\"SELECT * FROM candidates\")\n",
    "all_rows = cursor.fetchall()\n",
    "print(all_rows)"
   ]
  }
 ],
 "metadata": {
  "kernelspec": {
   "display_name": "Python 3",
   "language": "python",
   "name": "python3"
  },
  "language_info": {
   "codemirror_mode": {
    "name": "ipython",
    "version": 3
   },
   "file_extension": ".py",
   "mimetype": "text/x-python",
   "name": "python",
   "nbconvert_exporter": "python",
   "pygments_lexer": "ipython3",
   "version": "3.6.3"
  }
 },
 "nbformat": 4,
 "nbformat_minor": 2
}
