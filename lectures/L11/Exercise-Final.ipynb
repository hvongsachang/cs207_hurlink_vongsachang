{
 "cells": [
  {
   "cell_type": "markdown",
   "metadata": {},
   "source": [
    "# Exercise:  Documentation and Testing\n",
    "The following little program needs some documentation and some tests.  Since you didn't write it, I'll tell you what it's supposed to do.  You'll need to document it.  Feel free to test for additional exceptions if you have time but start with it as it is.\n",
    "\n",
    "The point of the program is to compute the $L_{2}$ norm of a vector $v$.  A second argument, if provided, will be interpreted as a vector of weights.  The second argument must have the same length as the input vector.\n",
    "\n",
    "**NOTE:** The input type of the vectors for this program should be a list of numbers.\n",
    "\n",
    "As a reminder, the weighted $L_2$ norm of a vector $v$ is given by \n",
    "\\begin{align*}\n",
    "  \\|v\\|_{W} = \\sqrt{\\sum_{i=1}^{N}{\\left(w_{i}v_{i}\\right)^2}}\n",
    "\\end{align*}\n",
    "where $N$ is the length of the vector $v$, $v_{i}$ is the i-th component of the vector $v$ and $w_{i}$ is the i-th component of the weight vector.\n",
    "\n",
    "#### Requirements\n",
    "* You must write the documentation and a decent test suite.  Try to include some doctests as well!\n",
    "* Use the `pytest` module to run the doctests and unit tests and to assess the code coverage.\n",
    "\n",
    "If you don't already have `pytest`, you can install it using `pip install pytest`.  If you have trouble installing, here's the website: [`pytest` installation](https://docs.pytest.org/en/latest/getting-started.html)."
   ]
  },
  {
   "cell_type": "code",
   "execution_count": 6,
   "metadata": {
    "collapsed": true
   },
   "outputs": [],
   "source": [
    "import numpy as np\n",
    "\n",
    "def L2(v, *args):\n",
    "    \"\"\"Returns the L2 norm of a vector v. A second argument, if provided, will be interpreted as a vector of weights.\n",
    "    \n",
    "    INPUTS\n",
    "    =======\n",
    "    v: list of numbers, required\n",
    "       vector\n",
    "    w: list of numbers, optional, fed into *args\n",
    "       vector of weights\n",
    "    \n",
    "    RETURNS\n",
    "    ========\n",
    "    sqrt(s): a number representing the l2 norm of the vector v\n",
    "       unless length of w is not equal to length of v\n",
    "       in which case ValueError is raised\n",
    "\n",
    "    NOTES\n",
    "    =====\n",
    "    PRE: \n",
    "         - v is a list of numbers\n",
    "    POST:\n",
    "         - v and w (optional) are not changed by this function\n",
    "         - raises a ValueError exception if len(w) != len(v)\n",
    "         - returns a number\n",
    "\n",
    "    EXAMPLES\n",
    "    =========\n",
    "    >>> L2([1.0, 1.0, 1.0], [3.0, 4.0, 5.0])\n",
    "    7.0710678118654755\n",
    "    \"\"\"\n",
    "    s = 0.0 # Initialize sum\n",
    "    if len(args) == 0: # No weight vector\n",
    "        for vi in v:\n",
    "            s += vi * vi\n",
    "    else: # Weight vector present\n",
    "        w = args[0] # Get the weight vector\n",
    "        if (len(w) != len(v)): # Check lengths of lists\n",
    "            raise ValueError(\"Length of list of weights must match length of target list.\")\n",
    "        for i, vi in enumerate(v):\n",
    "            s += w[i] * w[i] * vi * vi\n",
    "    return np.sqrt(s)"
   ]
  },
  {
   "cell_type": "code",
   "execution_count": 7,
   "metadata": {},
   "outputs": [
    {
     "name": "stdout",
     "output_type": "stream",
     "text": [
      "Trying:\n",
      "    L2([1.0, 1.0, 1.0], [3.0, 4.0, 5.0])\n",
      "Expecting:\n",
      "    7.0710678118654755\n",
      "ok\n",
      "1 items had no tests:\n",
      "    __main__\n",
      "1 items passed all tests:\n",
      "   1 tests in __main__.L2\n",
      "1 tests in 2 items.\n",
      "1 passed and 0 failed.\n",
      "Test passed.\n"
     ]
    },
    {
     "data": {
      "text/plain": [
       "TestResults(failed=0, attempted=1)"
      ]
     },
     "execution_count": 7,
     "metadata": {},
     "output_type": "execute_result"
    }
   ],
   "source": [
    "import doctest\n",
    "doctest.testmod(verbose=True)"
   ]
  },
  {
   "cell_type": "markdown",
   "metadata": {},
   "source": [
    "#### Rewriting L2 to a file called L2.py for pytest testing"
   ]
  },
  {
   "cell_type": "code",
   "execution_count": 1,
   "metadata": {},
   "outputs": [
    {
     "name": "stdout",
     "output_type": "stream",
     "text": [
      "Writing L2_final_hurlink.py\n"
     ]
    }
   ],
   "source": [
    "%%file L2_final_hurlink.py\n",
    "import numpy as np\n",
    "\n",
    "def L2(v, *args):\n",
    "    \"\"\"Returns the L2 norm of a vector v. A second argument, if provided, will be interpreted as a vector of weights.\n",
    "    \n",
    "    INPUTS\n",
    "    =======\n",
    "    v: list of numbers, required\n",
    "       vector\n",
    "    w: list of numbers, optional, fed into *args\n",
    "       vector of weights\n",
    "    \n",
    "    RETURNS\n",
    "    ========\n",
    "    sqrt(s): a number representing the l2 norm of the vector v\n",
    "       unless length of w is not equal to length of v\n",
    "       in which case ValueError is raised\n",
    "\n",
    "    NOTES\n",
    "    =====\n",
    "    PRE: \n",
    "         - v is a list of numbers\n",
    "    POST:\n",
    "         - v and w (optional) are not changed by this function\n",
    "         - raises a ValueError exception if len(w) != len(v)\n",
    "         - returns a number\n",
    "\n",
    "    EXAMPLES\n",
    "    =========\n",
    "    >>> L2([1.0, 1.0, 1.0], [3.0, 4.0, 5.0])\n",
    "    7.0710678118654755\n",
    "    \"\"\"\n",
    "    s = 0.0 # Initialize sum\n",
    "    if len(args) == 0: # No weight vector\n",
    "        for vi in v:\n",
    "            s += vi * vi\n",
    "    else: # Weight vector present\n",
    "        w = args[0] # Get the weight vector\n",
    "        if (len(w) != len(v)): # Check lengths of lists\n",
    "            raise ValueError(\"Length of list of weights must match length of target list.\")\n",
    "        for i, vi in enumerate(v):\n",
    "            s += w[i] * w[i] * vi * vi\n",
    "    return np.sqrt(s)"
   ]
  },
  {
   "cell_type": "code",
   "execution_count": 2,
   "metadata": {},
   "outputs": [
    {
     "name": "stdout",
     "output_type": "stream",
     "text": [
      "Writing test_L2_final_hurlink.py\n"
     ]
    }
   ],
   "source": [
    "%%file test_L2_final_hurlink.py\n",
    "import pytest\n",
    "import L2\n",
    "\n",
    "def test_quadroots_result():\n",
    "    assert L2.L2([1.0, 1.0, 1.0], [3.0, 4.0, 5.0]) == 7.0710678118654755\n",
    "    assert L2.L2([3.0, 4.0, 5.0]) == 7.0710678118654755\n",
    "    \n",
    "def test_quadroots_types():\n",
    "    with pytest.raises(TypeError):\n",
    "        L2.L2(['3', '4', '5'])\n",
    "\n",
    "def test_quadroots_zerocoeff():\n",
    "    with pytest.raises(ValueError):\n",
    "        L2.L2([1.0, 1.0, 1.0], [3.0, 4.0, 5.0, 9999.0])"
   ]
  },
  {
   "cell_type": "code",
   "execution_count": 3,
   "metadata": {},
   "outputs": [
    {
     "name": "stdout",
     "output_type": "stream",
     "text": [
      "Traceback (most recent call last):\n",
      "  File \"/Users/hurlink/anaconda3/lib/python3.6/site-packages/_pytest/vendored_packages/pluggy.py\", line 510, in load_setuptools_entrypoints\n",
      "    plugin = ep.load()\n",
      "  File \"/Users/hurlink/anaconda3/lib/python3.6/site-packages/pkg_resources/__init__.py\", line 2404, in load\n",
      "    self.require(*args, **kwargs)\n",
      "  File \"/Users/hurlink/anaconda3/lib/python3.6/site-packages/pkg_resources/__init__.py\", line 2427, in require\n",
      "    items = working_set.resolve(reqs, env, installer, extras=self.extras)\n",
      "  File \"/Users/hurlink/anaconda3/lib/python3.6/site-packages/pkg_resources/__init__.py\", line 872, in resolve\n",
      "    raise VersionConflict(dist, req).with_context(dependent_req)\n",
      "pkg_resources.VersionConflict: (coverage 4.0.3 (/Users/hurlink/anaconda3/lib/python3.6/site-packages), Requirement.parse('coverage>=4.4'))\n",
      "\n",
      "During handling of the above exception, another exception occurred:\n",
      "\n",
      "Traceback (most recent call last):\n",
      "  File \"/Users/hurlink/anaconda3/bin/pytest\", line 11, in <module>\n",
      "    sys.exit(main())\n",
      "  File \"/Users/hurlink/anaconda3/lib/python3.6/site-packages/_pytest/config.py\", line 49, in main\n",
      "    config = _prepareconfig(args, plugins)\n",
      "  File \"/Users/hurlink/anaconda3/lib/python3.6/site-packages/_pytest/config.py\", line 168, in _prepareconfig\n",
      "    pluginmanager=pluginmanager, args=args)\n",
      "  File \"/Users/hurlink/anaconda3/lib/python3.6/site-packages/_pytest/vendored_packages/pluggy.py\", line 745, in __call__\n",
      "    return self._hookexec(self, self._nonwrappers + self._wrappers, kwargs)\n",
      "  File \"/Users/hurlink/anaconda3/lib/python3.6/site-packages/_pytest/vendored_packages/pluggy.py\", line 339, in _hookexec\n",
      "    return self._inner_hookexec(hook, methods, kwargs)\n",
      "  File \"/Users/hurlink/anaconda3/lib/python3.6/site-packages/_pytest/vendored_packages/pluggy.py\", line 334, in <lambda>\n",
      "    _MultiCall(methods, kwargs, hook.spec_opts).execute()\n",
      "  File \"/Users/hurlink/anaconda3/lib/python3.6/site-packages/_pytest/vendored_packages/pluggy.py\", line 613, in execute\n",
      "    return _wrapped_call(hook_impl.function(*args), self.execute)\n",
      "  File \"/Users/hurlink/anaconda3/lib/python3.6/site-packages/_pytest/vendored_packages/pluggy.py\", line 250, in _wrapped_call\n",
      "    wrap_controller.send(call_outcome)\n",
      "  File \"/Users/hurlink/anaconda3/lib/python3.6/site-packages/_pytest/helpconfig.py\", line 68, in pytest_cmdline_parse\n",
      "    config = outcome.get_result()\n",
      "  File \"/Users/hurlink/anaconda3/lib/python3.6/site-packages/_pytest/vendored_packages/pluggy.py\", line 279, in get_result\n",
      "    raise ex[1].with_traceback(ex[2])\n",
      "  File \"/Users/hurlink/anaconda3/lib/python3.6/site-packages/_pytest/vendored_packages/pluggy.py\", line 265, in __init__\n",
      "    self.result = func()\n",
      "  File \"/Users/hurlink/anaconda3/lib/python3.6/site-packages/_pytest/vendored_packages/pluggy.py\", line 614, in execute\n",
      "    res = hook_impl.function(*args)\n",
      "  File \"/Users/hurlink/anaconda3/lib/python3.6/site-packages/_pytest/config.py\", line 957, in pytest_cmdline_parse\n",
      "    self.parse(args)\n",
      "  File \"/Users/hurlink/anaconda3/lib/python3.6/site-packages/_pytest/config.py\", line 1121, in parse\n",
      "    self._preparse(args, addopts=addopts)\n",
      "  File \"/Users/hurlink/anaconda3/lib/python3.6/site-packages/_pytest/config.py\", line 1084, in _preparse\n",
      "    self.pluginmanager.load_setuptools_entrypoints('pytest11')\n",
      "  File \"/Users/hurlink/anaconda3/lib/python3.6/site-packages/_pytest/vendored_packages/pluggy.py\", line 515, in load_setuptools_entrypoints\n",
      "    \"Plugin %r could not be loaded: %s!\" % (ep.name, e))\n",
      "_pytest.vendored_packages.pluggy.PluginValidationError: Plugin 'pytest_cov' could not be loaded: (coverage 4.0.3 (/Users/hurlink/anaconda3/lib/python3.6/site-packages), Requirement.parse('coverage>=4.4'))!\n"
     ]
    }
   ],
   "source": [
    "!pytest"
   ]
  },
  {
   "cell_type": "code",
   "execution_count": 23,
   "metadata": {},
   "outputs": [
    {
     "name": "stdout",
     "output_type": "stream",
     "text": [
      "\u001b[1m============================= test session starts ==============================\u001b[0m\n",
      "platform darwin -- Python 3.6.3, pytest-3.2.1, py-1.4.34, pluggy-0.4.0\n",
      "rootdir: /Users/hurlink/Desktop/CS207/cs207_hurlink_vongsachang/lectures/L11, inifile:\n",
      "plugins: cov-2.6.0\n",
      "collected 3 items                                                               \u001b[0m\u001b[1m\n",
      "\n",
      "test_L2.py ...\n",
      "\n",
      "---------- coverage: platform darwin, python 3.6.3-final-0 -----------\n",
      "Name         Stmts   Miss  Cover\n",
      "--------------------------------\n",
      "L2.py           12      0   100%\n",
      "test_L2.py      11      0   100%\n",
      "--------------------------------\n",
      "TOTAL           23      0   100%\n",
      "\n",
      "\n",
      "\u001b[32m\u001b[1m=========================== 3 passed in 0.19 seconds ===========================\u001b[0m\n"
     ]
    }
   ],
   "source": [
    "!pytest --cov"
   ]
  },
  {
   "cell_type": "code",
   "execution_count": 24,
   "metadata": {},
   "outputs": [
    {
     "name": "stdout",
     "output_type": "stream",
     "text": [
      "\u001b[1m============================= test session starts ==============================\u001b[0m\n",
      "platform darwin -- Python 3.6.3, pytest-3.2.1, py-1.4.34, pluggy-0.4.0\n",
      "rootdir: /Users/hurlink/Desktop/CS207/cs207_hurlink_vongsachang/lectures/L11, inifile:\n",
      "plugins: cov-2.6.0\n",
      "collected 3 items                                                               \u001b[0m\u001b[1m\n",
      "\n",
      "test_L2.py ...\n",
      "\n",
      "---------- coverage: platform darwin, python 3.6.3-final-0 -----------\n",
      "Name         Stmts   Miss  Cover   Missing\n",
      "------------------------------------------\n",
      "L2.py           12      0   100%\n",
      "test_L2.py      11      0   100%\n",
      "------------------------------------------\n",
      "TOTAL           23      0   100%\n",
      "\n",
      "\n",
      "\u001b[32m\u001b[1m=========================== 3 passed in 0.20 seconds ===========================\u001b[0m\n"
     ]
    }
   ],
   "source": [
    "!pytest --cov --cov-report term-missing"
   ]
  },
  {
   "cell_type": "code",
   "execution_count": 25,
   "metadata": {},
   "outputs": [
    {
     "name": "stdout",
     "output_type": "stream",
     "text": [
      "\u001b[1m============================= test session starts ==============================\u001b[0m\n",
      "platform darwin -- Python 3.6.3, pytest-3.2.1, py-1.4.34, pluggy-0.4.0\n",
      "rootdir: /Users/hurlink/Desktop/CS207/cs207_hurlink_vongsachang/lectures/L11, inifile:\n",
      "plugins: cov-2.6.0\n",
      "collected 4 items                                                               \u001b[0m\u001b[1m\u001b[1m\n",
      "\n",
      "L2.py .\n",
      "test_L2.py ...\n",
      "\n",
      "---------- coverage: platform darwin, python 3.6.3-final-0 -----------\n",
      "Name         Stmts   Miss  Cover   Missing\n",
      "------------------------------------------\n",
      "L2.py           12      0   100%\n",
      "test_L2.py      11      0   100%\n",
      "------------------------------------------\n",
      "TOTAL           23      0   100%\n",
      "\n",
      "\n",
      "\u001b[32m\u001b[1m=========================== 4 passed in 0.20 seconds ===========================\u001b[0m\n"
     ]
    }
   ],
   "source": [
    "!pytest --doctest-modules --cov --cov-report term-missing"
   ]
  }
 ],
 "metadata": {
  "kernelspec": {
   "display_name": "Python 3",
   "language": "python",
   "name": "python3"
  },
  "language_info": {
   "codemirror_mode": {
    "name": "ipython",
    "version": 3
   },
   "file_extension": ".py",
   "mimetype": "text/x-python",
   "name": "python",
   "nbconvert_exporter": "python",
   "pygments_lexer": "ipython3",
   "version": "3.6.3"
  }
 },
 "nbformat": 4,
 "nbformat_minor": 2
}
