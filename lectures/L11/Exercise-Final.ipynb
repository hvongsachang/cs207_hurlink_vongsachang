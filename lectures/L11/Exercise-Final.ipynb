{
 "cells": [
  {
   "cell_type": "markdown",
   "metadata": {},
   "source": [
    "# Exercise:  Documentation and Testing\n",
    "The following little program needs some documentation and some tests.  Since you didn't write it, I'll tell you what it's supposed to do.  You'll need to document it.  Feel free to test for additional exceptions if you have time but start with it as it is.\n",
    "\n",
    "The point of the program is to compute the $L_{2}$ norm of a vector $v$.  A second argument, if provided, will be interpreted as a vector of weights.  The second argument must have the same length as the input vector.\n",
    "\n",
    "**NOTE:** The input type of the vectors for this program should be a list of numbers.\n",
    "\n",
    "As a reminder, the weighted $L_2$ norm of a vector $v$ is given by \n",
    "\\begin{align*}\n",
    "  \\|v\\|_{W} = \\sqrt{\\sum_{i=1}^{N}{\\left(w_{i}v_{i}\\right)^2}}\n",
    "\\end{align*}\n",
    "where $N$ is the length of the vector $v$, $v_{i}$ is the i-th component of the vector $v$ and $w_{i}$ is the i-th component of the weight vector.\n",
    "\n",
    "#### Requirements\n",
    "* You must write the documentation and a decent test suite.  Try to include some doctests as well!\n",
    "* Use the `pytest` module to run the doctests and unit tests and to assess the code coverage.\n",
    "\n",
    "If you don't already have `pytest`, you can install it using `pip install pytest`.  If you have trouble installing, here's the website: [`pytest` installation](https://docs.pytest.org/en/latest/getting-started.html)."
   ]
  },
  {
   "cell_type": "code",
   "execution_count": 6,
   "metadata": {
    "collapsed": true
   },
   "outputs": [],
   "source": [
    "import numpy as np\n",
    "\n",
    "def L2(v, *args):\n",
    "    \"\"\"Returns the L2 norm of a vector v. A second argument, if provided, will be interpreted as a vector of weights.\n",
    "    \n",
    "    INPUTS\n",
    "    =======\n",
    "    v: list of numbers, required\n",
    "       vector\n",
    "    w: list of numbers, optional, fed into *args\n",
    "       vector of weights\n",
    "    \n",
    "    RETURNS\n",
    "    ========\n",
    "    sqrt(s): a number representing the l2 norm of the vector v\n",
    "       unless length of w is not equal to length of v\n",
    "       in which case ValueError is raised\n",
    "\n",
    "    NOTES\n",
    "    =====\n",
    "    PRE: \n",
    "         - v is a list of numbers\n",
    "    POST:\n",
    "         - v and w (optional) are not changed by this function\n",
    "         - raises a ValueError exception if len(w) != len(v)\n",
    "         - returns a number\n",
    "\n",
    "    EXAMPLES\n",
    "    =========\n",
    "    >>> L2([1.0, 1.0, 1.0], [3.0, 4.0, 5.0])\n",
    "    7.0710678118654755\n",
    "    \"\"\"\n",
    "    s = 0.0 # Initialize sum\n",
    "    if len(args) == 0: # No weight vector\n",
    "        for vi in v:\n",
    "            s += vi * vi\n",
    "    else: # Weight vector present\n",
    "        w = args[0] # Get the weight vector\n",
    "        if (len(w) != len(v)): # Check lengths of lists\n",
    "            raise ValueError(\"Length of list of weights must match length of target list.\")\n",
    "        for i, vi in enumerate(v):\n",
    "            s += w[i] * w[i] * vi * vi\n",
    "    return np.sqrt(s)"
   ]
  },
  {
   "cell_type": "code",
   "execution_count": 7,
   "metadata": {},
   "outputs": [
    {
     "name": "stdout",
     "output_type": "stream",
     "text": [
      "Trying:\n",
      "    L2([1.0, 1.0, 1.0], [3.0, 4.0, 5.0])\n",
      "Expecting:\n",
      "    7.0710678118654755\n",
      "ok\n",
      "1 items had no tests:\n",
      "    __main__\n",
      "1 items passed all tests:\n",
      "   1 tests in __main__.L2\n",
      "1 tests in 2 items.\n",
      "1 passed and 0 failed.\n",
      "Test passed.\n"
     ]
    },
    {
     "data": {
      "text/plain": [
       "TestResults(failed=0, attempted=1)"
      ]
     },
     "execution_count": 7,
     "metadata": {},
     "output_type": "execute_result"
    }
   ],
   "source": [
    "import doctest\n",
    "doctest.testmod(verbose=True)"
   ]
  },
  {
   "cell_type": "markdown",
   "metadata": {},
   "source": [
    "#### Rewriting L2 to a file called L2.py for pytest testing"
   ]
  },
  {
   "cell_type": "code",
   "execution_count": 19,
   "metadata": {},
   "outputs": [
    {
     "name": "stdout",
     "output_type": "stream",
     "text": [
      "Overwriting L2.py\n"
     ]
    }
   ],
   "source": [
    "%%file L2.py\n",
    "import numpy as np\n",
    "\n",
    "def L2(v, *args):\n",
    "    \"\"\"Returns the L2 norm of a vector v. A second argument, if provided, will be interpreted as a vector of weights.\n",
    "    \n",
    "    INPUTS\n",
    "    =======\n",
    "    v: list of numbers, required\n",
    "       vector\n",
    "    w: list of numbers, optional, fed into *args\n",
    "       vector of weights\n",
    "    \n",
    "    RETURNS\n",
    "    ========\n",
    "    sqrt(s): a number representing the l2 norm of the vector v\n",
    "       unless length of w is not equal to length of v\n",
    "       in which case ValueError is raised\n",
    "\n",
    "    NOTES\n",
    "    =====\n",
    "    PRE: \n",
    "         - v is a list of numbers\n",
    "    POST:\n",
    "         - v and w (optional) are not changed by this function\n",
    "         - raises a ValueError exception if len(w) != len(v)\n",
    "         - returns a number\n",
    "\n",
    "    EXAMPLES\n",
    "    =========\n",
    "    >>> L2([1.0, 1.0, 1.0], [3.0, 4.0, 5.0])\n",
    "    7.0710678118654755\n",
    "    \"\"\"\n",
    "    s = 0.0 # Initialize sum\n",
    "    if len(args) == 0: # No weight vector\n",
    "        for vi in v:\n",
    "            s += vi * vi\n",
    "    else: # Weight vector present\n",
    "        w = args[0] # Get the weight vector\n",
    "        if (len(w) != len(v)): # Check lengths of lists\n",
    "            raise ValueError(\"Length of list of weights must match length of target list.\")\n",
    "        for i, vi in enumerate(v):\n",
    "            s += w[i] * w[i] * vi * vi\n",
    "    return np.sqrt(s)"
   ]
  },
  {
   "cell_type": "code",
   "execution_count": 20,
   "metadata": {},
   "outputs": [
    {
     "name": "stdout",
     "output_type": "stream",
     "text": [
      "Overwriting test_L2.py\n"
     ]
    }
   ],
   "source": [
    "%%file test_L2.py\n",
    "import pytest\n",
    "import L2\n",
    "\n",
    "def test_quadroots_result():\n",
    "    assert L2.L2([1.0, 1.0, 1.0], [3.0, 4.0, 5.0]) == 7.0710678118654755\n",
    "    assert L2.L2([3.0, 4.0, 5.0]) == 7.0710678118654755\n",
    "    \n",
    "def test_quadroots_types():\n",
    "    with pytest.raises(TypeError):\n",
    "        L2.L2(['3', '4', '5'])\n",
    "\n",
    "def test_quadroots_zerocoeff():\n",
    "    with pytest.raises(ValueError):\n",
    "        L2.L2([1.0, 1.0, 1.0], [3.0, 4.0, 5.0, 9999.0])"
   ]
  },
  {
   "cell_type": "code",
   "execution_count": 21,
   "metadata": {},
   "outputs": [
    {
     "name": "stdout",
     "output_type": "stream",
     "text": [
      "\u001b[1m============================= test session starts ==============================\u001b[0m\n",
      "platform darwin -- Python 3.6.3, pytest-3.2.1, py-1.4.34, pluggy-0.4.0\n",
      "rootdir: /Users/hurlink/Desktop/CS207/cs207_hurlink_vongsachang/lectures/L11, inifile:\n",
      "collected 3 items                                                               \u001b[0m\u001b[1m\u001b[1m\n",
      "\n",
      "test_L2.py ...\n",
      "\n",
      "\u001b[32m\u001b[1m=========================== 3 passed in 0.14 seconds ===========================\u001b[0m\n"
     ]
    }
   ],
   "source": [
    "!pytest"
   ]
  },
  {
   "cell_type": "code",
   "execution_count": 23,
   "metadata": {},
   "outputs": [
    {
     "name": "stdout",
     "output_type": "stream",
     "text": [
      "\u001b[1m============================= test session starts ==============================\u001b[0m\n",
      "platform darwin -- Python 3.6.3, pytest-3.2.1, py-1.4.34, pluggy-0.4.0\n",
      "rootdir: /Users/hurlink/Desktop/CS207/cs207_hurlink_vongsachang/lectures/L11, inifile:\n",
      "plugins: cov-2.6.0\n",
      "collected 3 items                                                               \u001b[0m\u001b[1m\n",
      "\n",
      "test_L2.py ...\n",
      "\n",
      "---------- coverage: platform darwin, python 3.6.3-final-0 -----------\n",
      "Name         Stmts   Miss  Cover\n",
      "--------------------------------\n",
      "L2.py           12      0   100%\n",
      "test_L2.py      11      0   100%\n",
      "--------------------------------\n",
      "TOTAL           23      0   100%\n",
      "\n",
      "\n",
      "\u001b[32m\u001b[1m=========================== 3 passed in 0.19 seconds ===========================\u001b[0m\n"
     ]
    }
   ],
   "source": [
    "!pytest --cov"
   ]
  },
  {
   "cell_type": "code",
   "execution_count": 24,
   "metadata": {},
   "outputs": [
    {
     "name": "stdout",
     "output_type": "stream",
     "text": [
      "\u001b[1m============================= test session starts ==============================\u001b[0m\n",
      "platform darwin -- Python 3.6.3, pytest-3.2.1, py-1.4.34, pluggy-0.4.0\n",
      "rootdir: /Users/hurlink/Desktop/CS207/cs207_hurlink_vongsachang/lectures/L11, inifile:\n",
      "plugins: cov-2.6.0\n",
      "collected 3 items                                                               \u001b[0m\u001b[1m\n",
      "\n",
      "test_L2.py ...\n",
      "\n",
      "---------- coverage: platform darwin, python 3.6.3-final-0 -----------\n",
      "Name         Stmts   Miss  Cover   Missing\n",
      "------------------------------------------\n",
      "L2.py           12      0   100%\n",
      "test_L2.py      11      0   100%\n",
      "------------------------------------------\n",
      "TOTAL           23      0   100%\n",
      "\n",
      "\n",
      "\u001b[32m\u001b[1m=========================== 3 passed in 0.20 seconds ===========================\u001b[0m\n"
     ]
    }
   ],
   "source": [
    "!pytest --cov --cov-report term-missing"
   ]
  },
  {
   "cell_type": "code",
   "execution_count": 25,
   "metadata": {},
   "outputs": [
    {
     "name": "stdout",
     "output_type": "stream",
     "text": [
      "\u001b[1m============================= test session starts ==============================\u001b[0m\n",
      "platform darwin -- Python 3.6.3, pytest-3.2.1, py-1.4.34, pluggy-0.4.0\n",
      "rootdir: /Users/hurlink/Desktop/CS207/cs207_hurlink_vongsachang/lectures/L11, inifile:\n",
      "plugins: cov-2.6.0\n",
      "collected 4 items                                                               \u001b[0m\u001b[1m\u001b[1m\n",
      "\n",
      "L2.py .\n",
      "test_L2.py ...\n",
      "\n",
      "---------- coverage: platform darwin, python 3.6.3-final-0 -----------\n",
      "Name         Stmts   Miss  Cover   Missing\n",
      "------------------------------------------\n",
      "L2.py           12      0   100%\n",
      "test_L2.py      11      0   100%\n",
      "------------------------------------------\n",
      "TOTAL           23      0   100%\n",
      "\n",
      "\n",
      "\u001b[32m\u001b[1m=========================== 4 passed in 0.20 seconds ===========================\u001b[0m\n"
     ]
    }
   ],
   "source": [
    "!pytest --doctest-modules --cov --cov-report term-missing"
   ]
  }
 ],
 "metadata": {
  "kernelspec": {
   "display_name": "Python 3",
   "language": "python",
   "name": "python3"
  },
  "language_info": {
   "codemirror_mode": {
    "name": "ipython",
    "version": 3
   },
   "file_extension": ".py",
   "mimetype": "text/x-python",
   "name": "python",
   "nbconvert_exporter": "python",
   "pygments_lexer": "ipython3",
   "version": "3.6.3"
  }
 },
 "nbformat": 4,
 "nbformat_minor": 2
}
