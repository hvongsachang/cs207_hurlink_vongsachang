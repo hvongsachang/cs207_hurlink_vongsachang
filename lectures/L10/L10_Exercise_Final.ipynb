{
 "cells": [
  {
   "cell_type": "markdown",
   "metadata": {},
   "source": [
    "### Exercise\n",
    "Your turn.  Using the same approach as above, write some code to do forward mode automatic differentiation of the function $$f\\left(x\\right) = x^{r}$$ where $r \\in \\mathbb{R}$.  Evaluate the derivative and function at $a = 3$ and $r = 4$.\n",
    "\n",
    "You can turn this into a function or closure if that helps you with the concepts."
   ]
  },
  {
   "cell_type": "markdown",
   "metadata": {},
   "source": [
    "### Solution"
   ]
  },
  {
   "cell_type": "code",
   "execution_count": 1,
   "metadata": {},
   "outputs": [
    {
     "name": "stdout",
     "output_type": "stream",
     "text": [
      "81 108\n"
     ]
    }
   ],
   "source": [
    "class Dual():\n",
    "    def __init__(self, a, b):\n",
    "        self.real = a\n",
    "        self.dual = b\n",
    "    \n",
    "    # multiplying dual numbers\n",
    "    def __mul__(self, other):\n",
    "        return Dual(self.real * other.real, (self.real * other.dual) + (self.dual * other.real))\n",
    "\n",
    "# to create dual number, set real part to a and dual part to 1\n",
    "f = Dual(3, 1)\n",
    "\n",
    "# multiply dual number r = 4 times\n",
    "z = f * f * f * f\n",
    "print(z.real, z.dual)"
   ]
  }
 ],
 "metadata": {
  "kernelspec": {
   "display_name": "Python 3",
   "language": "python",
   "name": "python3"
  },
  "language_info": {
   "codemirror_mode": {
    "name": "ipython",
    "version": 3
   },
   "file_extension": ".py",
   "mimetype": "text/x-python",
   "name": "python",
   "nbconvert_exporter": "python",
   "pygments_lexer": "ipython3",
   "version": "3.6.3"
  }
 },
 "nbformat": 4,
 "nbformat_minor": 2
}
