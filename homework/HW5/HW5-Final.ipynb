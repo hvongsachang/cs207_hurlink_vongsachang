{
 "cells": [
  {
   "cell_type": "markdown",
   "metadata": {},
   "source": [
    "# Homework 5\n",
    "\n",
    "## Due Thursday, November 1st 2018 at 11:59 PM.\n",
    "\n",
    "### Be sure to push the final version of your notebook to your GitHub repo.  Follow the instructions on the course website.\n",
    "\n",
    "### Topics\n",
    "#### [Part 1](#part_1): Data Structures [90 points]\n",
    "- [Problem 1](#p1). Linked List Class [30 points]\n",
    "- [Problem 2](#p2). Binary Tree Class [40 points]\n",
    "- [Problem 3](#p3). Markov Chains [20 point]\n",
    "\n",
    "#### [Part 2](#part_2): Feedback [10 point]\n",
    "- [Problem 4](#p4). Course Evaluation [10 point]\n",
    "\n",
    "---"
   ]
  },
  {
   "cell_type": "markdown",
   "metadata": {},
   "source": [
    "<a id='part_1'></a>\n",
    "## Part 1: Data Structures [90 points]\n",
    "<a id='p1'></a>\n",
    "### Problem 1:  Linked List Class\n",
    "\n",
    "Write a linked list class called `LinkedList`.  Remember, a singly linked list is made up of nodes each of which contain a value and a pointer.  The first node is called the \"head node\".\n",
    "\n",
    "Here are the required methods:\n",
    "* `__init__(self, head)` where `head` is the value of the head node.  You could make the head node an attribute.\n",
    "* `__len__(self)`: Returns the number of elements in the linked list.\n",
    "* `__getitem__(self, index)` returns the value of the node corresponding to `index`.  Include checks to make sure that `index` is not out of range and that the user is not trying to index an empty list.\n",
    "* `__repr__(self)` returns `LinkedList(head_node)`.\n",
    "* `insert_front(self, element)` inserts a new node with value `element` at the beginning of the list.\n",
    "* `insert_back(self, element)` inserts a new node with value `element` at the end of the list.\n",
    "\n",
    "**Note:**  An alternative implementation is to create a `Node` class.  You are not required to make a `Node` class but you may if you prefer that implementation.  Please don't steal that implementation from the online forums.  I've seen those too and we'll know if you copied them.\n",
    "\n",
    "\n",
    "#### Basic Interface\n",
    "Here are a few examples on the expected behavior. Please make sure that the methods you implemented behave similarly.\n",
    "\n",
    "1.\n",
    "```python\n",
    "ll = LinkedList(1.0)\n",
    "print(ll, len(ll), ll._headNode)\n",
    "```\n",
    "```\n",
    "`LinkedList(1.0) 1 [1.0, None]`\n",
    "```\n",
    "2.\n",
    "```python\n",
    "ll.insert_front(-1.0)\n",
    "print(ll, len(ll), ll._headNode)\n",
    "```\n",
    "```\n",
    "`LinkedList(-1.0) 2 [-1.0, [1.0, None]]`\n",
    "```\n",
    "3.\n",
    "```python\n",
    "ll.insert_back(3.0)\n",
    "print(ll, len(ll), ll._headNode)\n",
    "```\n",
    "```\n",
    "`LinkedList(-1.0) 3 [-1.0, [1.0, [3.0, None]]]`\n",
    "```\n",
    "4.\n",
    "```python\n",
    "print(ll[0], ll[1], ll[2])\n",
    "```\n",
    "```\n",
    "`-1.0 1.0 3.0`\n",
    "```\n",
    "5.\n",
    "```python\n",
    "eval(repr(ll))\n",
    "```\n",
    "```\n",
    "`LinkedList(-1.0)`\n",
    "```\n",
    "---"
   ]
  },
  {
   "cell_type": "markdown",
   "metadata": {},
   "source": [
    "### LINKED LIST IMPLEMENTATION (SOLUTION)"
   ]
  },
  {
   "cell_type": "code",
   "execution_count": 1,
   "metadata": {
    "collapsed": true
   },
   "outputs": [],
   "source": [
    "class LinkedList(object):\n",
    "    def __init__(self, head):\n",
    "        self._headNode = [head, None]\n",
    "        self._length = 1\n",
    "    \n",
    "    def __len__(self):\n",
    "        # returns the length of the linked list\n",
    "        return self._length\n",
    "    \n",
    "    # returns the value of the node corresponding to index. \n",
    "    # Include checks to make sure that index is not out of range \n",
    "    # and that the user is not trying to index an empty list.\n",
    "    def __getitem__(self, index): \n",
    "        if index > self._length - 1:\n",
    "            raise IndexError('Linked list index out of range')\n",
    "        else:\n",
    "            temp = self._headNode\n",
    "            for _ in range(index):\n",
    "                temp = temp[1]\n",
    "            return temp[0]\n",
    "        \n",
    "    # returns LinkedList(head_node)\n",
    "    def __repr__(self):\n",
    "        return 'LinkedList({})'.format(self._headNode[0])\n",
    "    \n",
    "    # inserts a new node with value element at the beginning of the list.\n",
    "    def insert_front(self, element): \n",
    "        self._headNode = [element, self._headNode]\n",
    "        self._length = self._length + 1\n",
    "    \n",
    "    # inserts a new node with value element at the end of the list.\n",
    "    def insert_back(self, element): \n",
    "        # changes the None element at the end of the LinkedList to the new [element, None] node\n",
    "        n = 1\n",
    "        temp = self._headNode\n",
    "        # while loop to get to the end of the LL\n",
    "        while n < len(self):\n",
    "            temp = temp[1]\n",
    "            n += 1\n",
    "        temp[1] = [element, None]\n",
    "        self._length = self._length + 1"
   ]
  },
  {
   "cell_type": "markdown",
   "metadata": {},
   "source": [
    "### DEMO OF LINKED LIST IMPLEMENTATION"
   ]
  },
  {
   "cell_type": "code",
   "execution_count": 2,
   "metadata": {},
   "outputs": [
    {
     "name": "stdout",
     "output_type": "stream",
     "text": [
      "LinkedList(1.0) 1 [1.0, None]\n"
     ]
    }
   ],
   "source": [
    "ll = LinkedList(1.0)\n",
    "print(ll, len(ll), ll._headNode)"
   ]
  },
  {
   "cell_type": "code",
   "execution_count": 3,
   "metadata": {},
   "outputs": [
    {
     "data": {
      "text/plain": [
       "1.0"
      ]
     },
     "execution_count": 3,
     "metadata": {},
     "output_type": "execute_result"
    }
   ],
   "source": [
    "ll._headNode[0]"
   ]
  },
  {
   "cell_type": "code",
   "execution_count": 4,
   "metadata": {},
   "outputs": [
    {
     "name": "stdout",
     "output_type": "stream",
     "text": [
      "LinkedList(1.0) 10 [1.0, [2.0, [3.0, [4.0, [5.0, [6.0, [7.0, [8.0, [9.0, [10.0, None]]]]]]]]]]\n"
     ]
    }
   ],
   "source": [
    "nums = [2.0, 3.0, 4.0, 5.0, 6.0, 7.0, 8.0, 9.0, 10.0]\n",
    "\n",
    "for i in nums:\n",
    "    ll.insert_back(i)\n",
    "    \n",
    "print(ll, len(ll), ll._headNode)"
   ]
  },
  {
   "cell_type": "code",
   "execution_count": 5,
   "metadata": {},
   "outputs": [
    {
     "name": "stdout",
     "output_type": "stream",
     "text": [
      "LinkedList(-2.0) 13 [-2.0, [-1.0, [0.0, [1.0, [2.0, [3.0, [4.0, [5.0, [6.0, [7.0, [8.0, [9.0, [10.0, None]]]]]]]]]]]]]\n"
     ]
    }
   ],
   "source": [
    "nums = [0.0, -1.0, -2.0]\n",
    "\n",
    "for i in nums:\n",
    "    ll.insert_front(i)\n",
    "    \n",
    "print(ll, len(ll), ll._headNode)"
   ]
  },
  {
   "cell_type": "code",
   "execution_count": 6,
   "metadata": {},
   "outputs": [
    {
     "name": "stdout",
     "output_type": "stream",
     "text": [
      "-2.0 -1.0 0.0\n",
      "10.0\n"
     ]
    }
   ],
   "source": [
    "print(ll[0], ll[1], ll[2])\n",
    "print (ll[len(ll) - 1])"
   ]
  },
  {
   "cell_type": "code",
   "execution_count": 7,
   "metadata": {},
   "outputs": [
    {
     "data": {
      "text/plain": [
       "LinkedList(-2.0)"
      ]
     },
     "execution_count": 7,
     "metadata": {},
     "output_type": "execute_result"
    }
   ],
   "source": [
    "eval(repr(ll))"
   ]
  },
  {
   "cell_type": "code",
   "execution_count": 8,
   "metadata": {},
   "outputs": [
    {
     "ename": "IndexError",
     "evalue": "Linked list index out of range",
     "output_type": "error",
     "traceback": [
      "\u001b[0;31m---------------------------------------------------------------------------\u001b[0m",
      "\u001b[0;31mIndexError\u001b[0m                                Traceback (most recent call last)",
      "\u001b[0;32m<ipython-input-8-bb53ca428dd6>\u001b[0m in \u001b[0;36m<module>\u001b[0;34m()\u001b[0m\n\u001b[1;32m      1\u001b[0m \u001b[0;31m# should return an error\u001b[0m\u001b[0;34m\u001b[0m\u001b[0;34m\u001b[0m\u001b[0m\n\u001b[0;32m----> 2\u001b[0;31m \u001b[0mll\u001b[0m\u001b[0;34m[\u001b[0m\u001b[0mlen\u001b[0m\u001b[0;34m(\u001b[0m\u001b[0mll\u001b[0m\u001b[0;34m)\u001b[0m\u001b[0;34m]\u001b[0m\u001b[0;34m\u001b[0m\u001b[0m\n\u001b[0m",
      "\u001b[0;32m<ipython-input-1-45d6d78dde56>\u001b[0m in \u001b[0;36m__getitem__\u001b[0;34m(self, index)\u001b[0m\n\u001b[1;32m     13\u001b[0m     \u001b[0;32mdef\u001b[0m \u001b[0m__getitem__\u001b[0m\u001b[0;34m(\u001b[0m\u001b[0mself\u001b[0m\u001b[0;34m,\u001b[0m \u001b[0mindex\u001b[0m\u001b[0;34m)\u001b[0m\u001b[0;34m:\u001b[0m\u001b[0;34m\u001b[0m\u001b[0m\n\u001b[1;32m     14\u001b[0m         \u001b[0;32mif\u001b[0m \u001b[0mindex\u001b[0m \u001b[0;34m>\u001b[0m \u001b[0mself\u001b[0m\u001b[0;34m.\u001b[0m\u001b[0m_length\u001b[0m \u001b[0;34m-\u001b[0m \u001b[0;36m1\u001b[0m\u001b[0;34m:\u001b[0m\u001b[0;34m\u001b[0m\u001b[0m\n\u001b[0;32m---> 15\u001b[0;31m             \u001b[0;32mraise\u001b[0m \u001b[0mIndexError\u001b[0m\u001b[0;34m(\u001b[0m\u001b[0;34m'Linked list index out of range'\u001b[0m\u001b[0;34m)\u001b[0m\u001b[0;34m\u001b[0m\u001b[0m\n\u001b[0m\u001b[1;32m     16\u001b[0m         \u001b[0;32melse\u001b[0m\u001b[0;34m:\u001b[0m\u001b[0;34m\u001b[0m\u001b[0m\n\u001b[1;32m     17\u001b[0m             \u001b[0mtemp\u001b[0m \u001b[0;34m=\u001b[0m \u001b[0mself\u001b[0m\u001b[0;34m.\u001b[0m\u001b[0m_headNode\u001b[0m\u001b[0;34m\u001b[0m\u001b[0m\n",
      "\u001b[0;31mIndexError\u001b[0m: Linked list index out of range"
     ]
    }
   ],
   "source": [
    "# should return an error\n",
    "ll[len(ll)]"
   ]
  },
  {
   "cell_type": "markdown",
   "metadata": {},
   "source": [
    "<a id='p2'></a>\n",
    "### Problem 2:  Binary Tree Class\n",
    "\n",
    "A binary search tree is a binary tree with the invariant that for any particular node the left child is smaller and the right child is larger. Create the class `BinaryTree` with the following specifications:\n",
    "\n",
    "`__init__(self)`: Constructor takes no additional arguments\n",
    "\n",
    "`insert(self, val)`: This method will insert `val` into the tree\n",
    "\n",
    "`remove(self, val)`: This will remove `val` from the tree. If the node to be deleted has no children then just remove it. If the node to be deleted has only one child, remove the node and replace it with its child. If the node to be deleted has two children, replace the node to be deleted with the maximum value in the left subtree. Finally, delete the node with the maximum value in the left-subtree.\n",
    "\n",
    "`getValues(self, depth)`: Return a list of the entire row of nodes at the specified depth with `None` at the index if there is no value in the tree. The length of the list should therefore be $2^{\\text{depth}}$.\n",
    "\n",
    "Here is an example usage and output:\n",
    "\n",
    "```python\n",
    "bt = BinaryTree()\n",
    "arr = [20, 10, 17, 14, 3, 0]\n",
    "for i in arr:\n",
    "    bt.insert(i)\n",
    "\n",
    "print(\"Height of binary tree is {}.\\n\".format(len(bt)))\n",
    "for i in range(len(bt)):\n",
    "    print(\"Level {0} values: {1}\".format(i, bt.getValues(i)))\n",
    "```\n",
    "\n",
    "```\n",
    "Height of binary tree is 4.\n",
    "\n",
    "Level 0 values: [20]\n",
    "Level 1 values: [10, None]\n",
    "Level 2 values: [3, 17, None, None]\n",
    "Level 3 values: [0, None, 14, None, None, None, None, None]\n",
    "```\n",
    "\n",
    "Note that you do not need to format your output in this way.  Nor are you required to implement a `__len__` method to compute the height of the tree.  I did this because it was convenient for illustration purposes.  This example is simply meant to show you some output at each level of the tree.\n",
    "\n",
    "#### Please provide a demo for your binary tree class. You should show how you will use each class method you have implemented and print out the tree as shown in the sample output.\n",
    "---"
   ]
  },
  {
   "cell_type": "markdown",
   "metadata": {},
   "source": [
    "### BINARY SEARCH TREE IMPLEMENTATION (SOLUTION)"
   ]
  },
  {
   "cell_type": "code",
   "execution_count": 9,
   "metadata": {},
   "outputs": [],
   "source": [
    "class BinaryTree(object):\n",
    "    \n",
    "    # Constructor takes no additional arguments\n",
    "    def __init__(self): \n",
    "        self.val = None\n",
    "        self.left = None\n",
    "        self.right = None\n",
    "    \n",
    "    # This method will insert val into the tree\n",
    "    def insert(self, val): \n",
    "        # If the binary tree hasn't already been populated yet\n",
    "        if self.val == None:\n",
    "            self.val = val\n",
    "        # when value is less than current node value, and left subtree is not yet a BT\n",
    "        elif val < self.val and self.left == None:\n",
    "            leftTree = BinaryTree()\n",
    "            leftTree.val = val\n",
    "            self.left = leftTree\n",
    "        # when value is less than current node value, and left subtree is a BT\n",
    "        elif val < self.val and self.left != None:\n",
    "            self.left.insert(val)\n",
    "        # when value is greater than current node value, and right subtree is not yet a BT\n",
    "        elif val > self.val and self.right == None:\n",
    "            rightTree = BinaryTree()\n",
    "            rightTree.val = val\n",
    "            self.right = rightTree\n",
    "        # when value is greater than current node value, and right subtree is a BT\n",
    "        elif val > self.val and self.right != None:\n",
    "            self.right.insert(val)\n",
    "        \n",
    "    def remove(self, val):\n",
    "        # node doesn't exist\n",
    "        if not self:\n",
    "            return self\n",
    "        # search/remove from left if value at root of tree is greater than desired value\n",
    "        if self.val > val:\n",
    "            self.left = BinaryTree.remove(self.left, val)\n",
    "        # search/remove from right if value at root of tree is less than desired value\n",
    "        elif self.val < val:\n",
    "            self.right = BinaryTree.remove(self.right, val)\n",
    "        # remove from tree if value at root of tree is equal to desired value\n",
    "        else:\n",
    "            # replace with subtree if there exists only 1 of them\n",
    "            if not self.right:\n",
    "                return self.left\n",
    "            if not self.left:\n",
    "                return self.right\n",
    "            \n",
    "            # case when there are two subtrees -- set head to max value from left subtree\n",
    "            # and then delete node with max value in left subtree\n",
    "            temp = self.left\n",
    "            maxi = temp.val\n",
    "            while temp.right:\n",
    "                temp = temp.right\n",
    "                maxi = temp.val\n",
    "            self.val = maxi\n",
    "            self.left = BinaryTree.remove(self.left, self.val)\n",
    "        return self\n",
    "            \n",
    "    # helper function to go down tree from left to right in 'DFS' manner\n",
    "    def helper(self, depth, nodes):\n",
    "        # appends the node to the list of nodes at the level\n",
    "        if depth == 0:\n",
    "            nodes.append(self.val)\n",
    "        else:\n",
    "            # if left subtree exists, keep going down the left level to get to desired depth\n",
    "            if self.left:\n",
    "                nodes = self.left.helper(depth - 1, nodes)\n",
    "            else:\n",
    "                # nodes do not exist at left subtree\n",
    "                nodes.extend([None] * (2 ** (depth-1)))\n",
    "            \n",
    "            # if right subtree exists, keep going down the right level to get to desired depth\n",
    "            if self.right:\n",
    "                nodes = self.right.helper(depth - 1, nodes)\n",
    "            else:\n",
    "                # nodes do not exist at right subtree\n",
    "                nodes.extend([None] * (2 ** (depth-1)))\n",
    "        return nodes\n",
    "    \n",
    "    # Calls upon helper function to get list of values at desired level from left to right\n",
    "    def getValues(self, depth):\n",
    "        return self.helper(depth, [])"
   ]
  },
  {
   "cell_type": "markdown",
   "metadata": {},
   "source": [
    "### DEMO OF BINARY SEARCH TREE IMPLEMENTATION"
   ]
  },
  {
   "cell_type": "markdown",
   "metadata": {},
   "source": [
    "**Creating and inserting elements into a Binary Search Tree**"
   ]
  },
  {
   "cell_type": "code",
   "execution_count": 10,
   "metadata": {
    "collapsed": true
   },
   "outputs": [],
   "source": [
    "bt = BinaryTree()\n",
    "arr = [15, 10, 20, 8, 12, 16, 25]\n",
    "\n",
    "for i in arr:\n",
    "    bt.insert(i)"
   ]
  },
  {
   "cell_type": "markdown",
   "metadata": {},
   "source": [
    "**Getting the node values at every depth of the BST**"
   ]
  },
  {
   "cell_type": "code",
   "execution_count": 11,
   "metadata": {
    "scrolled": true
   },
   "outputs": [
    {
     "name": "stdout",
     "output_type": "stream",
     "text": [
      "Level 0 values: [15]\n",
      "Level 1 values: [10, 20]\n",
      "Level 2 values: [8, 12, 16, 25]\n",
      "Level 3 values: [None, None, None, None, None, None, None, None]\n"
     ]
    }
   ],
   "source": [
    "print (\"Level 0 values: {}\".format(bt.getValues(0)))\n",
    "print (\"Level 1 values: {}\".format(bt.getValues(1)))\n",
    "print (\"Level 2 values: {}\".format(bt.getValues(2)))\n",
    "print (\"Level 3 values: {}\".format(bt.getValues(3)))"
   ]
  },
  {
   "cell_type": "markdown",
   "metadata": {},
   "source": [
    "**Removing an element that is in BST**"
   ]
  },
  {
   "cell_type": "code",
   "execution_count": 12,
   "metadata": {},
   "outputs": [
    {
     "data": {
      "text/plain": [
       "<__main__.BinaryTree at 0x103a4acf8>"
      ]
     },
     "execution_count": 12,
     "metadata": {},
     "output_type": "execute_result"
    }
   ],
   "source": [
    "bt.remove(10)"
   ]
  },
  {
   "cell_type": "code",
   "execution_count": 13,
   "metadata": {
    "scrolled": true
   },
   "outputs": [
    {
     "name": "stdout",
     "output_type": "stream",
     "text": [
      "Level 0 values: [15]\n",
      "Level 1 values: [8, 20]\n",
      "Level 2 values: [None, 12, 16, 25]\n",
      "Level 3 values: [None, None, None, None, None, None, None, None]\n"
     ]
    }
   ],
   "source": [
    "print (\"Level 0 values: {}\".format(bt.getValues(0)))\n",
    "print (\"Level 1 values: {}\".format(bt.getValues(1)))\n",
    "print (\"Level 2 values: {}\".format(bt.getValues(2)))\n",
    "print (\"Level 3 values: {}\".format(bt.getValues(3)))"
   ]
  },
  {
   "cell_type": "code",
   "execution_count": 14,
   "metadata": {},
   "outputs": [
    {
     "data": {
      "text/plain": [
       "<__main__.BinaryTree at 0x103a4acf8>"
      ]
     },
     "execution_count": 14,
     "metadata": {},
     "output_type": "execute_result"
    }
   ],
   "source": [
    "bt.remove(15)"
   ]
  },
  {
   "cell_type": "code",
   "execution_count": 15,
   "metadata": {},
   "outputs": [
    {
     "name": "stdout",
     "output_type": "stream",
     "text": [
      "Level 0 values: [12]\n",
      "Level 1 values: [8, 20]\n",
      "Level 2 values: [None, None, 16, 25]\n",
      "Level 3 values: [None, None, None, None, None, None, None, None]\n"
     ]
    }
   ],
   "source": [
    "print (\"Level 0 values: {}\".format(bt.getValues(0)))\n",
    "print (\"Level 1 values: {}\".format(bt.getValues(1)))\n",
    "print (\"Level 2 values: {}\".format(bt.getValues(2)))\n",
    "print (\"Level 3 values: {}\".format(bt.getValues(3)))"
   ]
  },
  {
   "cell_type": "markdown",
   "metadata": {},
   "source": [
    "**Attempting to remove an element not in BST (will return unchanged BST)**"
   ]
  },
  {
   "cell_type": "code",
   "execution_count": 16,
   "metadata": {},
   "outputs": [
    {
     "data": {
      "text/plain": [
       "<__main__.BinaryTree at 0x103a4acf8>"
      ]
     },
     "execution_count": 16,
     "metadata": {},
     "output_type": "execute_result"
    }
   ],
   "source": [
    "bt.remove(9)"
   ]
  },
  {
   "cell_type": "code",
   "execution_count": 17,
   "metadata": {},
   "outputs": [
    {
     "name": "stdout",
     "output_type": "stream",
     "text": [
      "Level 0 values: [12]\n",
      "Level 1 values: [8, 20]\n",
      "Level 2 values: [None, None, 16, 25]\n",
      "Level 3 values: [None, None, None, None, None, None, None, None]\n"
     ]
    }
   ],
   "source": [
    "print (\"Level 0 values: {}\".format(bt.getValues(0)))\n",
    "print (\"Level 1 values: {}\".format(bt.getValues(1)))\n",
    "print (\"Level 2 values: {}\".format(bt.getValues(2)))\n",
    "print (\"Level 3 values: {}\".format(bt.getValues(3)))"
   ]
  },
  {
   "cell_type": "markdown",
   "metadata": {},
   "source": [
    "<a id='p3'></a>\n",
    "### Problem 3: Markov Chains\n",
    "\n",
    "[Markov Chains](https://en.wikipedia.org/wiki/Markov_chain) are widely used to model and predict discrete events. Underlying Markov chains are Markov processes which make the assumption that the outcome of a future event only depends on the event immediately preceeding it. \n",
    "\n",
    "In this problem, we will be assuming that weather has Markov properties (e.g. today's weather is dependent only on yesterday's weather). We will use the Markov assumption to create a basic model for predicting weather.\n",
    "\n",
    "To begin, let's suppose weather can be categorized into $6$ types: \n",
    "1. sunny\n",
    "2. cloudy\n",
    "3. rainy\n",
    "4. snowy\n",
    "5. windy\n",
    "6. hailing\n",
    "\n",
    "In the `weather.csv` file accompanying this homework, each row corresponds to one type of weather (in the order given above) and each column is the probability of one type of weather occurring the following day (also in the order given above).\n",
    "\n",
    "The $(i,j)$ element is the probability that the $j$th weather type occurs after the $i$th weather type. For example, the $(1,2)$ element is the probability that a cloudy day occurs after a sunny day.\n",
    "\n",
    "Take a look at the data. Make sure you see how if the previous day was sunny, the following day will have a $0.4$ probability of being sunny as well. If the previous day was raining (index $i = 3$), then the following day (index $j$) has a $0.05$ probability of being windy ($j = 5$)."
   ]
  },
  {
   "cell_type": "markdown",
   "metadata": {},
   "source": [
    "### Part 1:  Parse the `.csv` file into a `numpy` array"
   ]
  },
  {
   "cell_type": "code",
   "execution_count": 18,
   "metadata": {},
   "outputs": [
    {
     "data": {
      "text/plain": [
       "array([[0.4 , 0.3 , 0.1 , 0.05, 0.1 , 0.05],\n",
       "       [0.3 , 0.4 , 0.1 , 0.1 , 0.08, 0.02],\n",
       "       [0.2 , 0.3 , 0.35, 0.05, 0.05, 0.05],\n",
       "       [0.1 , 0.2 , 0.25, 0.3 , 0.1 , 0.05],\n",
       "       [0.15, 0.2 , 0.1 , 0.15, 0.3 , 0.1 ],\n",
       "       [0.1 , 0.2 , 0.35, 0.1 , 0.05, 0.2 ]])"
      ]
     },
     "execution_count": 18,
     "metadata": {},
     "output_type": "execute_result"
    }
   ],
   "source": [
    "# Load CSV file -- hint: you can use np.genfromtxt()\n",
    "import numpy as np\n",
    "\n",
    "weather = np.genfromtxt('weather.csv', delimiter=',')\n",
    "weather"
   ]
  },
  {
   "cell_type": "markdown",
   "metadata": {},
   "source": [
    "### Part 2:  Create a class called `Markov` that has the following methods:\n",
    "\n",
    "* `load_data(array)`: loads the Numpy 2D array and stores it as a class variable.\n",
    "* `get_prob(previous_day, following_day)`: returns the probability of `following_day` weather given `previous_day` weather. \n",
    "\n",
    "**Note:** `previous_day` and `following_day` should be passed in string form (e.g. \"sunny\"), as opposed to an index (e.g. 0). \n",
    "\n",
    "Here is a use-case example:\n",
    "```python\n",
    "weather_today = Markov()\n",
    "weather_today.load_data(weather) # note that weather was read in Part 1\n",
    "print(weather_today.get_prob('sunny', 'cloudy'))\n",
    "```\n",
    "```\n",
    "`0.3`\n",
    "```"
   ]
  },
  {
   "cell_type": "markdown",
   "metadata": {},
   "source": [
    "### MARKOV CLASS IMPLEMENTATION (SOLUTION)"
   ]
  },
  {
   "cell_type": "code",
   "execution_count": 19,
   "metadata": {
    "collapsed": true
   },
   "outputs": [],
   "source": [
    "class Markov():\n",
    "    def __init__(self):\n",
    "        self.wtype = {'sunny':0, 'cloudy':1, 'rainy':2, 'snowy':3, 'windy':4, 'hailing':5}\n",
    "   \n",
    "    # loads in data\n",
    "    def load_data(self, array):\n",
    "        self.data = array\n",
    "    \n",
    "    def get_prob(self, previous_day, following_day):\n",
    "        try:\n",
    "            row = self.wtype[previous_day]\n",
    "            col = self.wtype[following_day]\n",
    "            return self.data[row][col]\n",
    "        # no data has been loaded in yet\n",
    "        except AttributeError: \n",
    "            return ('You have not loaded in weather data yet.')"
   ]
  },
  {
   "cell_type": "markdown",
   "metadata": {},
   "source": [
    "**DEMO OF MARKOV CLASS**"
   ]
  },
  {
   "cell_type": "code",
   "execution_count": 20,
   "metadata": {},
   "outputs": [
    {
     "name": "stdout",
     "output_type": "stream",
     "text": [
      "0.3\n",
      "0.1\n",
      "0.05\n"
     ]
    }
   ],
   "source": [
    "weather_today = Markov()\n",
    "weather_today.load_data(weather)\n",
    "print(weather_today.get_prob('sunny', 'cloudy'))\n",
    "print(weather_today.get_prob('hailing', 'sunny'))\n",
    "print(weather_today.get_prob('rainy', 'windy'))"
   ]
  },
  {
   "cell_type": "markdown",
   "metadata": {},
   "source": [
    "---"
   ]
  },
  {
   "cell_type": "markdown",
   "metadata": {},
   "source": [
    "<a id='part_2'></a>\n",
    "## Part 2: Feedback [10 point]\n",
    "<a id='p4'></a>\n",
    "### Problem 4:  Course Evaluation\n",
    "Please take the [Mid-Course Evaluation](https://goo.gl/forms/ZUrkKubzklktTSTy2).\n",
    "\n",
    "**DONE**\n",
    "---"
   ]
  }
 ],
 "metadata": {
  "kernelspec": {
   "display_name": "Python 3",
   "language": "python",
   "name": "python3"
  },
  "language_info": {
   "codemirror_mode": {
    "name": "ipython",
    "version": 3
   },
   "file_extension": ".py",
   "mimetype": "text/x-python",
   "name": "python",
   "nbconvert_exporter": "python",
   "pygments_lexer": "ipython3",
   "version": "3.6.3"
  }
 },
 "nbformat": 4,
 "nbformat_minor": 2
}
