{
 "cells": [
  {
   "cell_type": "markdown",
   "metadata": {},
   "source": [
    "# Homework 5\n",
    "\n",
    "## Due Thursday, November 1st 2018 at 11:59 PM.\n",
    "\n",
    "### Be sure to push the final version of your notebook to your GitHub repo.  Follow the instructions on the course website.\n",
    "\n",
    "### Topics\n",
    "#### [Part 1](#part_1): Data Structures [90 points]\n",
    "- [Problem 1](#p1). Linked List Class [30 points]\n",
    "- [Problem 2](#p2). Binary Tree Class [40 points]\n",
    "- [Problem 3](#p3). Markov Chains [20 point]\n",
    "\n",
    "#### [Part 2](#part_2): Feedback [10 point]\n",
    "- [Problem 4](#p4). Course Evaluation [10 point]\n",
    "\n",
    "---"
   ]
  },
  {
   "cell_type": "markdown",
   "metadata": {},
   "source": [
    "<a id='part_1'></a>\n",
    "## Part 1: Data Structures [90 points]\n",
    "<a id='p1'></a>\n",
    "### Problem 1:  Linked List Class\n",
    "\n",
    "Write a linked list class called `LinkedList`.  Remember, a singly linked list is made up of nodes each of which contain a value and a pointer.  The first node is called the \"head node\".\n",
    "\n",
    "Here are the required methods:\n",
    "* `__init__(self, head)` where `head` is the value of the head node.  You could make the head node an attribute.\n",
    "* `__len__(self)`: Returns the number of elements in the linked list.\n",
    "* `__getitem__(self, index)` returns the value of the node corresponding to `index`.  Include checks to make sure that `index` is not out of range and that the user is not trying to index an empty list.\n",
    "* `__repr__(self)` returns `LinkedList(head_node)`.\n",
    "* `insert_front(self, element)` inserts a new node with value `element` at the beginning of the list.\n",
    "* `insert_back(self, element)` inserts a new node with value `element` at the end of the list.\n",
    "\n",
    "**Note:**  An alternative implementation is to create a `Node` class.  You are not required to make a `Node` class but you may if you prefer that implementation.  Please don't steal that implementation from the online forums.  I've seen those too and we'll know if you copied them.\n",
    "\n",
    "\n",
    "#### Basic Interface\n",
    "Here are a few examples on the expected behavior. Please make sure that the methods you implemented behave similarly.\n",
    "\n",
    "1.\n",
    "```python\n",
    "ll = LinkedList(1.0)\n",
    "print(ll, len(ll), ll._headNode)\n",
    "```\n",
    "```\n",
    "`LinkedList(1.0) 1 [1.0, None]`\n",
    "```\n",
    "2.\n",
    "```python\n",
    "ll.insert_front(-1.0)\n",
    "print(ll, len(ll), ll._headNode)\n",
    "```\n",
    "```\n",
    "`LinkedList(-1.0) 2 [-1.0, [1.0, None]]`\n",
    "```\n",
    "3.\n",
    "```python\n",
    "ll.insert_back(3.0)\n",
    "print(ll, len(ll), ll._headNode)\n",
    "```\n",
    "```\n",
    "`LinkedList(-1.0) 3 [-1.0, [1.0, [3.0, None]]]`\n",
    "```\n",
    "4.\n",
    "```python\n",
    "print(ll[0], ll[1], ll[2])\n",
    "```\n",
    "```\n",
    "`-1.0 1.0 3.0`\n",
    "```\n",
    "5.\n",
    "```python\n",
    "eval(repr(ll))\n",
    "```\n",
    "```\n",
    "`LinkedList(-1.0)`\n",
    "```\n",
    "---"
   ]
  },
  {
   "cell_type": "code",
   "execution_count": 89,
   "metadata": {},
   "outputs": [],
   "source": [
    "class LinkedList(object):\n",
    "    def __init__(self, head):\n",
    "        self._headNode = [head, None]\n",
    "        self._length = 1\n",
    "    \n",
    "    def __len__(self):\n",
    "        # returns the length of the linked list\n",
    "        return self._length\n",
    "    \n",
    "    # returns the value of the node corresponding to index. \n",
    "    # Include checks to make sure that index is not out of range \n",
    "    # and that the user is not trying to index an empty list.\n",
    "    def __getitem__(self, index): \n",
    "        if index > self._length - 1:\n",
    "            raise IndexError('Linked list index out of range')\n",
    "        else:\n",
    "            temp = self._headNode\n",
    "            for _ in range(index):\n",
    "                temp = temp[1]\n",
    "            return temp[0]\n",
    "        \n",
    "    # returns LinkedList(head_node)\n",
    "    def __repr__(self):\n",
    "        return 'LinkedList({})'.format(self._headNode[0])\n",
    "    \n",
    "    # inserts a new node with value element at the beginning of the list.\n",
    "    def insert_front(self, element): \n",
    "        self._headNode = [element, self._headNode]\n",
    "        self._length = self._length + 1\n",
    "    \n",
    "    # inserts a new node with value element at the end of the list.\n",
    "    def insert_back(self, element): \n",
    "        # changes the None element at the end of the LinkedList to the new [element, None] node\n",
    "        self._headNode[self._length - 1][1] = [element, None]\n",
    "        self._length = self._length + 1"
   ]
  },
  {
   "cell_type": "code",
   "execution_count": 90,
   "metadata": {},
   "outputs": [
    {
     "name": "stdout",
     "output_type": "stream",
     "text": [
      "LinkedList(1.0) 1 [1.0, None]\n"
     ]
    }
   ],
   "source": [
    "ll = LinkedList(1.0)\n",
    "print(ll, len(ll), ll._headNode)"
   ]
  },
  {
   "cell_type": "code",
   "execution_count": 91,
   "metadata": {},
   "outputs": [
    {
     "name": "stdout",
     "output_type": "stream",
     "text": [
      "LinkedList(-1.0) 2 [-1.0, [1.0, None]]\n"
     ]
    }
   ],
   "source": [
    "ll.insert_front(-1.0)\n",
    "print(ll, len(ll), ll._headNode)"
   ]
  },
  {
   "cell_type": "code",
   "execution_count": 92,
   "metadata": {},
   "outputs": [
    {
     "name": "stdout",
     "output_type": "stream",
     "text": [
      "LinkedList(-1.0) 3 [-1.0, [1.0, [3.0, None]]]\n"
     ]
    }
   ],
   "source": [
    "ll.insert_back(3.0)\n",
    "print(ll, len(ll), ll._headNode)"
   ]
  },
  {
   "cell_type": "code",
   "execution_count": 93,
   "metadata": {},
   "outputs": [
    {
     "name": "stdout",
     "output_type": "stream",
     "text": [
      "-1.0 1.0 3.0\n"
     ]
    }
   ],
   "source": [
    "print(ll[0], ll[1], ll[2])"
   ]
  },
  {
   "cell_type": "code",
   "execution_count": 94,
   "metadata": {},
   "outputs": [
    {
     "data": {
      "text/plain": [
       "LinkedList(-1.0)"
      ]
     },
     "execution_count": 94,
     "metadata": {},
     "output_type": "execute_result"
    }
   ],
   "source": [
    "eval(repr(ll))"
   ]
  },
  {
   "cell_type": "code",
   "execution_count": 96,
   "metadata": {},
   "outputs": [
    {
     "ename": "IndexError",
     "evalue": "Linked list index out of range",
     "output_type": "error",
     "traceback": [
      "\u001b[0;31m---------------------------------------------------------------------------\u001b[0m",
      "\u001b[0;31mIndexError\u001b[0m                                Traceback (most recent call last)",
      "\u001b[0;32m<ipython-input-96-d6bf4b99d0d0>\u001b[0m in \u001b[0;36m<module>\u001b[0;34m()\u001b[0m\n\u001b[1;32m      1\u001b[0m \u001b[0;31m# should return an error\u001b[0m\u001b[0;34m\u001b[0m\u001b[0;34m\u001b[0m\u001b[0m\n\u001b[0;32m----> 2\u001b[0;31m \u001b[0mll\u001b[0m\u001b[0;34m[\u001b[0m\u001b[0;36m3\u001b[0m\u001b[0;34m]\u001b[0m\u001b[0;34m\u001b[0m\u001b[0m\n\u001b[0m",
      "\u001b[0;32m<ipython-input-89-2d7dd153a8f9>\u001b[0m in \u001b[0;36m__getitem__\u001b[0;34m(self, index)\u001b[0m\n\u001b[1;32m     13\u001b[0m     \u001b[0;32mdef\u001b[0m \u001b[0m__getitem__\u001b[0m\u001b[0;34m(\u001b[0m\u001b[0mself\u001b[0m\u001b[0;34m,\u001b[0m \u001b[0mindex\u001b[0m\u001b[0;34m)\u001b[0m\u001b[0;34m:\u001b[0m\u001b[0;34m\u001b[0m\u001b[0m\n\u001b[1;32m     14\u001b[0m         \u001b[0;32mif\u001b[0m \u001b[0mindex\u001b[0m \u001b[0;34m>\u001b[0m \u001b[0mself\u001b[0m\u001b[0;34m.\u001b[0m\u001b[0m_length\u001b[0m \u001b[0;34m-\u001b[0m \u001b[0;36m1\u001b[0m\u001b[0;34m:\u001b[0m\u001b[0;34m\u001b[0m\u001b[0m\n\u001b[0;32m---> 15\u001b[0;31m             \u001b[0;32mraise\u001b[0m \u001b[0mIndexError\u001b[0m\u001b[0;34m(\u001b[0m\u001b[0;34m'Linked list index out of range'\u001b[0m\u001b[0;34m)\u001b[0m\u001b[0;34m\u001b[0m\u001b[0m\n\u001b[0m\u001b[1;32m     16\u001b[0m         \u001b[0;32melse\u001b[0m\u001b[0;34m:\u001b[0m\u001b[0;34m\u001b[0m\u001b[0m\n\u001b[1;32m     17\u001b[0m             \u001b[0mtemp\u001b[0m \u001b[0;34m=\u001b[0m \u001b[0mself\u001b[0m\u001b[0;34m.\u001b[0m\u001b[0m_headNode\u001b[0m\u001b[0;34m\u001b[0m\u001b[0m\n",
      "\u001b[0;31mIndexError\u001b[0m: Linked list index out of range"
     ]
    }
   ],
   "source": [
    "# should return an error\n",
    "ll[3]"
   ]
  },
  {
   "cell_type": "markdown",
   "metadata": {},
   "source": [
    "<a id='p2'></a>\n",
    "### Problem 2:  Binary Tree Class\n",
    "\n",
    "A binary search tree is a binary tree with the invariant that for any particular node the left child is smaller and the right child is larger. Create the class `BinaryTree` with the following specifications:\n",
    "\n",
    "`__init__(self)`: Constructor takes no additional arguments\n",
    "\n",
    "`insert(self, val)`: This method will insert `val` into the tree\n",
    "\n",
    "`remove(self, val)`: This will remove `val` from the tree. Upon removal the left child will take the place of the node if it exists, otherwise the right child. The subtree from the left or right child will propagate up in the same manner.\n",
    "\n",
    "`getValues(self, depth)`: Return a list of the entire row of nodes at the specified depth with `None` at the index if there is no value in the tree. The length of the list should therefore be $2^{\\text{depth}}$.\n",
    "\n",
    "Here is an example usage and output:\n",
    "\n",
    "```python\n",
    "bt = BinaryTree()\n",
    "arr = [20, 10, 17, 14, 3, 0]\n",
    "for i in arr:\n",
    "    bt.insert(i)\n",
    "\n",
    "print(\"Height of binary tree is {}.\\n\".format(len(bt)))\n",
    "for i in range(len(bt)):\n",
    "    print(\"Level {0} values: {1}\".format(i, bt.getValues(i)))\n",
    "```\n",
    "\n",
    "```\n",
    "Height of binary tree is 4.\n",
    "\n",
    "Level 0 values: [20]\n",
    "Level 1 values: [10, None]\n",
    "Level 2 values: [3, 17, None, None]\n",
    "Level 3 values: [0, None, 14, None, None, None, None, None]\n",
    "```\n",
    "\n",
    "Note that you do not need to format your output in this way.  Nor are you required to implement a `__len__` method to compute the height of the tree.  I did this because it was convenient for illustration purposes.  This example is simply meant to show you some output at each level of the tree.\n",
    "\n",
    "#### Please provide a demo for your binary tree class. You should show how you will use each class method you have implemented and print out the tree as shown in the sample output.\n",
    "---"
   ]
  },
  {
   "cell_type": "markdown",
   "metadata": {},
   "source": [
    "<a id='p3'></a>\n",
    "### Problem 3: Markov Chains\n",
    "\n",
    "[Markov Chains](https://en.wikipedia.org/wiki/Markov_chain) are widely used to model and predict discrete events. Underlying Markov chains are Markov processes which make the assumption that the outcome of a future event only depends on the event immediately preceeding it. \n",
    "\n",
    "In this problem, we will be assuming that weather has Markov properties (e.g. today's weather is dependent only on yesterday's weather). We will use the Markov assumption to create a basic model for predicting weather.\n",
    "\n",
    "To begin, let's suppose weather can be categorized into $6$ types: \n",
    "1. sunny\n",
    "2. cloudy\n",
    "3. rainy\n",
    "4. snowy\n",
    "5. windy\n",
    "6. hailing\n",
    "\n",
    "In the `weather.csv` file accompanying this homework, each row corresponds to one type of weather (in the order given above) and each column is the probability of one type of weather occurring the following day (also in the order given above).\n",
    "\n",
    "The $(i,j)$ element is the probability that the $j$th weather type occurs after the $i$th weather type. For example, the $(1,2)$ element is the probability that a cloudy day occurs after a sunny day.\n",
    "\n",
    "Take a look at the data. Make sure you see how if the previous day was sunny, the following day will have a $0.4$ probability of being sunny as well. If the previous day was raining (index $i = 3$), then the following day (index $j$) has a $0.05$ probability of being windy ($j = 5$)."
   ]
  },
  {
   "cell_type": "markdown",
   "metadata": {},
   "source": [
    "### Part 1:  Parse the `.csv` file into a `numpy` array"
   ]
  },
  {
   "cell_type": "code",
   "execution_count": null,
   "metadata": {
    "collapsed": true
   },
   "outputs": [],
   "source": [
    "# Load CSV file -- hint: you can use np.genfromtxt()"
   ]
  },
  {
   "cell_type": "markdown",
   "metadata": {},
   "source": [
    "### Part 2:  Create a class called `Markov` that has the following methods:\n",
    "\n",
    "* `load_data(array)`: loads the Numpy 2D array and stores it as a class variable.\n",
    "* `get_prob(previous_day, following_day)`: returns the probability of `following_day` weather given `previous_day` weather. \n",
    "\n",
    "**Note:** `previous_day` and `following_day` should be passed in string form (e.g. \"sunny\"), as opposed to an index (e.g. 0). \n",
    "\n",
    "Here is a use-case example:\n",
    "```python\n",
    "weather_today = Markov()\n",
    "weather_today.load_data(weather) # note that weather was read in Part 1\n",
    "print(weather_today.get_prob('sunny', 'cloudy'))\n",
    "```\n",
    "```\n",
    "`0.3`\n",
    "```"
   ]
  },
  {
   "cell_type": "code",
   "execution_count": null,
   "metadata": {
    "collapsed": true
   },
   "outputs": [],
   "source": [
    "class Markov:\n",
    "    def __init__():\n",
    "        # implement here\n",
    "        \n",
    "    def load_data(array):\n",
    "        # implement here\n",
    "    \n",
    "    def get_prob(previous_day, following_day):\n",
    "        # implement here -- returns a probability"
   ]
  },
  {
   "cell_type": "markdown",
   "metadata": {},
   "source": [
    "---"
   ]
  },
  {
   "cell_type": "markdown",
   "metadata": {},
   "source": [
    "<a id='part_2'></a>\n",
    "## Part 2: Feedback [10 point]\n",
    "<a id='p4'></a>\n",
    "### Problem 4:  Course Evaluation\n",
    "Please take the [Mid-Course Evaluation](https://goo.gl/forms/ZUrkKubzklktTSTy2).\n",
    "\n",
    "**DONE**\n",
    "---"
   ]
  }
 ],
 "metadata": {
  "kernelspec": {
   "display_name": "Python 3",
   "language": "python",
   "name": "python3"
  },
  "language_info": {
   "codemirror_mode": {
    "name": "ipython",
    "version": 3
   },
   "file_extension": ".py",
   "mimetype": "text/x-python",
   "name": "python",
   "nbconvert_exporter": "python",
   "pygments_lexer": "ipython3",
   "version": "3.6.3"
  }
 },
 "nbformat": 4,
 "nbformat_minor": 2
}
