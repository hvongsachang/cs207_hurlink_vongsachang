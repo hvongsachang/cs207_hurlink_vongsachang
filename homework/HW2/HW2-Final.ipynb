{
 "cells": [
  {
   "cell_type": "code",
   "execution_count": 299,
   "metadata": {
    "collapsed": true
   },
   "outputs": [],
   "source": [
    "%matplotlib inline"
   ]
  },
  {
   "cell_type": "markdown",
   "metadata": {},
   "source": [
    "# Homework 2\n",
    "\n",
    "## Due Thursday, September 20th 2018 at 11:59 PM.\n",
    "\n",
    "### Be sure to push the final version of your notebook to your GitHub repo.  Follow the instructions on the course website.\n",
    "\n",
    "### Topics\n",
    "\n",
    "#### [Part 1](#part_1): Get Familiar with `git`\n",
    "- [Problem 1](#p1). Git and recovering from a mistake\n",
    "- [Problem 2](#p2). Git and checking out a single file\n",
    "\n",
    "#### [Part 2](#part_2): Python Basics\n",
    "- [Problem 3](#p3). Count and plot\n",
    "- [Problem 4](#p4). Average area of the circles (part 1)\n",
    "\n",
    "#### [Part 3](#part_3): Closure and Decorators\n",
    "- [Problem 5](#p5). Simple bank account withdraw system\n",
    "- [Problem 6](#p6). Average area of the circles (part 2)\n",
    "- [Problem 7](#p7). Positivity\n",
    "\n",
    "---"
   ]
  },
  {
   "cell_type": "markdown",
   "metadata": {},
   "source": [
    "---\n",
    "<a id='part_1'></a>\n",
    "## Part 1 [10 pts]: Get Familiar with GitHub\n",
    "**Note:** Start this problem after Lecture 3.\n",
    "\n",
    "<a id='p1'></a>\n",
    "### Problem 1 [5 pts]:  `Git` and recovering from a mistake\n",
    "Here's the scenario for this problem.  In Lecture, you created a branch in your `playground` repo called `mybranch1`.  You worked on `mybranch1` and created a file called `books.md`, but you never merged that file into your `master` branch.  In fact, we'll operate under the assumption that you really *don't* want to merge `books.md` into `master` yet.  However, being human, you are bound to make mistakes.  In this problem, you will clone `playground` and forget to switch to `mybranch1`.  You will accidentally pull `books.md` into `master`.  Then, you will recover from this mistake by reverting `master` to an earlier state; one that doesn't have `books.md`.\n",
    "\n",
    "You will do this problem in the `Jupyter` notebook so we can see your output.  Once again, you will work with your `playground` repository (created and explored in Lectures 2 and 3).\n",
    "\n",
    "**NOTE:** At the beginning of each `Jupyter` notebook cell, you MUST type `%%bash`.  If you don't do that then you will not be able to work with the necessary bash commands.\n",
    "\n",
    "Follow the following steps for this problem:\n",
    "\n",
    "1. First cell:\n",
    "  1. Type `cd /tmp` to enter the temporary directory\n",
    "  2. `git clone <url to your playground repo>` <br>\n",
    "  **Note:** If you want to re-clone the repo (after you already cloned it), make sure you delete the old repo using `rm -r /tmp/playground`.\n",
    "2. Second cell:\n",
    "  1. Go into your local `playground` directory (`cd /tmp/playground`)\n",
    "  2. Type `git pull origin mybranch1`\n",
    "  3. `ls` <br>\n",
    "  Uh oh!  `books.md` is now in your `master` branch!\n",
    "3. Third cell:\n",
    "  1. Go into your local `playground` directory (`cd /tmp/playground`)\n",
    "  2. Type `git status` <br>\n",
    "  Your local `master` branch is now ahead of the remote `master`!\n",
    "4. Fourth cell:\n",
    "  1. Go into your local `playground` directory (`cd /tmp/playground`)\n",
    "  2. Type `git reset --hard origin/master`\n",
    "  3. `ls` <br>\n",
    "  `books.md` is gone!\n",
    "5. Fifth cell:\n",
    "  1. Go into your local `playground` directory (`cd /tmp/playground`)\n",
    "  2. Type `git status` <br>\n",
    "  Everything is back to normal.\n",
    "\n",
    "The whole point of this problem was to show you how to get your local repo back to an earlier state.  In this exercise, you accidentally merged something to `master` that you didn't want.  Rather than starting to delete things all over the place, you can simply reset your `HEAD` to a previous commit.\n",
    "\n",
    "**IMPORTANT!** This is a proper `git` workflow.  DO NOT start deleting, rebasing, or re-cloning everything.  Take one step at a time, think about the decisions you're making, and execute deliberately.  It will take a little practice in the beginning, but time spent now will translate to lots of time saved later."
   ]
  },
  {
   "cell_type": "code",
   "execution_count": 2,
   "metadata": {},
   "outputs": [
    {
     "name": "stderr",
     "output_type": "stream",
     "text": [
      "Cloning into 'playground'...\n"
     ]
    }
   ],
   "source": [
    "%%bash\n",
    "cd /tmp\n",
    "git clone https://github.com/hvongsachang/playground.git"
   ]
  },
  {
   "cell_type": "code",
   "execution_count": 3,
   "metadata": {},
   "outputs": [
    {
     "name": "stdout",
     "output_type": "stream",
     "text": [
      "Merge made by the 'recursive' strategy.\n",
      " books.md | 1 +\n",
      " 1 file changed, 1 insertion(+)\n",
      " create mode 100644 books.md\n",
      "README.md\n",
      "books.md\n",
      "feature.txt\n",
      "intro.md\n",
      "messages.md\n",
      "world.md\n"
     ]
    },
    {
     "name": "stderr",
     "output_type": "stream",
     "text": [
      "From https://github.com/hvongsachang/playground\n",
      " * branch            mybranch1  -> FETCH_HEAD\n"
     ]
    }
   ],
   "source": [
    "%%bash\n",
    "cd /tmp/playground\n",
    "git pull origin mybranch1\n",
    "ls"
   ]
  },
  {
   "cell_type": "code",
   "execution_count": 4,
   "metadata": {
    "scrolled": true
   },
   "outputs": [
    {
     "name": "stdout",
     "output_type": "stream",
     "text": [
      "On branch master\n",
      "Your branch is ahead of 'origin/master' by 2 commits.\n",
      "  (use \"git push\" to publish your local commits)\n",
      "\n",
      "nothing to commit, working tree clean\n"
     ]
    }
   ],
   "source": [
    "%%bash \n",
    "cd /tmp/playground\n",
    "git status"
   ]
  },
  {
   "cell_type": "code",
   "execution_count": 5,
   "metadata": {},
   "outputs": [
    {
     "name": "stdout",
     "output_type": "stream",
     "text": [
      "HEAD is now at 439d361 Shared attribution between Joe and Sally.\n",
      "README.md\n",
      "feature.txt\n",
      "intro.md\n",
      "messages.md\n",
      "world.md\n"
     ]
    }
   ],
   "source": [
    "%%bash\n",
    "cd /tmp/playground\n",
    "git reset --hard origin/master\n",
    "ls"
   ]
  },
  {
   "cell_type": "code",
   "execution_count": 6,
   "metadata": {},
   "outputs": [
    {
     "name": "stdout",
     "output_type": "stream",
     "text": [
      "On branch master\n",
      "Your branch is up to date with 'origin/master'.\n",
      "\n",
      "nothing to commit, working tree clean\n"
     ]
    }
   ],
   "source": [
    "%%bash\n",
    "cd /tmp/playground\n",
    "git status"
   ]
  },
  {
   "cell_type": "markdown",
   "metadata": {},
   "source": [
    "---\n",
    "<a id='p2'></a>\n",
    "### Problem 2 [5 pts]:  `Git` and checking out a single file\n",
    "Sometimes you don't want to merge an entire branch from the upstream but just one file from it. There is a direct use case for such a situation. Suppose I've made an error in this homework (or a lecture) and want to correct it. I fix the mistake in the upstream repo. In the meantime you have edited some other files and you really don't want to manually ignore my older copies of those files. Rather, you want to fix just one file from this new branch. This is how you do it.\n",
    "\n",
    "As usual, be sure to type in `%%bash` before you write any `bash` commands in a cell.\n",
    "\n",
    "**Note:** The steps below assume that you have already cloned the `playground` repo in this notebook.\n",
    "\n",
    "1. First cell:\n",
    "  1. Go into the `playground` repo and fetch the changes from the master branch of the `course` remote.\n",
    "2. Second cell:\n",
    "  1. `git checkout course/master -- README.md`.  The `--` means that `README.md` is a file (as opposed to a `branch`).\n",
    "  2. `cat README.md`.  This just looks at the updated file.\n",
    "3. Third cell:\n",
    "  1. `git status`\n",
    "  2. Commit the changes to your local repo with an appropriate commit message.\n",
    "  3. `git status`\n",
    "  4. Push the changes to your remote repo."
   ]
  },
  {
   "cell_type": "code",
   "execution_count": 12,
   "metadata": {},
   "outputs": [
    {
     "name": "stderr",
     "output_type": "stream",
     "text": [
      "From https://github.com/IACS-CS-207/playground\n",
      " * [new branch]      master     -> course/master\n"
     ]
    }
   ],
   "source": [
    "%%bash\n",
    "cd /tmp/playground\n",
    "git remote add course https://github.com/IACS-CS-207/playground.git\n",
    "git fetch course"
   ]
  },
  {
   "cell_type": "code",
   "execution_count": 14,
   "metadata": {},
   "outputs": [
    {
     "name": "stdout",
     "output_type": "stream",
     "text": [
      "# Playground Repo\n",
      "\n",
      "Fall 2018 message.\n"
     ]
    }
   ],
   "source": [
    "%%bash\n",
    "cd /tmp/playground\n",
    "git checkout course/master -- README.md\n",
    "cat README.md"
   ]
  },
  {
   "cell_type": "code",
   "execution_count": 15,
   "metadata": {},
   "outputs": [
    {
     "name": "stdout",
     "output_type": "stream",
     "text": [
      "On branch master\n",
      "Your branch is up to date with 'origin/master'.\n",
      "\n",
      "Changes to be committed:\n",
      "  (use \"git reset HEAD <file>...\" to unstage)\n",
      "\n",
      "\tmodified:   README.md\n",
      "\n",
      "[master fa17237] Readme file updated\n",
      " 1 file changed, 1 insertion(+), 1 deletion(-)\n",
      "On branch master\n",
      "Your branch is ahead of 'origin/master' by 1 commit.\n",
      "  (use \"git push\" to publish your local commits)\n",
      "\n",
      "nothing to commit, working tree clean\n"
     ]
    },
    {
     "name": "stderr",
     "output_type": "stream",
     "text": [
      "To https://github.com/hvongsachang/playground.git\n",
      "   439d361..fa17237  master -> master\n"
     ]
    }
   ],
   "source": [
    "%%bash\n",
    "cd /tmp/playground\n",
    "git status\n",
    "git commit -am 'Readme file updated'\n",
    "git status\n",
    "git push"
   ]
  },
  {
   "cell_type": "markdown",
   "metadata": {},
   "source": [
    "---\n",
    "<a id='part_2'></a>\n",
    "## Part 2 [20 pts]: Python Basics\n",
    "<a id='p3'></a>\n",
    "### Problem 3 [10 pts]: Count and Plot\n",
    "In this problem, you will make a bar plot of the computer languages that students who take CS207 know.  The file `languages.txt` contains all the languages that students listed as their primary language in the course survey from a previous iteration of the course.\n",
    "\n",
    "Do the following:\n",
    "* Load the language strings from the file into a list.\n",
    "* Use the `Counter` method from the `collections` library to count the number of occurrences of each element of the list.  **Print out your answer to the screen.**\n",
    "* Create a bar plot to display the frequency of each language.  Be sure to label the x-axis!\n",
    "  + Remember, to create plots in the notebook you must put the line `%matplotlib inline` at the beginning of your notebook.  You may also want to check out `%matplotlib notebook`.\n",
    "  + Be sure to import matplotlib:  `import matplotlib.pyplot as plt`.\n",
    "  + To generate the bar plot write `plt.bar(x_coords, freqs)`.  You need to define `x_coords` and `freqs`.\n",
    "  + **Hint:** You may want to use the `numpy` `arange` function to create `x_coords`.  Remember, `x_coords` is the x-axis and it should have points for each distinct language.\n",
    "  + **Hint:** To get `freqs`, you may want to use the `values()` method on your result from step 3.  That is, `freqs = result_from_3.values()`.\n",
    "  + **Hint:** To label the x-axis you should use `plt.xticks(x_coords, labels)` where labels can be accessed through the `keys()` method on your result from step 3."
   ]
  },
  {
   "cell_type": "code",
   "execution_count": 296,
   "metadata": {
    "collapsed": true
   },
   "outputs": [],
   "source": [
    "# splitlines() will split the text based on \\n and put the elements in a list, excluding the \\n's\n",
    "with open('languages.txt') as f:\n",
    "    languages = f.read().splitlines() "
   ]
  },
  {
   "cell_type": "code",
   "execution_count": 297,
   "metadata": {
    "scrolled": true
   },
   "outputs": [
    {
     "name": "stdout",
     "output_type": "stream",
     "text": [
      "25 student(s) use Python as their primary language.\n",
      "6 student(s) use C++ as their primary language.\n",
      "7 student(s) use Java as their primary language.\n",
      "1 student(s) use C as their primary language.\n",
      "2 student(s) use Other as their primary language.\n",
      "1 student(s) use C# as their primary language.\n",
      "2 student(s) use SQL as their primary language.\n",
      "1 student(s) use VB as their primary language.\n"
     ]
    }
   ],
   "source": [
    "from collections import Counter\n",
    "c = Counter(languages)\n",
    "for i in c:\n",
    "    print (\"{} student(s) use {} as their primary language.\".format(c[i], i))"
   ]
  },
  {
   "cell_type": "code",
   "execution_count": 300,
   "metadata": {},
   "outputs": [
    {
     "data": {
      "text/plain": [
       "<Container object of 8 artists>"
      ]
     },
     "execution_count": 300,
     "metadata": {},
     "output_type": "execute_result"
    },
    {
     "data": {
      "image/png": "[encoded data removed]",
      "text/plain": [
       "<matplotlib.figure.Figure at 0x118f68da0>"
      ]
     },
     "metadata": {},
     "output_type": "display_data"
    }
   ],
   "source": [
    "import matplotlib.pyplot as plt\n",
    "\n",
    "# We input the counter's keys as our x-tick marks and counter's values as their respective frequencies\n",
    "plt.xlabel('Primary Language')\n",
    "plt.ylabel('Number of students')\n",
    "plt.bar(c.keys(), c.values())"
   ]
  },
  {
   "cell_type": "markdown",
   "metadata": {},
   "source": [
    "---\n",
    "<a id='p4'></a>\n",
    "### Problem 4 [10 pts]: Average Area of the Circles (Part 1)\n",
    "The file `circles.txt` contains measurements of circle radii.  Your task is to write a script that reports the average area of the circles.  You will **not** use the `numpy` `mean` function.  Here are the requirements:\n",
    "1. Open `circles.txt`, read in the data, and convert the data to floats. Store in a list.\n",
    "2. Write a function that computes the area of a circle.  The argument should be a single `float`.\n",
    "3. Write a function, called `myave`, that computes the average of the areas of the circles.\n",
    "   - At the very least, `myave` should accept the list of radii as one argument and the circle function that you wrote in step 2 as another argument.\n",
    "   - **Note:** There are other ways of doing this task, but I want you to do it this way.\n",
    "4. Print out the result."
   ]
  },
  {
   "cell_type": "code",
   "execution_count": 301,
   "metadata": {
    "collapsed": true
   },
   "outputs": [],
   "source": [
    "radii = []\n",
    "with open('circles.txt') as f:\n",
    "    for r in f.read().splitlines():\n",
    "        radii.append(float(r))"
   ]
  },
  {
   "cell_type": "code",
   "execution_count": 302,
   "metadata": {
    "collapsed": true
   },
   "outputs": [],
   "source": [
    "from math import pi\n",
    "def area(r):\n",
    "    return pi * r ** 2"
   ]
  },
  {
   "cell_type": "code",
   "execution_count": 303,
   "metadata": {
    "collapsed": true
   },
   "outputs": [],
   "source": [
    "def myave(radii, f):\n",
    "    areas = [f(x) for x in radii]\n",
    "    return sum(areas)/len(areas)"
   ]
  },
  {
   "cell_type": "code",
   "execution_count": 304,
   "metadata": {},
   "outputs": [
    {
     "name": "stdout",
     "output_type": "stream",
     "text": [
      "The average of the areas of the circles is 3.1958990970819956.\n"
     ]
    }
   ],
   "source": [
    "print ('The average of the areas of the circles is {}.'.format(myave(radii, area)))"
   ]
  },
  {
   "cell_type": "markdown",
   "metadata": {},
   "source": [
    "---\n",
    "<a id='part_3'></a>\n",
    "## Part 3 [30 pts]: Closures and Decorators\n",
    "<a id='p5'></a>\n",
    "### Problem 5 [10 pts]: Simple Bank Account Withdraw System\n",
    "The goal of this problem is to write a simple bank account withdraw system.  The problem is based off of a problem in _Structure and Interpretation of Computer Programs_.\n",
    "\n",
    "**Instructions:** Do each part in a different cell block and clearly label each part.\n",
    "\n",
    "**a).**\n",
    "Write a closure to make withdraws from a bank account.  The outer function should be accept the initial balance as an argument (I'll refer to this argument as `balance` in this problem statement, but you can call it whatever you want).  The inner function should accept the withdraw amount as an argument and return the new balance.\n",
    "\n",
    "**NOTE 1:** For this part, do not try to reassign `balance` in the inner function.  Just see what happens when you return a new balance.  You can store the new balance in a new name (call it `new_bal` if you want) or just return the new balance directly.\n",
    "\n",
    "**NOTE 2:** You should check for basic exceptions (e.g. attempting to withdraw more than the current balance).\n",
    "\n",
    "Once you write your functions, demo them in your notebook as follows:\n",
    "\n",
    "```python\n",
    "wd = make_withdraw(init_balance)\n",
    "wd(withdraw_amount)\n",
    "wd(new_withdraw_amount)\n",
    "```\n",
    "\n",
    "You should observe that this does not behave correctly.  **Explain why not.**\n",
    "\n",
    "**b).**\n",
    "You can fix things up by updating `balance` within the inner function.  But this won't work.  Try it out and explain why it doesn't work.  Try to use the language that we used in lecture.  \n",
    "\n",
    "  * **Hint:** [Python Execution Model](https://docs.python.org/3/reference/executionmodel.html).\n",
    "\n",
    "**c).**\n",
    "Now make just one small change to your code from Part b.  Declare `balance` as a nonlocal variable using the `nonlocal` keyword.  That is, before you get to the inner function, say `nonlocal balance`.  Here's some information on the `nonlocal` statement:  [`nonlocal`](https://docs.python.org/3/reference/simple_stmts.html#nonlocal).\n",
    "\n",
    "Now test things out like you did in Part a.  It should be behaving correctly now.\n",
    "\n",
    "**d).**\n",
    "Finally, visualize your code with [Python Tutor](http://pythontutor.com/) and embed your visualization in your notebook.  Pay attention to the variable `balance`."
   ]
  },
  {
   "cell_type": "markdown",
   "metadata": {},
   "source": [
    "#### 5a) Writing a closure to withdraw from a bank account"
   ]
  },
  {
   "cell_type": "code",
   "execution_count": 305,
   "metadata": {
    "collapsed": true
   },
   "outputs": [],
   "source": [
    "def make_withdraw(balance):\n",
    "    def withdraw(wd_amount):\n",
    "        if balance < wd_amount:\n",
    "            raise ValueError(\"You cannot withdraw more than you have in the bank!\")\n",
    "        else:\n",
    "            new_bal = balance - wd_amount\n",
    "            return new_bal\n",
    "    return withdraw"
   ]
  },
  {
   "cell_type": "code",
   "execution_count": 306,
   "metadata": {
    "scrolled": true
   },
   "outputs": [
    {
     "name": "stdout",
     "output_type": "stream",
     "text": [
      "Trying to withdraw $31:\n",
      "You cannot withdraw more than you have in the bank!\n",
      "After withdrawing $25:\n",
      "5\n",
      "After withdrawing $5:\n",
      "25\n"
     ]
    }
   ],
   "source": [
    "wd = make_withdraw(30)\n",
    "print (\"Trying to withdraw $31:\")\n",
    "try:\n",
    "    print (wd(31))\n",
    "except ValueError:\n",
    "    print (\"You cannot withdraw more than you have in the bank!\")\n",
    "print (\"After withdrawing $25:\")\n",
    "print (wd(25))\n",
    "print (\"After withdrawing $5:\")\n",
    "print (wd(5))"
   ]
  },
  {
   "cell_type": "markdown",
   "metadata": {},
   "source": [
    "**Explanation:** When we try to withdraw \\$25 from our initial balance of \\$30, the function tells us that we now have \\$5. However, when we try to withdraw the remaining \\$5 -- which should theoretically make our current balance in the bank \\$0 -- the function tells us that we have \\$25 in our bank. Although we had passed in our initial balance in the ```make_withdraw``` function, we only output the difference between our initial balance and the amount we wish to withdraw, and we never find a way to update/store the new balance in the function."
   ]
  },
  {
   "cell_type": "markdown",
   "metadata": {},
   "source": [
    "#### 5b) Updating balance in the inner function"
   ]
  },
  {
   "cell_type": "code",
   "execution_count": 307,
   "metadata": {
    "collapsed": true
   },
   "outputs": [],
   "source": [
    "def make_withdraw2(balance):\n",
    "    def withdraw(wd_amount):\n",
    "        if balance < wd_amount:\n",
    "            raise ValueError(\"You cannot withdraw more than you have in the bank!\")\n",
    "        else:\n",
    "            balance = balance - wd_amount\n",
    "            return balance\n",
    "    return withdraw"
   ]
  },
  {
   "cell_type": "code",
   "execution_count": 308,
   "metadata": {},
   "outputs": [
    {
     "name": "stdout",
     "output_type": "stream",
     "text": [
      "Trying to withdraw $31:\n"
     ]
    },
    {
     "ename": "UnboundLocalError",
     "evalue": "local variable 'balance' referenced before assignment",
     "output_type": "error",
     "traceback": [
      "\u001b[0;31m---------------------------------------------------------------------------\u001b[0m",
      "\u001b[0;31mUnboundLocalError\u001b[0m                         Traceback (most recent call last)",
      "\u001b[0;32m<ipython-input-308-a84603d6431c>\u001b[0m in \u001b[0;36m<module>\u001b[0;34m()\u001b[0m\n\u001b[1;32m      2\u001b[0m \u001b[0mprint\u001b[0m \u001b[0;34m(\u001b[0m\u001b[0;34m\"Trying to withdraw $31:\"\u001b[0m\u001b[0;34m)\u001b[0m\u001b[0;34m\u001b[0m\u001b[0m\n\u001b[1;32m      3\u001b[0m \u001b[0;32mtry\u001b[0m\u001b[0;34m:\u001b[0m\u001b[0;34m\u001b[0m\u001b[0m\n\u001b[0;32m----> 4\u001b[0;31m     \u001b[0mprint\u001b[0m \u001b[0;34m(\u001b[0m\u001b[0mwd\u001b[0m\u001b[0;34m(\u001b[0m\u001b[0;36m31\u001b[0m\u001b[0;34m)\u001b[0m\u001b[0;34m)\u001b[0m\u001b[0;34m\u001b[0m\u001b[0m\n\u001b[0m\u001b[1;32m      5\u001b[0m \u001b[0;32mexcept\u001b[0m \u001b[0mValueError\u001b[0m\u001b[0;34m:\u001b[0m\u001b[0;34m\u001b[0m\u001b[0m\n\u001b[1;32m      6\u001b[0m     \u001b[0mprint\u001b[0m \u001b[0;34m(\u001b[0m\u001b[0;34m\"You cannot withdraw more than you have in the bank!\"\u001b[0m\u001b[0;34m)\u001b[0m\u001b[0;34m\u001b[0m\u001b[0m\n",
      "\u001b[0;32m<ipython-input-307-77b8a10c2c60>\u001b[0m in \u001b[0;36mwithdraw\u001b[0;34m(wd_amount)\u001b[0m\n\u001b[1;32m      1\u001b[0m \u001b[0;32mdef\u001b[0m \u001b[0mmake_withdraw2\u001b[0m\u001b[0;34m(\u001b[0m\u001b[0mbalance\u001b[0m\u001b[0;34m)\u001b[0m\u001b[0;34m:\u001b[0m\u001b[0;34m\u001b[0m\u001b[0m\n\u001b[1;32m      2\u001b[0m     \u001b[0;32mdef\u001b[0m \u001b[0mwithdraw\u001b[0m\u001b[0;34m(\u001b[0m\u001b[0mwd_amount\u001b[0m\u001b[0;34m)\u001b[0m\u001b[0;34m:\u001b[0m\u001b[0;34m\u001b[0m\u001b[0m\n\u001b[0;32m----> 3\u001b[0;31m         \u001b[0;32mif\u001b[0m \u001b[0mbalance\u001b[0m \u001b[0;34m<\u001b[0m \u001b[0mwd_amount\u001b[0m\u001b[0;34m:\u001b[0m\u001b[0;34m\u001b[0m\u001b[0m\n\u001b[0m\u001b[1;32m      4\u001b[0m             \u001b[0;32mraise\u001b[0m \u001b[0mValueError\u001b[0m\u001b[0;34m(\u001b[0m\u001b[0;34m\"You cannot withdraw more than you have in the bank!\"\u001b[0m\u001b[0;34m)\u001b[0m\u001b[0;34m\u001b[0m\u001b[0m\n\u001b[1;32m      5\u001b[0m         \u001b[0;32melse\u001b[0m\u001b[0;34m:\u001b[0m\u001b[0;34m\u001b[0m\u001b[0m\n",
      "\u001b[0;31mUnboundLocalError\u001b[0m: local variable 'balance' referenced before assignment"
     ]
    }
   ],
   "source": [
    "wd = make_withdraw2(30)\n",
    "print (\"Trying to withdraw $31:\")\n",
    "try:\n",
    "    print (wd(31))\n",
    "except ValueError:\n",
    "    print (\"You cannot withdraw more than you have in the bank!\")\n",
    "print (\"After withdrawing $25:\")\n",
    "print (wd(25))\n",
    "print (\"After withdrawing $5:\")\n",
    "print (wd(5))"
   ]
  },
  {
   "cell_type": "markdown",
   "metadata": {},
   "source": [
    "**Explanation:** When we try to change the withdraw function to update the balance in the inner function, we get an ```UnboundLocalError```. Theoretically, we wanted to update the `balance` that was passed in from the outer function in the inner function by subtracting the amount we want to withdraw from itself. However, the line `balance = balance - wd_amount` creates a new local variable `balance` in the inner function. Thus, once this new local variable has been created, the inner function will not look for `balance` outside of its function since the actual `balance` we are interested in is out of its scope. Thus, when the inner function encounters the second `balance` on the right-hand side, it realizes that our inner function local variable `balance` isn't assigned anything yet, and gives us an error."
   ]
  },
  {
   "cell_type": "code",
   "execution_count": 309,
   "metadata": {},
   "outputs": [],
   "source": [
    "def make_withdraw3(balance):\n",
    "    def withdraw(wd_amount):\n",
    "        nonlocal balance\n",
    "        if balance < wd_amount:\n",
    "            raise ValueError(\"You cannot withdraw more than you have in the bank!\")\n",
    "        else:\n",
    "            balance = balance - wd_amount\n",
    "            return balance\n",
    "    return withdraw"
   ]
  },
  {
   "cell_type": "code",
   "execution_count": 310,
   "metadata": {
    "scrolled": true
   },
   "outputs": [
    {
     "name": "stdout",
     "output_type": "stream",
     "text": [
      "Trying to withdraw $31:\n",
      "You cannot withdraw more than you have in the bank!\n",
      "After withdrawing $25:\n",
      "5\n",
      "After withdrawing $5:\n",
      "0\n"
     ]
    }
   ],
   "source": [
    "wd = make_withdraw3(30)\n",
    "print (\"Trying to withdraw $31:\")\n",
    "try:\n",
    "    print (wd(31))\n",
    "except ValueError:\n",
    "    print (\"You cannot withdraw more than you have in the bank!\")\n",
    "print (\"After withdrawing $25:\")\n",
    "print (wd(25))\n",
    "print (\"After withdrawing $5:\")\n",
    "print (wd(5))"
   ]
  },
  {
   "cell_type": "markdown",
   "metadata": {},
   "source": [
    "#### 5d) Visualizing my code"
   ]
  },
  {
   "cell_type": "code",
   "execution_count": 311,
   "metadata": {},
   "outputs": [
    {
     "data": {
      "text/html": [
       "<iframe width=\"800\" height=\"500\" frameborder=\"0\" src=\"http://pythontutor.com/iframe-embed.html#code=def%20make_withdraw3%28balance%29%3A%0A%20%20%20%20def%20withdraw%28wd_amount%29%3A%0A%20%20%20%20%20%20%20%20nonlocal%20balance%0A%20%20%20%20%20%20%20%20if%20balance%20%3C%20wd_amount%3A%0A%20%20%20%20%20%20%20%20%20%20%20%20raise%20ValueError%28%22You%20cannot%20withdraw%20more%20than%20you%20have%20in%20the%20bank!%22%29%0A%20%20%20%20%20%20%20%20else%3A%0A%20%20%20%20%20%20%20%20%20%20%20%20balance%20%3D%20balance%20-%20wd_amount%0A%20%20%20%20%20%20%20%20%20%20%20%20return%20balance%0A%20%20%20%20return%20withdraw%0A%0Awd%20%3D%20make_withdraw3%2830%29%0Aprint%20%28%22Trying%20to%20withdraw%20%2431%3A%22%29%0Atry%3A%0A%20%20%20%20print%20%28wd%2831%29%29%0Aexcept%20ValueError%3A%0A%20%20%20%20print%20%28%22You%20cannot%20withdraw%20more%20than%20you%20have%20in%20the%20bank!%22%29%0Aprint%20%28%22After%20withdrawing%20%2425%3A%22%29%0Aprint%20%28wd%2825%29%29%0Aprint%20%28%22After%20withdrawing%20%245%3A%22%29%0Aprint%20%28wd%285%29%29&codeDivHeight=400&codeDivWidth=350&cumulative=false&curInstr=0&heapPrimitives=nevernest&origin=opt-frontend.js&py=3&rawInputLstJSON=%5B%5D&textReferences=false\"> </iframe>"
      ],
      "text/plain": [
       "<IPython.core.display.HTML object>"
      ]
     },
     "execution_count": 311,
     "metadata": {},
     "output_type": "execute_result"
    }
   ],
   "source": [
    "from IPython.display import HTML\n",
    "HTML('<iframe width=\"800\" height=\"500\" frameborder=\"0\" src=\"http://pythontutor.com/iframe-embed.html#code=def%20make_withdraw3%28balance%29%3A%0A%20%20%20%20def%20withdraw%28wd_amount%29%3A%0A%20%20%20%20%20%20%20%20nonlocal%20balance%0A%20%20%20%20%20%20%20%20if%20balance%20%3C%20wd_amount%3A%0A%20%20%20%20%20%20%20%20%20%20%20%20raise%20ValueError%28%22You%20cannot%20withdraw%20more%20than%20you%20have%20in%20the%20bank!%22%29%0A%20%20%20%20%20%20%20%20else%3A%0A%20%20%20%20%20%20%20%20%20%20%20%20balance%20%3D%20balance%20-%20wd_amount%0A%20%20%20%20%20%20%20%20%20%20%20%20return%20balance%0A%20%20%20%20return%20withdraw%0A%0Awd%20%3D%20make_withdraw3%2830%29%0Aprint%20%28%22Trying%20to%20withdraw%20%2431%3A%22%29%0Atry%3A%0A%20%20%20%20print%20%28wd%2831%29%29%0Aexcept%20ValueError%3A%0A%20%20%20%20print%20%28%22You%20cannot%20withdraw%20more%20than%20you%20have%20in%20the%20bank!%22%29%0Aprint%20%28%22After%20withdrawing%20%2425%3A%22%29%0Aprint%20%28wd%2825%29%29%0Aprint%20%28%22After%20withdrawing%20%245%3A%22%29%0Aprint%20%28wd%285%29%29&codeDivHeight=400&codeDivWidth=350&cumulative=false&curInstr=0&heapPrimitives=nevernest&origin=opt-frontend.js&py=3&rawInputLstJSON=%5B%5D&textReferences=false\"> </iframe>')"
   ]
  },
  {
   "cell_type": "markdown",
   "metadata": {},
   "source": [
    "---\n",
    "<a id='p6'></a>\n",
    "### Problem 6 [10 pts]: Average Area of the Circles (part 2)\n",
    "Let's return to the data from Problem 4.  \n",
    "\n",
    "Write two functions: \n",
    "1. The first function should return the average circle radius (you can re-use the one you already wrote if you'd like, but you might need to update it slightly for this problem).\n",
    "2. The second function should just use `numpy` to compute the average.\n",
    "\n",
    "Write a decorator to time the evaluation of each function.  You can use the timing decorator from lecture.\n",
    "\n",
    "#### Notes and Hints\n",
    "1. Be fair!\n",
    "2. To be as fair as possible, do the following:\n",
    "  1. Create an `areas` list/array _outside_ of your averaging functions.  This means that you should do a loop over the radii you read in from `circles.txt`, compute the area from each point, and store that area in an array.  Do you know why this is more fair?  If not, think about it make sure you understand.  Also, do not use `append`.  Instead, preallocate space for your `area` list/array.\n",
    "  2. Your `my_ave` function should accept your areas data as a list.  Remember, to allocate a list you should do `[0.0]*N`: if you use such a construct your list will be filled in with $N$ zeros.\n",
    "  3. Your `np_ave` function should accept your areas data as a `numpy` array.  To allocate a `numpy` array do `areas_np = np.zeros(len(radii))`.\n",
    "  4. Now both functions are using the best data types possible for their tasks."
   ]
  },
  {
   "cell_type": "code",
   "execution_count": 319,
   "metadata": {
    "collapsed": true
   },
   "outputs": [],
   "source": [
    "# Time function from lecture\n",
    "import time\n",
    "def timer(f):\n",
    "    def inner(*args):\n",
    "        t0 = time.time()\n",
    "        output = f(*args)\n",
    "        elapsed = time.time() - t0\n",
    "        print(\"Time Elapsed\", elapsed)\n",
    "        return output\n",
    "    return inner"
   ]
  },
  {
   "cell_type": "code",
   "execution_count": 320,
   "metadata": {},
   "outputs": [],
   "source": [
    "from math import pi\n",
    "import numpy as np\n",
    "\n",
    "# We first read in circles.txt, create an array of radii from the txt file and calculate each of their areas\n",
    "f = open('circles.txt')\n",
    "radii = f.read().splitlines()\n",
    "areas = [0.0]*len(radii) # Initialize a list of all 0s\n",
    "areas_np = np.zeros(len(radii)) # Initialize a numpy array of all 0s\n",
    "\n",
    "# Populate the list and numpy array with areas\n",
    "for i in range(len(radii)):\n",
    "    area = pi * (float(radii[i]) ** 2)\n",
    "    areas[i] = area\n",
    "    areas_np[i] = area\n",
    "\n",
    "# Returns average circle radius without using numpy\n",
    "@timer\n",
    "def my_ave(areas):\n",
    "    total = length = 0\n",
    "    for area in areas:\n",
    "        total += area\n",
    "        length += 1\n",
    "    return total/length\n",
    "\n",
    "# Returns average circle radius with numpy\n",
    "@timer\n",
    "def np_ave(areas):\n",
    "    return np.mean(areas)"
   ]
  },
  {
   "cell_type": "code",
   "execution_count": 321,
   "metadata": {},
   "outputs": [
    {
     "name": "stdout",
     "output_type": "stream",
     "text": [
      "Time Elapsed 0.00012493133544921875\n",
      "Time Elapsed 7.891654968261719e-05\n"
     ]
    }
   ],
   "source": [
    "ave_regular = my_ave(areas)\n",
    "ave_numpy = np_ave(areas_np)"
   ]
  },
  {
   "cell_type": "code",
   "execution_count": 322,
   "metadata": {},
   "outputs": [
    {
     "name": "stdout",
     "output_type": "stream",
     "text": [
      "3.1958990970819956\n",
      "3.195899097081994\n"
     ]
    }
   ],
   "source": [
    "print (ave_regular)\n",
    "print (ave_numpy)"
   ]
  },
  {
   "cell_type": "markdown",
   "metadata": {},
   "source": [
    "---\n",
    "<a id='p7'></a>\n",
    "### Problem 7 [10 pts]: Positivity\n",
    "Write a decorator to check if a quantity returned from a function is positive.  An exception should be raised if the quantity is not positive.\n",
    "\n",
    "Write three functions and decorate them with your decorator:\n",
    "1. A function that returns the discriminant $\\displaystyle d = b^{2} - 4ac$\n",
    "2. A function that computes the absolute value (you must write this yourself...do not use built-ins)\n",
    "3. A function of your own choosing.\n",
    "\n",
    "Show that your decorator behaves correctly.  That is, for each function, show two cases (where applicable):\n",
    "1. A case where positivity is not violated\n",
    "2. A case where positivity is violated"
   ]
  },
  {
   "cell_type": "code",
   "execution_count": 323,
   "metadata": {
    "collapsed": true
   },
   "outputs": [],
   "source": [
    "# Creating decorator function that checks postivity\n",
    "def check_pos(f):\n",
    "    def inner(*args):\n",
    "        output = f(*args)\n",
    "        if output <= 0:\n",
    "            raise ValueError(\"This output is not positive!\")\n",
    "        return output\n",
    "    return inner"
   ]
  },
  {
   "cell_type": "code",
   "execution_count": 324,
   "metadata": {
    "collapsed": true
   },
   "outputs": [],
   "source": [
    "@check_pos\n",
    "def discriminant(a, b, c):\n",
    "    return b * b - 4 * a * c\n",
    "\n",
    "# abs_val function returns itself if positive (or 0), and returns negative of itself if negative\n",
    "@check_pos\n",
    "def abs_val(x):\n",
    "    if x < 0:\n",
    "        return -x\n",
    "    return x\n",
    "\n",
    "# random function that multiplies number by -1 and adds 100\n",
    "@check_pos\n",
    "def transform(n):\n",
    "    return n * -1 + 100"
   ]
  },
  {
   "cell_type": "code",
   "execution_count": 325,
   "metadata": {},
   "outputs": [],
   "source": [
    "# These cases should not return anything, as outputs are positive\n",
    "d = discriminant(1, 4, 1)\n",
    "a = abs_val(-9)\n",
    "t = transform(20)"
   ]
  },
  {
   "cell_type": "code",
   "execution_count": 326,
   "metadata": {},
   "outputs": [
    {
     "ename": "ValueError",
     "evalue": "This output is not positive!",
     "output_type": "error",
     "traceback": [
      "\u001b[0;31m---------------------------------------------------------------------------\u001b[0m",
      "\u001b[0;31mValueError\u001b[0m                                Traceback (most recent call last)",
      "\u001b[0;32m<ipython-input-326-d3052a60fedf>\u001b[0m in \u001b[0;36m<module>\u001b[0;34m()\u001b[0m\n\u001b[1;32m      1\u001b[0m \u001b[0;31m# These cases should return ValueErrors, as outputs are not positive\u001b[0m\u001b[0;34m\u001b[0m\u001b[0;34m\u001b[0m\u001b[0m\n\u001b[0;32m----> 2\u001b[0;31m \u001b[0md\u001b[0m \u001b[0;34m=\u001b[0m \u001b[0mdiscriminant\u001b[0m\u001b[0;34m(\u001b[0m\u001b[0;36m4\u001b[0m\u001b[0;34m,\u001b[0m \u001b[0;36m1\u001b[0m\u001b[0;34m,\u001b[0m \u001b[0;36m1\u001b[0m\u001b[0;34m)\u001b[0m\u001b[0;34m\u001b[0m\u001b[0m\n\u001b[0m",
      "\u001b[0;32m<ipython-input-323-53b5530690da>\u001b[0m in \u001b[0;36minner\u001b[0;34m(*args)\u001b[0m\n\u001b[1;32m      4\u001b[0m         \u001b[0moutput\u001b[0m \u001b[0;34m=\u001b[0m \u001b[0mf\u001b[0m\u001b[0;34m(\u001b[0m\u001b[0;34m*\u001b[0m\u001b[0margs\u001b[0m\u001b[0;34m)\u001b[0m\u001b[0;34m\u001b[0m\u001b[0m\n\u001b[1;32m      5\u001b[0m         \u001b[0;32mif\u001b[0m \u001b[0moutput\u001b[0m \u001b[0;34m<=\u001b[0m \u001b[0;36m0\u001b[0m\u001b[0;34m:\u001b[0m\u001b[0;34m\u001b[0m\u001b[0m\n\u001b[0;32m----> 6\u001b[0;31m             \u001b[0;32mraise\u001b[0m \u001b[0mValueError\u001b[0m\u001b[0;34m(\u001b[0m\u001b[0;34m\"This output is not positive!\"\u001b[0m\u001b[0;34m)\u001b[0m\u001b[0;34m\u001b[0m\u001b[0m\n\u001b[0m\u001b[1;32m      7\u001b[0m         \u001b[0;32mreturn\u001b[0m \u001b[0moutput\u001b[0m\u001b[0;34m\u001b[0m\u001b[0m\n\u001b[1;32m      8\u001b[0m     \u001b[0;32mreturn\u001b[0m \u001b[0minner\u001b[0m\u001b[0;34m\u001b[0m\u001b[0m\n",
      "\u001b[0;31mValueError\u001b[0m: This output is not positive!"
     ]
    }
   ],
   "source": [
    "# These cases should return ValueErrors, as outputs are not positive\n",
    "d = discriminant(4, 1, 1)"
   ]
  },
  {
   "cell_type": "code",
   "execution_count": 327,
   "metadata": {},
   "outputs": [
    {
     "ename": "ValueError",
     "evalue": "This output is not positive!",
     "output_type": "error",
     "traceback": [
      "\u001b[0;31m---------------------------------------------------------------------------\u001b[0m",
      "\u001b[0;31mValueError\u001b[0m                                Traceback (most recent call last)",
      "\u001b[0;32m<ipython-input-327-a82c3c62f8fc>\u001b[0m in \u001b[0;36m<module>\u001b[0;34m()\u001b[0m\n\u001b[0;32m----> 1\u001b[0;31m \u001b[0ma\u001b[0m \u001b[0;34m=\u001b[0m \u001b[0mabs_val\u001b[0m\u001b[0;34m(\u001b[0m\u001b[0;36m0\u001b[0m\u001b[0;34m)\u001b[0m\u001b[0;34m\u001b[0m\u001b[0m\n\u001b[0m",
      "\u001b[0;32m<ipython-input-323-53b5530690da>\u001b[0m in \u001b[0;36minner\u001b[0;34m(*args)\u001b[0m\n\u001b[1;32m      4\u001b[0m         \u001b[0moutput\u001b[0m \u001b[0;34m=\u001b[0m \u001b[0mf\u001b[0m\u001b[0;34m(\u001b[0m\u001b[0;34m*\u001b[0m\u001b[0margs\u001b[0m\u001b[0;34m)\u001b[0m\u001b[0;34m\u001b[0m\u001b[0m\n\u001b[1;32m      5\u001b[0m         \u001b[0;32mif\u001b[0m \u001b[0moutput\u001b[0m \u001b[0;34m<=\u001b[0m \u001b[0;36m0\u001b[0m\u001b[0;34m:\u001b[0m\u001b[0;34m\u001b[0m\u001b[0m\n\u001b[0;32m----> 6\u001b[0;31m             \u001b[0;32mraise\u001b[0m \u001b[0mValueError\u001b[0m\u001b[0;34m(\u001b[0m\u001b[0;34m\"This output is not positive!\"\u001b[0m\u001b[0;34m)\u001b[0m\u001b[0;34m\u001b[0m\u001b[0m\n\u001b[0m\u001b[1;32m      7\u001b[0m         \u001b[0;32mreturn\u001b[0m \u001b[0moutput\u001b[0m\u001b[0;34m\u001b[0m\u001b[0m\n\u001b[1;32m      8\u001b[0m     \u001b[0;32mreturn\u001b[0m \u001b[0minner\u001b[0m\u001b[0;34m\u001b[0m\u001b[0m\n",
      "\u001b[0;31mValueError\u001b[0m: This output is not positive!"
     ]
    }
   ],
   "source": [
    "a = abs_val(0)"
   ]
  },
  {
   "cell_type": "code",
   "execution_count": 328,
   "metadata": {},
   "outputs": [
    {
     "ename": "ValueError",
     "evalue": "This output is not positive!",
     "output_type": "error",
     "traceback": [
      "\u001b[0;31m---------------------------------------------------------------------------\u001b[0m",
      "\u001b[0;31mValueError\u001b[0m                                Traceback (most recent call last)",
      "\u001b[0;32m<ipython-input-328-621d1984fbd2>\u001b[0m in \u001b[0;36m<module>\u001b[0;34m()\u001b[0m\n\u001b[0;32m----> 1\u001b[0;31m \u001b[0mt\u001b[0m \u001b[0;34m=\u001b[0m \u001b[0mtransform\u001b[0m\u001b[0;34m(\u001b[0m\u001b[0;36m101\u001b[0m\u001b[0;34m)\u001b[0m\u001b[0;34m\u001b[0m\u001b[0m\n\u001b[0m",
      "\u001b[0;32m<ipython-input-323-53b5530690da>\u001b[0m in \u001b[0;36minner\u001b[0;34m(*args)\u001b[0m\n\u001b[1;32m      4\u001b[0m         \u001b[0moutput\u001b[0m \u001b[0;34m=\u001b[0m \u001b[0mf\u001b[0m\u001b[0;34m(\u001b[0m\u001b[0;34m*\u001b[0m\u001b[0margs\u001b[0m\u001b[0;34m)\u001b[0m\u001b[0;34m\u001b[0m\u001b[0m\n\u001b[1;32m      5\u001b[0m         \u001b[0;32mif\u001b[0m \u001b[0moutput\u001b[0m \u001b[0;34m<=\u001b[0m \u001b[0;36m0\u001b[0m\u001b[0;34m:\u001b[0m\u001b[0;34m\u001b[0m\u001b[0m\n\u001b[0;32m----> 6\u001b[0;31m             \u001b[0;32mraise\u001b[0m \u001b[0mValueError\u001b[0m\u001b[0;34m(\u001b[0m\u001b[0;34m\"This output is not positive!\"\u001b[0m\u001b[0;34m)\u001b[0m\u001b[0;34m\u001b[0m\u001b[0m\n\u001b[0m\u001b[1;32m      7\u001b[0m         \u001b[0;32mreturn\u001b[0m \u001b[0moutput\u001b[0m\u001b[0;34m\u001b[0m\u001b[0m\n\u001b[1;32m      8\u001b[0m     \u001b[0;32mreturn\u001b[0m \u001b[0minner\u001b[0m\u001b[0;34m\u001b[0m\u001b[0m\n",
      "\u001b[0;31mValueError\u001b[0m: This output is not positive!"
     ]
    }
   ],
   "source": [
    "t = transform(101)"
   ]
  }
 ],
 "metadata": {
  "kernelspec": {
   "display_name": "Python 3",
   "language": "python",
   "name": "python3"
  },
  "language_info": {
   "codemirror_mode": {
    "name": "ipython",
    "version": 3
   },
   "file_extension": ".py",
   "mimetype": "text/x-python",
   "name": "python",
   "nbconvert_exporter": "python",
   "pygments_lexer": "ipython3",
   "version": "3.6.3"
  }
 },
 "nbformat": 4,
 "nbformat_minor": 2
}
