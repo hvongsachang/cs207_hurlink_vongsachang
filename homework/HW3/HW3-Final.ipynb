{
 "cells": [
  {
   "cell_type": "markdown",
   "metadata": {},
   "source": [
    "# Homework 3\n",
    "## Due Date:  Thursday, October 4th at 11:59 PM\n",
    "### There are 3 parts to this homework.\n",
    "   [Problem 1](#p1) Writing a Linear regression class using Object Oriented Programming (OOP) paradigm [40pts]<br>\n",
    "   [Problem 2](#p2) Toy module [10pts] <br>\n",
    "   [Problem 3](#p3) Writing Bank Account software using Object Oriented Programming (OOP) paradigm [50pts]\n",
    "    \n",
    "---"
   ]
  },
  {
   "cell_type": "markdown",
   "metadata": {},
   "source": [
    "<a id='p1'></a>\n",
    "## Problem 1:  Linear Regression Class [40pts]\n",
    "\n",
    "In this problem, you will create custom `Python` classes for two related types of linear regression: Ordinary Least Squares Linear Regression and Ridge Regression.\n",
    "\n",
    "You are prohibited from using standard regression libraries in `Python` such as `sklearn`.  These classes must be your own.  However, you *are* permitted to check your answers against standard libraries."
   ]
  },
  {
   "cell_type": "markdown",
   "metadata": {},
   "source": [
    "### Background\n",
    "\n",
    "Consider the multivariate linear model:\n",
    "$$y = X\\beta + \\epsilon$$\n",
    "where $y$ is a length $n$ vector, $X$ is an $m \\times p$ matrix, and $\\beta$ is a $p$ length vector of coefficients.\n",
    "\n",
    "The goal is to find the coefficients $\\beta$ so that the linear model fits the data the best.  There are many approaches to this, but in this problem you will only consider two.\n",
    "\n",
    "#### Ordinary Least Squares Linear Regression\n",
    "\n",
    "[OLS Regression](https://en.wikipedia.org/wiki/Ordinary_least_squares) seeks to minimize the following cost function:\n",
    "\n",
    "$$\\|y - \\beta X\\|^{2}.$$\n",
    "\n",
    "The best fit coefficients are given by:\n",
    "\n",
    "$$\\widehat{\\beta} = (X^T X)^{-1}X^Ty$$\n",
    "\n",
    "where $X^T$ is the transpose of the matrix $X$ and $X^{-1}$ is the inverse of the matrix $X$.\n",
    "\n",
    "#### Ridge Regression\n",
    "\n",
    "[Ridge Regression](https://en.wikipedia.org/wiki/Tikhonov_regularization) introduces an $L_{2}$ regularization so the new cost function is:\n",
    "\n",
    "$$\\|y - \\beta X\\|^{2}+\\|\\Gamma \\beta \\|^{2}.$$\n",
    "\n",
    "where $\\Gamma = \\alpha I$ for some constant $\\alpha$ and $I$ is the identity matrix.\n",
    "\n",
    "The best fit coefficients for this case are given by:\n",
    "$$\\hat{\\beta} = (X^T X+\\Gamma^T\\Gamma)^{-1}X^Ty.$$\n",
    "\n",
    "#### $R^2$ score\n",
    "You will use the [$R^{2}$ metric](https://en.wikipedia.org/wiki/Coefficient_of_determination) to assess the performance of the models.  The $R^2$ score is defined as:\n",
    "$$\\displaystyle R^{2} = 1-\\dfrac{SS_{E}}{SS_{T}}$$\n",
    "where\n",
    "$$SS_{T}=\\sum_{i}{\\left(y_{i}-\\overline{y}\\right)^2}$$ and $$SS_{E}=\\sum_{i}{\\left(y_{i} - \\widehat{y_i}\\right)^2}.$$\n",
    "\n",
    "The ${y_i}$ are the original data values, $\\widehat{y_i}$ are the predicted values, and $\\overline{y_i}$ is the mean of the original data values."
   ]
  },
  {
   "cell_type": "markdown",
   "metadata": {},
   "source": [
    "### Part 1:  Base Class\n",
    "Write a class called `Regression` with the following methods:\n",
    "\n",
    "`__init__()`: Initializez an empty dictionary called `params`.\n",
    "\n",
    "`fit(X, y)`: Fits linear model to $X$ and $y$.  Stores best-fit parameters in the dictionary attribute called `params`.  The first key should be the coefficients (not including the intercept) and the second key should be the intercept.\n",
    "\n",
    "`get_params()`: Returns $\\widehat{\\beta}$ for the fitted model.  Note that the `fit` method already stored the dictionary in `params`, so all you need to do is return that dictionary.\n",
    "\n",
    "`predict(X)`: Predict new values with the fitted model given $X$.\n",
    "\n",
    "`score(X, y)`: Returns the $R^2$ value of the fitted model.\n",
    "\n",
    "`set_params()`: Manually set parameters of the linear model.  The method should accept variable keyword arguments (`**kwargs`) containing model parameters.  In this problem, it will be used to set the reguarization coefficient $\\alpha$ in the ridge regression model.\n",
    "\n",
    "This parent class should throw a `NotImplementedError` for methods that are intended to be implemented by subclasses.\n",
    "\n",
    "Here is the interface for the `Regression` class:"
   ]
  },
  {
   "cell_type": "code",
   "execution_count": 1,
   "metadata": {
    "collapsed": true
   },
   "outputs": [],
   "source": [
    "import numpy as np\n",
    "class Regression(object):\n",
    "    \n",
    "    # initialize a parameter dict\n",
    "    def __init__(self):\n",
    "        self.params = dict()\n",
    "    \n",
    "    # returning the parameters\n",
    "    def get_params(self):\n",
    "        return self.params\n",
    "    \n",
    "    # set params by updating dictionary\n",
    "    def set_params(self, **kwargs):\n",
    "        self.params.update(kwargs)\n",
    "        \n",
    "    def fit(self, X, y):\n",
    "        raise NotImplementedError\n",
    "       \n",
    "    # return the predicted y following the formula\n",
    "    def predict(self, X):\n",
    "        return X @ self.params['coefficients'] + self.params['intercept']\n",
    "        \n",
    "    # calculating score\n",
    "    def score(self, X, y):\n",
    "        mean_y = np.mean(y)\n",
    "        sst = np.sum((y - mean_y) ** 2)\n",
    "        predict_y = self.predict(X)\n",
    "        sse = np.sum((np.subtract(y, predict_y)) ** 2)\n",
    "        return 1 - (sse / sst)"
   ]
  },
  {
   "cell_type": "markdown",
   "metadata": {},
   "source": [
    "### Part 2: OLS Linear Regression\n",
    "\n",
    "Write a class called `LinearRegression` that implements the OLS Regression model described above and inherits the `Regression` class.\n",
    "\n",
    "**Hints:**\n",
    "* Note that the linear model $\\beta X$ can also include an intercept term (e.g. $\\displaystyle \\beta_{1} x_{1} + \\beta_{0}$).  This is handled by appending a column of ones to the feature matrix $X$.  See the [`numpy.append`](https://docs.scipy.org/doc/numpy/reference/generated/numpy.append.html) documentation.  You may want to consider doing the append inside your `fit` method.\n",
    "* The best-fit coefficients $\\widehat{\\beta}$ are determined by forming the inverse of $\\displaystyle X^{T}X$.  Rather than using the `numpy.linalg.inv` method, it would be better to use the [pseudo-inverse](https://docs.scipy.org/doc/numpy/reference/generated/numpy.linalg.pinv.html)."
   ]
  },
  {
   "cell_type": "code",
   "execution_count": 2,
   "metadata": {
    "collapsed": true
   },
   "outputs": [],
   "source": [
    "class LinearRegression(Regression):\n",
    "    \n",
    "    def fit(self, X, y):\n",
    "        \n",
    "        # appending column of ones to the end of X for intercept\n",
    "        X = np.append(X, [[1]] * len(X), 1)\n",
    "        \n",
    "        # calculating best-fit coefficients\n",
    "        coeffs = np.linalg.pinv(X.T @ X) @ (X.T @ y)\n",
    "        intercept = coeffs[-1]\n",
    "        self.set_params(coefficients = coeffs[0:-1], intercept = intercept)"
   ]
  },
  {
   "cell_type": "markdown",
   "metadata": {},
   "source": [
    "### Part 3: Ridge Regression\n",
    "\n",
    "Write a class called `RidgeRegression` that implements Ridge Regression and inherits the `LinearRegression` class."
   ]
  },
  {
   "cell_type": "code",
   "execution_count": 3,
   "metadata": {
    "collapsed": true
   },
   "outputs": [],
   "source": [
    "class RidgeRegression(LinearRegression):\n",
    "    \n",
    "    def __init__(self, alpha):\n",
    "        # first initialize a dict\n",
    "        super(RidgeRegression, self).__init__()\n",
    "        self.set_params(alpha = alpha)\n",
    "        \n",
    "    def fit(self, X, y):\n",
    "        \n",
    "        # appending column of ones to the end of X for intercept\n",
    "        X = np.append(X, [[1]] * len(X), 1)\n",
    "        \n",
    "        # calculating X_tranpose X\n",
    "        xtx = X.T @ X\n",
    "        \n",
    "        # creating the identity matrix based on the shape of X_transpose times X multiplied with alpha\n",
    "        i = np.identity(len(xtx)) * self.params['alpha']\n",
    "        \n",
    "        # multiplying the gamma_transpose times gamma\n",
    "        gtg = i.T @ i\n",
    "        \n",
    "        # calculating best-fit coefficients\n",
    "        coefficients = np.linalg.pinv(xtx + gtg) @ (X.T @ y)\n",
    "        intercept = coefficients[-1]\n",
    "        self.set_params(coefficients = coefficients[0:-1], intercept = intercept)"
   ]
  },
  {
   "cell_type": "markdown",
   "metadata": {},
   "source": [
    "### Part 4: Model Scoring\n",
    "You will use the [Boston dataset](http://scikit-learn.org/stable/modules/generated/sklearn.datasets.load_boston.html) for this part.\n",
    "\n",
    "Instantiate each of the two models above.  Using a for loop, fit (on the training data) and score (on the testing data) each model on the Boston dataset.\n",
    "\n",
    "**Note 1:** Some of you may not be familiar with the train-test split pattern from the statistics world.  All this means is that you take your dataset and split it into two parts, a training part and test part (often 80-20 split).  You perform the analysis on the training data in order to determine the best-fit parameters in your model.  Then, you use that model to make a prediction using data from the test set.  Finally, you assess the performance of the model on the test set.\n",
    "\n",
    "Print out the $R^2$ value for each model and the parameters for the best model using the `get_params()` method.  Use an $\\alpha$ value of 0.1.\n",
    "\n",
    "**Hint:**  The code below demonstrates how to do a train-test split.  It also demos the way a user should interact with your classes.  Note that the demo uses the diabetes dataset, which you should change to the Boston dataset. "
   ]
  },
  {
   "cell_type": "code",
   "execution_count": 4,
   "metadata": {},
   "outputs": [
    {
     "name": "stdout",
     "output_type": "stream",
     "text": [
      "0.6684825753971422\n",
      "0.6678550672649411\n"
     ]
    }
   ],
   "source": [
    "import numpy as np\n",
    "from sklearn import datasets\n",
    "from collections import Counter\n",
    "import matplotlib.pyplot as plt\n",
    "from sklearn.model_selection import train_test_split\n",
    "\n",
    "%matplotlib inline\n",
    "\n",
    "# changing .load_diabetes to .load_boston\n",
    "dataset = datasets.load_boston()\n",
    "X_train, X_test, y_train, y_test = train_test_split(dataset['data'], \n",
    "                                                    dataset['target'], \n",
    "                                                    test_size=0.2, \n",
    "                                                    random_state=42)\n",
    "\n",
    "alpha = 0.1\n",
    "models = [LinearRegression(),\n",
    "          RidgeRegression(alpha)]\n",
    "\n",
    "for model in models:\n",
    "    model.fit(X_train, y_train)\n",
    "    print (model.score(X_test, y_test))"
   ]
  },
  {
   "cell_type": "markdown",
   "metadata": {},
   "source": [
    "### Part 5: Visualize Model Performance\n",
    "\n",
    "Evaluate how the models perform for various values of $\\alpha$.\n",
    "* Calculate the $R^2$ scores for each model \n",
    "* Use $\\alpha \\in [0.05, 1]$ for the Ridge regression model\n",
    "* Plot the two lines on the same graph.\n",
    "* To change the parameters, use the `set_params()` method that you wrote.\n",
    "\n",
    "**Be sure to create a readable and interpretable plot!**.  This means axes labels should be present and readable and the plot should have a legend."
   ]
  },
  {
   "cell_type": "code",
   "execution_count": 5,
   "metadata": {},
   "outputs": [
    {
     "data": {
      "image/png": "[encoded data removed]",
      "text/plain": [
       "<matplotlib.figure.Figure at 0x10ac29208>"
      ]
     },
     "metadata": {},
     "output_type": "display_data"
    }
   ],
   "source": [
    "# lists for storings scores for every alpha\n",
    "lin_scores = []\n",
    "ridge_scores = []\n",
    "\n",
    "# trying alpha in increments of 0.05\n",
    "for a in np.arange(0.05, 1.05, 0.05):\n",
    "    # set alpha for each regression model defined in the previous cell\n",
    "    [x.set_params(alpha = a) for x in models]\n",
    "    \n",
    "    # train and test the models, and append scores to respective lists\n",
    "    models[0].fit(X_train, y_train)\n",
    "    lin_scores.append(models[0].score(X_test, y_test))\n",
    "    models[1].fit(X_train, y_train)\n",
    "    ridge_scores.append(models[1].score(X_test, y_test))\n",
    "    \n",
    "# plotting scores vs. alpha values\n",
    "plt.plot(np.arange(0.05, 1.05, 0.05), lin_scores)\n",
    "plt.plot(np.arange(0.05, 1.05, 0.05), ridge_scores)\n",
    "plt.title('R^2 scores with changing alpha value')\n",
    "plt.ylabel('R^2 score')\n",
    "plt.xlabel('Alpha value')\n",
    "plt.legend(['OLS regression', 'Ridge regression'])\n",
    "plt.show()"
   ]
  },
  {
   "cell_type": "markdown",
   "metadata": {},
   "source": [
    "<a id='p2'></a>\n",
    "# Problem 2 [10pts]\n",
    "We discussed how to create `Python` modules in lecture.  In this problem, you will create an very basic module and demonstrate some basic functionality.  The purpose of this exercise is to get you familiar with the essence of modules."
   ]
  },
  {
   "cell_type": "markdown",
   "metadata": {},
   "source": [
    "### Module\n",
    "So far, we have only been writing short `Python` scripts. However, when your code base starts to get bigger, you might want to organize your function and class definitions. The idea behind modules is to split your function and class definitions into multiple, logical units.  When you want to use a function or class you simply import it from the module.  In essence, a module is a file containing `Python` definitions and statements."
   ]
  },
  {
   "cell_type": "markdown",
   "metadata": {},
   "source": [
    "### Part 1:  Create a module\n",
    "Create a file called `MathCS207.py` inside your HW3 directory and include the following functions and names.  Please fill out the definition body.  `MathCS207.py` is now a module."
   ]
  },
  {
   "cell_type": "code",
   "execution_count": 6,
   "metadata": {},
   "outputs": [
    {
     "ename": "IndentationError",
     "evalue": "expected an indented block (<ipython-input-6-a67839de4828>, line 4)",
     "output_type": "error",
     "traceback": [
      "\u001b[0;36m  File \u001b[0;32m\"<ipython-input-6-a67839de4828>\"\u001b[0;36m, line \u001b[0;32m4\u001b[0m\n\u001b[0;31m    def subtract(a,b):\u001b[0m\n\u001b[0m      ^\u001b[0m\n\u001b[0;31mIndentationError\u001b[0m\u001b[0;31m:\u001b[0m expected an indented block\n"
     ]
    }
   ],
   "source": [
    "def add(a,b):\n",
    "    # your code here\n",
    "    \n",
    "def subtract(a,b):\n",
    "    # your code here\n",
    "    \n",
    "def multiply(a,b):\n",
    "    # your code here\n",
    "\n",
    "def divide(a,b):\n",
    "    # your code here"
   ]
  },
  {
   "cell_type": "markdown",
   "metadata": {},
   "source": [
    "### Part 2:  Import a whole module and use it\n",
    "Import the whole module you just created above and use the module's functions to perform addition, subtration, multiplication and division of the following numbers: \n",
    "\n",
    "<br><br>\n",
    "$$a = 10$$\n",
    "$$b = 2$$\n"
   ]
  },
  {
   "cell_type": "code",
   "execution_count": 7,
   "metadata": {},
   "outputs": [
    {
     "name": "stdout",
     "output_type": "stream",
     "text": [
      "12\n",
      "8\n",
      "20\n",
      "5.0\n"
     ]
    }
   ],
   "source": [
    "import MathCS207\n",
    "a = 10\n",
    "b = 2\n",
    "print (MathCS207.add(a, b))\n",
    "print (MathCS207.subtract(a, b))\n",
    "print (MathCS207.multiply(a, b))\n",
    "print (MathCS207.divide(a, b))"
   ]
  },
  {
   "cell_type": "markdown",
   "metadata": {},
   "source": [
    "### Part 3:  Import a single function from a module and use it\n",
    "Import the \"add\" from the `MathCS207` module and use it to add the following numbers:\n",
    "\n",
    "<br><br>\n",
    "$$a = 10$$\n",
    "$$b = 2$$"
   ]
  },
  {
   "cell_type": "code",
   "execution_count": 8,
   "metadata": {},
   "outputs": [
    {
     "name": "stdout",
     "output_type": "stream",
     "text": [
      "12\n"
     ]
    }
   ],
   "source": [
    "from MathCS207 import add\n",
    "a = 10\n",
    "b = 2\n",
    "print (add(a, b))"
   ]
  },
  {
   "cell_type": "markdown",
   "metadata": {},
   "source": [
    "### Part 4:  Import a module by creating an alias of it and then use the alias\n",
    "Import the `MathCS207` module as `mathcs` and use it to add the following numbers:\n",
    "\n",
    "<br><br>\n",
    "$$a = 10$$\n",
    "$$b = 2$$"
   ]
  },
  {
   "cell_type": "code",
   "execution_count": 9,
   "metadata": {},
   "outputs": [
    {
     "name": "stdout",
     "output_type": "stream",
     "text": [
      "12\n"
     ]
    }
   ],
   "source": [
    "import MathCS207 as mathcs\n",
    "a = 10\n",
    "b = 2\n",
    "print (mathcs.add(a, b))"
   ]
  },
  {
   "cell_type": "markdown",
   "metadata": {},
   "source": [
    "### Part 5:  List every function definition inside the module `MathCS207`\n",
    "Import the `MathCS207` module and list every function that can be accessed through this module by using a `Python` built-in function."
   ]
  },
  {
   "cell_type": "code",
   "execution_count": 10,
   "metadata": {},
   "outputs": [
    {
     "data": {
      "text/plain": [
       "['__builtins__',\n",
       " '__cached__',\n",
       " '__doc__',\n",
       " '__file__',\n",
       " '__loader__',\n",
       " '__name__',\n",
       " '__package__',\n",
       " '__spec__',\n",
       " 'add',\n",
       " 'divide',\n",
       " 'multiply',\n",
       " 'subtract']"
      ]
     },
     "execution_count": 10,
     "metadata": {},
     "output_type": "execute_result"
    }
   ],
   "source": [
    "import MathCS207\n",
    "dir(MathCS207)"
   ]
  },
  {
   "cell_type": "markdown",
   "metadata": {},
   "source": [
    "---\n",
    "<a id='p3'></a>\n",
    "# Problem 3: Bank Account Revisited [50pts]\n",
    "\n",
    "We are going to redo the bank account closure problem from homework 2, only this time developing a formal class for a Bank User and Bank Account to use in our closure (recall previously we just had a nonlocal variable amount that we changed).\n",
    "\n",
    "### IMPORTANT\n",
    "We will be grading this problem with a test suite. Put the `enum`, classes, and closure in a single file named `Bank.py`. It is very important that the class and method specifications we provide in the problem description are used (with the same capitalization), otherwise you will receive no credit."
   ]
  },
  {
   "cell_type": "markdown",
   "metadata": {},
   "source": [
    "### Some Preliminaries:\n",
    "First define two types of bank accounts.  Use the code below to do this:"
   ]
  },
  {
   "cell_type": "code",
   "execution_count": 11,
   "metadata": {
    "collapsed": true
   },
   "outputs": [],
   "source": [
    "from enum import Enum\n",
    "class AccountType(Enum):\n",
    "    SAVINGS = 1\n",
    "    CHECKING = 2"
   ]
  },
  {
   "cell_type": "markdown",
   "metadata": {},
   "source": [
    "Now, just to orient you, let's expore this class a little bit."
   ]
  },
  {
   "cell_type": "code",
   "execution_count": 12,
   "metadata": {},
   "outputs": [
    {
     "data": {
      "text/plain": [
       "<AccountType.SAVINGS: 1>"
      ]
     },
     "execution_count": 12,
     "metadata": {},
     "output_type": "execute_result"
    }
   ],
   "source": [
    "AccountType.SAVINGS"
   ]
  },
  {
   "cell_type": "markdown",
   "metadata": {},
   "source": [
    "returns a `Python` representation of an enumeration.\n",
    "\n",
    "You can compare these account types:"
   ]
  },
  {
   "cell_type": "code",
   "execution_count": 13,
   "metadata": {},
   "outputs": [
    {
     "data": {
      "text/plain": [
       "True"
      ]
     },
     "execution_count": 13,
     "metadata": {},
     "output_type": "execute_result"
    }
   ],
   "source": [
    "AccountType.SAVINGS == AccountType.SAVINGS"
   ]
  },
  {
   "cell_type": "code",
   "execution_count": 14,
   "metadata": {},
   "outputs": [
    {
     "data": {
      "text/plain": [
       "False"
      ]
     },
     "execution_count": 14,
     "metadata": {},
     "output_type": "execute_result"
    }
   ],
   "source": [
    "AccountType.SAVINGS == AccountType.CHECKING"
   ]
  },
  {
   "cell_type": "markdown",
   "metadata": {},
   "source": [
    "Note that to get a string representation of an `Enum`, you can use:"
   ]
  },
  {
   "cell_type": "code",
   "execution_count": 15,
   "metadata": {},
   "outputs": [
    {
     "data": {
      "text/plain": [
       "'SAVINGS'"
      ]
     },
     "execution_count": 15,
     "metadata": {},
     "output_type": "execute_result"
    }
   ],
   "source": [
    "AccountType.SAVINGS.name"
   ]
  },
  {
   "cell_type": "markdown",
   "metadata": {},
   "source": [
    "### Part 1: Create a BankAccount class with the following specification:\n",
    "\n",
    "Constructor is `BankAccount(self, owner, accountType)` where `owner` is a string representing the name of the account owner and `accountType` is one of the AccountType `enums`\n",
    "\n",
    "Methods `withdraw(self, amount)` and `deposit(self, amount)` to modify the account balance of the account.\n",
    "\n",
    "Override methods `__str__` to write an informative string of the account owner and the type of account, and `__len__` to return the balance of the account"
   ]
  },
  {
   "cell_type": "code",
   "execution_count": 16,
   "metadata": {
    "collapsed": true
   },
   "outputs": [],
   "source": [
    "class BankAccount:\n",
    "    def __init__(self, owner, accountType):\n",
    "        self.owner = owner\n",
    "        self.accountType = accountType\n",
    "        self.balance = 0\n",
    "        \n",
    "    # withdraw method\n",
    "    def withdraw(self, amount):\n",
    "        # first check if amount is neg\n",
    "        if amount < 0:\n",
    "            raise Exception('You cannot withdraw a negative amount of money.')\n",
    "        if amount <= self.balance:\n",
    "            self.balance -= amount\n",
    "        # amount is greater than balance\n",
    "        else:\n",
    "            raise Exception('You cannot withdraw more than what you have in this acccount.')\n",
    "    \n",
    "    def deposit(self, amount):\n",
    "        # first check if amount is neg\n",
    "        if amount < 0:\n",
    "            raise Exception('You cannot deposit a negative amount of money.')\n",
    "        else:\n",
    "            self.balance += amount\n",
    "        \n",
    "    def __str__(self):\n",
    "        return \"A {} account owned by {}.\".format(self.accountType.name, self.owner)\n",
    "    \n",
    "    def __len__(self):\n",
    "        return self.balance"
   ]
  },
  {
   "cell_type": "markdown",
   "metadata": {},
   "source": [
    "### Part 2:  Write a class BankUser with the following specification:\n",
    "\n",
    "Constructor `BankUser(self, owner)` where `owner` is the name of the account.\n",
    "\n",
    "Method `addAccount(self, accountType)` - to start, a user will have no accounts when the BankUser object is created. `addAccount` will add a new account to the user of the `accountType` specified. **Only one savings/checking account per user, return appropriate error otherwise.**\n",
    "\n",
    "Methods `getBalance(self, accountType)`, `deposit(self, accountType, amount)`, and `withdraw(self, accountType, amount)` for a specific `AccountType`.\n",
    "\n",
    "Override `__str__` to have an informative summary of user's accounts."
   ]
  },
  {
   "cell_type": "code",
   "execution_count": 17,
   "metadata": {
    "collapsed": true
   },
   "outputs": [],
   "source": [
    "class BankUser(object):\n",
    "    def __init__(self, owner):\n",
    "        self.name = owner\n",
    "        self.checking = None\n",
    "        self.savings = None\n",
    "\n",
    "    # helper function to check if user has an account of requested type\n",
    "    def _accountChecker(self, accountType):\n",
    "        # checks if accountType is savings, and if user has savings\n",
    "        if accountType == AccountType.SAVINGS:\n",
    "            if self.savings != None:\n",
    "                return True\n",
    "        # checks if accountType is checking, and if user has checking\n",
    "        else:\n",
    "            if self.checking != None:\n",
    "                return True\n",
    "        # user does not have account of requested type\n",
    "        return False\n",
    "    \n",
    "    def addAccount(self, accountType):\n",
    "        # checks if accountType is savings, and if user already has savings\n",
    "        if accountType == AccountType.SAVINGS and self.savings == None:\n",
    "            self.savings = BankAccount(self.name, accountType)\n",
    "        # checks if accountType is checking, and if user already has checking\n",
    "        elif accountType == AccountType.CHECKING and self.checking == None:\n",
    "            self.checking = BankAccount(self.name, accountType)\n",
    "        else:\n",
    "            raise Exception('{} already has an account of this type.'.format(self.name))\n",
    "\n",
    "    # get balance method                \n",
    "    def getBalance(self, accountType):\n",
    "        # uses accountChecker helper function\n",
    "        if self._accountChecker(accountType):\n",
    "            if accountType.value == 1:\n",
    "                return len(self.savings)\n",
    "            else:\n",
    "                return len(self.checking)\n",
    "        else:\n",
    "            raise Exception('{} does not have an account of this type.'.format(self.name))\n",
    "                \n",
    "    # deposit method\n",
    "    def deposit(self, accountType, amount):\n",
    "        # uses accountChecker helper function\n",
    "        if self._accountChecker(accountType):\n",
    "            if accountType.value == 1:\n",
    "                self.savings.deposit(amount)\n",
    "            else:\n",
    "                self.checking.deposit(amount)\n",
    "        else:\n",
    "            raise Exception('{} does not have an account of this type.'.format(self.name))\n",
    "\n",
    "    # withdraw method               \n",
    "    def withdraw(self, accountType, amount):\n",
    "        # uses accountChecker helper function\n",
    "        if self._accountChecker(accountType):\n",
    "            if accountType.value == 1:\n",
    "                self.savings.withdraw(amount)\n",
    "            else:\n",
    "                self.checking.withdraw(amount)\n",
    "        else:\n",
    "            raise Exception('{} does not have an account of this type.'.format(self.name))\n",
    "                \n",
    "    def __str__(self):\n",
    "        # if no accounts have been opened\n",
    "        if self.savings == None and self.checking == None:\n",
    "            return (\"{} has not opened any account.\".format(self.name))\n",
    "        # if checking but not savings has been opened\n",
    "        elif self.savings == None:\n",
    "            return (\"{} has ${} in their checking account.\".format(self.name, self.getBalance(AccountType.CHECKING)))\n",
    "        # if savings but not checking has been opened\n",
    "        elif self.checking == None:\n",
    "            return (\"{} has ${} in their savings account.\".format(self.name, self.getBalance(AccountType.SAVINGS)))\n",
    "        # both are open\n",
    "        else:\n",
    "            return (\"{} has ${} in their checking account and ${} in their savings account.\".format(self.name, \n",
    "                                                                                                    self.getBalance(AccountType.CHECKING),\n",
    "                                                                                                    self.getBalance(AccountType.SAVINGS)))"
   ]
  },
  {
   "cell_type": "markdown",
   "metadata": {},
   "source": [
    "Write some simple tests to make sure this is working. Think of edge scenarios a user might try to do."
   ]
  },
  {
   "cell_type": "code",
   "execution_count": 18,
   "metadata": {
    "collapsed": true
   },
   "outputs": [],
   "source": [
    "# test 1: making a bank user\n",
    "hurlink = BankUser('Hurlink')"
   ]
  },
  {
   "cell_type": "code",
   "execution_count": 19,
   "metadata": {},
   "outputs": [
    {
     "ename": "Exception",
     "evalue": "Hurlink does not have an account of this type.",
     "output_type": "error",
     "traceback": [
      "\u001b[0;31m---------------------------------------------------------------------------\u001b[0m",
      "\u001b[0;31mException\u001b[0m                                 Traceback (most recent call last)",
      "\u001b[0;32m<ipython-input-19-6959f4cf479a>\u001b[0m in \u001b[0;36m<module>\u001b[0;34m()\u001b[0m\n\u001b[1;32m      1\u001b[0m \u001b[0;31m# test 2: making sure error is raised when trying to getBalance\u001b[0m\u001b[0;34m\u001b[0m\u001b[0;34m\u001b[0m\u001b[0m\n\u001b[0;32m----> 2\u001b[0;31m \u001b[0mhurlink\u001b[0m\u001b[0;34m.\u001b[0m\u001b[0mgetBalance\u001b[0m\u001b[0;34m(\u001b[0m\u001b[0mAccountType\u001b[0m\u001b[0;34m.\u001b[0m\u001b[0mSAVINGS\u001b[0m\u001b[0;34m)\u001b[0m\u001b[0;34m\u001b[0m\u001b[0m\n\u001b[0m",
      "\u001b[0;32m<ipython-input-17-ae7d71e82504>\u001b[0m in \u001b[0;36mgetBalance\u001b[0;34m(self, accountType)\u001b[0m\n\u001b[1;32m     37\u001b[0m                 \u001b[0;32mreturn\u001b[0m \u001b[0mlen\u001b[0m\u001b[0;34m(\u001b[0m\u001b[0mself\u001b[0m\u001b[0;34m.\u001b[0m\u001b[0mchecking\u001b[0m\u001b[0;34m)\u001b[0m\u001b[0;34m\u001b[0m\u001b[0m\n\u001b[1;32m     38\u001b[0m         \u001b[0;32melse\u001b[0m\u001b[0;34m:\u001b[0m\u001b[0;34m\u001b[0m\u001b[0m\n\u001b[0;32m---> 39\u001b[0;31m             \u001b[0;32mraise\u001b[0m \u001b[0mException\u001b[0m\u001b[0;34m(\u001b[0m\u001b[0;34m'{} does not have an account of this type.'\u001b[0m\u001b[0;34m.\u001b[0m\u001b[0mformat\u001b[0m\u001b[0;34m(\u001b[0m\u001b[0mself\u001b[0m\u001b[0;34m.\u001b[0m\u001b[0mname\u001b[0m\u001b[0;34m)\u001b[0m\u001b[0;34m)\u001b[0m\u001b[0;34m\u001b[0m\u001b[0m\n\u001b[0m\u001b[1;32m     40\u001b[0m \u001b[0;34m\u001b[0m\u001b[0m\n\u001b[1;32m     41\u001b[0m     \u001b[0;31m# deposit method\u001b[0m\u001b[0;34m\u001b[0m\u001b[0;34m\u001b[0m\u001b[0m\n",
      "\u001b[0;31mException\u001b[0m: Hurlink does not have an account of this type."
     ]
    }
   ],
   "source": [
    "# test 2: making sure error is raised when trying to getBalance\n",
    "hurlink.getBalance(AccountType.SAVINGS)"
   ]
  },
  {
   "cell_type": "code",
   "execution_count": 20,
   "metadata": {},
   "outputs": [
    {
     "ename": "Exception",
     "evalue": "Hurlink does not have an account of this type.",
     "output_type": "error",
     "traceback": [
      "\u001b[0;31m---------------------------------------------------------------------------\u001b[0m",
      "\u001b[0;31mException\u001b[0m                                 Traceback (most recent call last)",
      "\u001b[0;32m<ipython-input-20-17afcd8a594c>\u001b[0m in \u001b[0;36m<module>\u001b[0;34m()\u001b[0m\n\u001b[1;32m      1\u001b[0m \u001b[0;31m# test 2: making sure error is raised when trying to getBalance\u001b[0m\u001b[0;34m\u001b[0m\u001b[0;34m\u001b[0m\u001b[0m\n\u001b[0;32m----> 2\u001b[0;31m \u001b[0mhurlink\u001b[0m\u001b[0;34m.\u001b[0m\u001b[0mgetBalance\u001b[0m\u001b[0;34m(\u001b[0m\u001b[0mAccountType\u001b[0m\u001b[0;34m.\u001b[0m\u001b[0mCHECKING\u001b[0m\u001b[0;34m)\u001b[0m\u001b[0;34m\u001b[0m\u001b[0m\n\u001b[0m",
      "\u001b[0;32m<ipython-input-17-ae7d71e82504>\u001b[0m in \u001b[0;36mgetBalance\u001b[0;34m(self, accountType)\u001b[0m\n\u001b[1;32m     37\u001b[0m                 \u001b[0;32mreturn\u001b[0m \u001b[0mlen\u001b[0m\u001b[0;34m(\u001b[0m\u001b[0mself\u001b[0m\u001b[0;34m.\u001b[0m\u001b[0mchecking\u001b[0m\u001b[0;34m)\u001b[0m\u001b[0;34m\u001b[0m\u001b[0m\n\u001b[1;32m     38\u001b[0m         \u001b[0;32melse\u001b[0m\u001b[0;34m:\u001b[0m\u001b[0;34m\u001b[0m\u001b[0m\n\u001b[0;32m---> 39\u001b[0;31m             \u001b[0;32mraise\u001b[0m \u001b[0mException\u001b[0m\u001b[0;34m(\u001b[0m\u001b[0;34m'{} does not have an account of this type.'\u001b[0m\u001b[0;34m.\u001b[0m\u001b[0mformat\u001b[0m\u001b[0;34m(\u001b[0m\u001b[0mself\u001b[0m\u001b[0;34m.\u001b[0m\u001b[0mname\u001b[0m\u001b[0;34m)\u001b[0m\u001b[0;34m)\u001b[0m\u001b[0;34m\u001b[0m\u001b[0m\n\u001b[0m\u001b[1;32m     40\u001b[0m \u001b[0;34m\u001b[0m\u001b[0m\n\u001b[1;32m     41\u001b[0m     \u001b[0;31m# deposit method\u001b[0m\u001b[0;34m\u001b[0m\u001b[0;34m\u001b[0m\u001b[0m\n",
      "\u001b[0;31mException\u001b[0m: Hurlink does not have an account of this type."
     ]
    }
   ],
   "source": [
    "# test 2: making sure error is raised when trying to getBalance\n",
    "hurlink.getBalance(AccountType.CHECKING)"
   ]
  },
  {
   "cell_type": "code",
   "execution_count": 21,
   "metadata": {
    "collapsed": true
   },
   "outputs": [],
   "source": [
    "# test 3: adding an account\n",
    "hurlink.addAccount(AccountType.SAVINGS)"
   ]
  },
  {
   "cell_type": "code",
   "execution_count": 22,
   "metadata": {},
   "outputs": [
    {
     "data": {
      "text/plain": [
       "'Hurlink has $0 in their savings account.'"
      ]
     },
     "execution_count": 22,
     "metadata": {},
     "output_type": "execute_result"
    }
   ],
   "source": [
    "# test 4: making sure the savings account was opened / testing str\n",
    "str(hurlink)"
   ]
  },
  {
   "cell_type": "code",
   "execution_count": 23,
   "metadata": {},
   "outputs": [
    {
     "ename": "Exception",
     "evalue": "Hurlink already has an account of this type.",
     "output_type": "error",
     "traceback": [
      "\u001b[0;31m---------------------------------------------------------------------------\u001b[0m",
      "\u001b[0;31mException\u001b[0m                                 Traceback (most recent call last)",
      "\u001b[0;32m<ipython-input-23-ee024ccf30ed>\u001b[0m in \u001b[0;36m<module>\u001b[0;34m()\u001b[0m\n\u001b[1;32m      1\u001b[0m \u001b[0;31m# test 5: trying to add an account of the same type\u001b[0m\u001b[0;34m\u001b[0m\u001b[0;34m\u001b[0m\u001b[0m\n\u001b[0;32m----> 2\u001b[0;31m \u001b[0mhurlink\u001b[0m\u001b[0;34m.\u001b[0m\u001b[0maddAccount\u001b[0m\u001b[0;34m(\u001b[0m\u001b[0mAccountType\u001b[0m\u001b[0;34m.\u001b[0m\u001b[0mSAVINGS\u001b[0m\u001b[0;34m)\u001b[0m\u001b[0;34m\u001b[0m\u001b[0m\n\u001b[0m",
      "\u001b[0;32m<ipython-input-17-ae7d71e82504>\u001b[0m in \u001b[0;36maddAccount\u001b[0;34m(self, accountType)\u001b[0m\n\u001b[1;32m     26\u001b[0m             \u001b[0mself\u001b[0m\u001b[0;34m.\u001b[0m\u001b[0mchecking\u001b[0m \u001b[0;34m=\u001b[0m \u001b[0mBankAccount\u001b[0m\u001b[0;34m(\u001b[0m\u001b[0mself\u001b[0m\u001b[0;34m.\u001b[0m\u001b[0mname\u001b[0m\u001b[0;34m,\u001b[0m \u001b[0maccountType\u001b[0m\u001b[0;34m)\u001b[0m\u001b[0;34m\u001b[0m\u001b[0m\n\u001b[1;32m     27\u001b[0m         \u001b[0;32melse\u001b[0m\u001b[0;34m:\u001b[0m\u001b[0;34m\u001b[0m\u001b[0m\n\u001b[0;32m---> 28\u001b[0;31m             \u001b[0;32mraise\u001b[0m \u001b[0mException\u001b[0m\u001b[0;34m(\u001b[0m\u001b[0;34m'{} already has an account of this type.'\u001b[0m\u001b[0;34m.\u001b[0m\u001b[0mformat\u001b[0m\u001b[0;34m(\u001b[0m\u001b[0mself\u001b[0m\u001b[0;34m.\u001b[0m\u001b[0mname\u001b[0m\u001b[0;34m)\u001b[0m\u001b[0;34m)\u001b[0m\u001b[0;34m\u001b[0m\u001b[0m\n\u001b[0m\u001b[1;32m     29\u001b[0m \u001b[0;34m\u001b[0m\u001b[0m\n\u001b[1;32m     30\u001b[0m     \u001b[0;31m# get balance method\u001b[0m\u001b[0;34m\u001b[0m\u001b[0;34m\u001b[0m\u001b[0m\n",
      "\u001b[0;31mException\u001b[0m: Hurlink already has an account of this type."
     ]
    }
   ],
   "source": [
    "# test 5: trying to add an account of the same type\n",
    "hurlink.addAccount(AccountType.SAVINGS)"
   ]
  },
  {
   "cell_type": "code",
   "execution_count": 24,
   "metadata": {
    "scrolled": true
   },
   "outputs": [
    {
     "name": "stdout",
     "output_type": "stream",
     "text": [
      "Hurlink has $30 in their savings account.\n",
      "Hurlink has $5 in their savings account.\n"
     ]
    },
    {
     "ename": "Exception",
     "evalue": "You cannot withdraw more than what you have in this acccount.",
     "output_type": "error",
     "traceback": [
      "\u001b[0;31m---------------------------------------------------------------------------\u001b[0m",
      "\u001b[0;31mException\u001b[0m                                 Traceback (most recent call last)",
      "\u001b[0;32m<ipython-input-24-d3569f430527>\u001b[0m in \u001b[0;36m<module>\u001b[0;34m()\u001b[0m\n\u001b[1;32m      4\u001b[0m \u001b[0mhurlink\u001b[0m\u001b[0;34m.\u001b[0m\u001b[0mwithdraw\u001b[0m\u001b[0;34m(\u001b[0m\u001b[0mAccountType\u001b[0m\u001b[0;34m.\u001b[0m\u001b[0mSAVINGS\u001b[0m\u001b[0;34m,\u001b[0m \u001b[0;36m25\u001b[0m\u001b[0;34m)\u001b[0m\u001b[0;34m\u001b[0m\u001b[0m\n\u001b[1;32m      5\u001b[0m \u001b[0mprint\u001b[0m \u001b[0;34m(\u001b[0m\u001b[0mstr\u001b[0m\u001b[0;34m(\u001b[0m\u001b[0mhurlink\u001b[0m\u001b[0;34m)\u001b[0m\u001b[0;34m)\u001b[0m\u001b[0;34m\u001b[0m\u001b[0m\n\u001b[0;32m----> 6\u001b[0;31m \u001b[0mhurlink\u001b[0m\u001b[0;34m.\u001b[0m\u001b[0mwithdraw\u001b[0m\u001b[0;34m(\u001b[0m\u001b[0mAccountType\u001b[0m\u001b[0;34m.\u001b[0m\u001b[0mSAVINGS\u001b[0m\u001b[0;34m,\u001b[0m \u001b[0;36m6\u001b[0m\u001b[0;34m)\u001b[0m \u001b[0;31m# should return an error\u001b[0m\u001b[0;34m\u001b[0m\u001b[0m\n\u001b[0m",
      "\u001b[0;32m<ipython-input-17-ae7d71e82504>\u001b[0m in \u001b[0;36mwithdraw\u001b[0;34m(self, accountType, amount)\u001b[0m\n\u001b[1;32m     55\u001b[0m         \u001b[0;32mif\u001b[0m \u001b[0mself\u001b[0m\u001b[0;34m.\u001b[0m\u001b[0m_accountChecker\u001b[0m\u001b[0;34m(\u001b[0m\u001b[0maccountType\u001b[0m\u001b[0;34m)\u001b[0m\u001b[0;34m:\u001b[0m\u001b[0;34m\u001b[0m\u001b[0m\n\u001b[1;32m     56\u001b[0m             \u001b[0;32mif\u001b[0m \u001b[0maccountType\u001b[0m\u001b[0;34m.\u001b[0m\u001b[0mvalue\u001b[0m \u001b[0;34m==\u001b[0m \u001b[0;36m1\u001b[0m\u001b[0;34m:\u001b[0m\u001b[0;34m\u001b[0m\u001b[0m\n\u001b[0;32m---> 57\u001b[0;31m                 \u001b[0mself\u001b[0m\u001b[0;34m.\u001b[0m\u001b[0msavings\u001b[0m\u001b[0;34m.\u001b[0m\u001b[0mwithdraw\u001b[0m\u001b[0;34m(\u001b[0m\u001b[0mamount\u001b[0m\u001b[0;34m)\u001b[0m\u001b[0;34m\u001b[0m\u001b[0m\n\u001b[0m\u001b[1;32m     58\u001b[0m             \u001b[0;32melse\u001b[0m\u001b[0;34m:\u001b[0m\u001b[0;34m\u001b[0m\u001b[0m\n\u001b[1;32m     59\u001b[0m                 \u001b[0mself\u001b[0m\u001b[0;34m.\u001b[0m\u001b[0mchecking\u001b[0m\u001b[0;34m.\u001b[0m\u001b[0mwithdraw\u001b[0m\u001b[0;34m(\u001b[0m\u001b[0mamount\u001b[0m\u001b[0;34m)\u001b[0m\u001b[0;34m\u001b[0m\u001b[0m\n",
      "\u001b[0;32m<ipython-input-16-f9d84efe741b>\u001b[0m in \u001b[0;36mwithdraw\u001b[0;34m(self, amount)\u001b[0m\n\u001b[1;32m     14\u001b[0m         \u001b[0;31m# amount is greater than balance\u001b[0m\u001b[0;34m\u001b[0m\u001b[0;34m\u001b[0m\u001b[0m\n\u001b[1;32m     15\u001b[0m         \u001b[0;32melse\u001b[0m\u001b[0;34m:\u001b[0m\u001b[0;34m\u001b[0m\u001b[0m\n\u001b[0;32m---> 16\u001b[0;31m             \u001b[0;32mraise\u001b[0m \u001b[0mException\u001b[0m\u001b[0;34m(\u001b[0m\u001b[0;34m'You cannot withdraw more than what you have in this acccount.'\u001b[0m\u001b[0;34m)\u001b[0m\u001b[0;34m\u001b[0m\u001b[0m\n\u001b[0m\u001b[1;32m     17\u001b[0m \u001b[0;34m\u001b[0m\u001b[0m\n\u001b[1;32m     18\u001b[0m     \u001b[0;32mdef\u001b[0m \u001b[0mdeposit\u001b[0m\u001b[0;34m(\u001b[0m\u001b[0mself\u001b[0m\u001b[0;34m,\u001b[0m \u001b[0mamount\u001b[0m\u001b[0;34m)\u001b[0m\u001b[0;34m:\u001b[0m\u001b[0;34m\u001b[0m\u001b[0m\n",
      "\u001b[0;31mException\u001b[0m: You cannot withdraw more than what you have in this acccount."
     ]
    }
   ],
   "source": [
    "# test 6: depositing and withdrawing money\n",
    "hurlink.deposit(AccountType.SAVINGS, 30)\n",
    "print (str(hurlink))\n",
    "hurlink.withdraw(AccountType.SAVINGS, 25)\n",
    "print (str(hurlink))\n",
    "hurlink.withdraw(AccountType.SAVINGS, 6) # should return an error"
   ]
  },
  {
   "cell_type": "code",
   "execution_count": 25,
   "metadata": {},
   "outputs": [
    {
     "data": {
      "text/plain": [
       "5"
      ]
     },
     "execution_count": 25,
     "metadata": {},
     "output_type": "execute_result"
    }
   ],
   "source": [
    "hurlink.getBalance(AccountType.SAVINGS)"
   ]
  },
  {
   "cell_type": "code",
   "execution_count": 26,
   "metadata": {},
   "outputs": [
    {
     "ename": "Exception",
     "evalue": "You cannot withdraw a negative amount of money.",
     "output_type": "error",
     "traceback": [
      "\u001b[0;31m---------------------------------------------------------------------------\u001b[0m",
      "\u001b[0;31mException\u001b[0m                                 Traceback (most recent call last)",
      "\u001b[0;32m<ipython-input-26-bbe647b40fbd>\u001b[0m in \u001b[0;36m<module>\u001b[0;34m()\u001b[0m\n\u001b[1;32m      1\u001b[0m \u001b[0;31m# test 7: making sure you can't deposit/withdraw negative money\u001b[0m\u001b[0;34m\u001b[0m\u001b[0;34m\u001b[0m\u001b[0m\n\u001b[0;32m----> 2\u001b[0;31m \u001b[0mhurlink\u001b[0m\u001b[0;34m.\u001b[0m\u001b[0mwithdraw\u001b[0m\u001b[0;34m(\u001b[0m\u001b[0mAccountType\u001b[0m\u001b[0;34m.\u001b[0m\u001b[0mSAVINGS\u001b[0m\u001b[0;34m,\u001b[0m \u001b[0;34m-\u001b[0m\u001b[0;36m9\u001b[0m\u001b[0;34m)\u001b[0m\u001b[0;34m\u001b[0m\u001b[0m\n\u001b[0m",
      "\u001b[0;32m<ipython-input-17-ae7d71e82504>\u001b[0m in \u001b[0;36mwithdraw\u001b[0;34m(self, accountType, amount)\u001b[0m\n\u001b[1;32m     55\u001b[0m         \u001b[0;32mif\u001b[0m \u001b[0mself\u001b[0m\u001b[0;34m.\u001b[0m\u001b[0m_accountChecker\u001b[0m\u001b[0;34m(\u001b[0m\u001b[0maccountType\u001b[0m\u001b[0;34m)\u001b[0m\u001b[0;34m:\u001b[0m\u001b[0;34m\u001b[0m\u001b[0m\n\u001b[1;32m     56\u001b[0m             \u001b[0;32mif\u001b[0m \u001b[0maccountType\u001b[0m\u001b[0;34m.\u001b[0m\u001b[0mvalue\u001b[0m \u001b[0;34m==\u001b[0m \u001b[0;36m1\u001b[0m\u001b[0;34m:\u001b[0m\u001b[0;34m\u001b[0m\u001b[0m\n\u001b[0;32m---> 57\u001b[0;31m                 \u001b[0mself\u001b[0m\u001b[0;34m.\u001b[0m\u001b[0msavings\u001b[0m\u001b[0;34m.\u001b[0m\u001b[0mwithdraw\u001b[0m\u001b[0;34m(\u001b[0m\u001b[0mamount\u001b[0m\u001b[0;34m)\u001b[0m\u001b[0;34m\u001b[0m\u001b[0m\n\u001b[0m\u001b[1;32m     58\u001b[0m             \u001b[0;32melse\u001b[0m\u001b[0;34m:\u001b[0m\u001b[0;34m\u001b[0m\u001b[0m\n\u001b[1;32m     59\u001b[0m                 \u001b[0mself\u001b[0m\u001b[0;34m.\u001b[0m\u001b[0mchecking\u001b[0m\u001b[0;34m.\u001b[0m\u001b[0mwithdraw\u001b[0m\u001b[0;34m(\u001b[0m\u001b[0mamount\u001b[0m\u001b[0;34m)\u001b[0m\u001b[0;34m\u001b[0m\u001b[0m\n",
      "\u001b[0;32m<ipython-input-16-f9d84efe741b>\u001b[0m in \u001b[0;36mwithdraw\u001b[0;34m(self, amount)\u001b[0m\n\u001b[1;32m      9\u001b[0m         \u001b[0;31m# first check if amount is neg\u001b[0m\u001b[0;34m\u001b[0m\u001b[0;34m\u001b[0m\u001b[0m\n\u001b[1;32m     10\u001b[0m         \u001b[0;32mif\u001b[0m \u001b[0mamount\u001b[0m \u001b[0;34m<\u001b[0m \u001b[0;36m0\u001b[0m\u001b[0;34m:\u001b[0m\u001b[0;34m\u001b[0m\u001b[0m\n\u001b[0;32m---> 11\u001b[0;31m             \u001b[0;32mraise\u001b[0m \u001b[0mException\u001b[0m\u001b[0;34m(\u001b[0m\u001b[0;34m'You cannot withdraw a negative amount of money.'\u001b[0m\u001b[0;34m)\u001b[0m\u001b[0;34m\u001b[0m\u001b[0m\n\u001b[0m\u001b[1;32m     12\u001b[0m         \u001b[0;32mif\u001b[0m \u001b[0mamount\u001b[0m \u001b[0;34m<=\u001b[0m \u001b[0mself\u001b[0m\u001b[0;34m.\u001b[0m\u001b[0mbalance\u001b[0m\u001b[0;34m:\u001b[0m\u001b[0;34m\u001b[0m\u001b[0m\n\u001b[1;32m     13\u001b[0m             \u001b[0mself\u001b[0m\u001b[0;34m.\u001b[0m\u001b[0mbalance\u001b[0m \u001b[0;34m-=\u001b[0m \u001b[0mamount\u001b[0m\u001b[0;34m\u001b[0m\u001b[0m\n",
      "\u001b[0;31mException\u001b[0m: You cannot withdraw a negative amount of money."
     ]
    }
   ],
   "source": [
    "# test 7: making sure you can't deposit/withdraw negative money\n",
    "hurlink.withdraw(AccountType.SAVINGS, -9)"
   ]
  },
  {
   "cell_type": "markdown",
   "metadata": {},
   "source": [
    "### Part 3:  ATM Closure\n",
    "\n",
    "Finally, we are going to rewrite a closure to use our bank account. We will make use of the [input function](http://anh.cs.luc.edu/python/hands-on/3.1/handsonHtml/io.html) which takes user input to decide what actions to take.\n",
    "\n",
    "Write a closure called `ATMSession(bankUser)` which takes in a `BankUser` object. It should return a method called `Interface` that, when called, would provide the following interface:\n",
    "\n",
    "First screen for user will look like:\n",
    "\n",
    "\n",
    "**Enter Option:**\n",
    "\n",
    "**1)Exit**\n",
    "\n",
    "**2)Create Account**\n",
    "\n",
    "**3)Check Balance**\n",
    "\n",
    "**4)Deposit**\n",
    "\n",
    "**5)Withdraw**\n",
    "\n",
    "\n",
    "Pressing 1 will exit, any other option will show the options:\n",
    "\n",
    "\n",
    "\n",
    "**Enter Option:**\n",
    "\n",
    "**1)Checking**\n",
    "\n",
    "**2)Savings**\n",
    "\n",
    "\n",
    "If a deposit or withdraw was chosen, then there must be a third screen:\n",
    "\n",
    "\n",
    "\n",
    "**Enter Integer Amount, Cannot Be Negative:**\n",
    "\n",
    "This is to keep the code relatively simple, if you'd like you can also curate the options depending on the `BankUser` object (for example, if the user has no accounts then only show the Create Account option), but this is up to you. In any case, you must handle any input from the user in a reasonable way that an actual bank would be okay with, and give the user a proper response to the action specified.\n",
    "\n",
    "Upon finishing a transaction or viewing balance, it should go back to the original screen."
   ]
  },
  {
   "cell_type": "code",
   "execution_count": 27,
   "metadata": {
    "collapsed": true
   },
   "outputs": [],
   "source": [
    "def ATMSession(bankUser):\n",
    "    def Interface(bankUser):\n",
    "        screen = 1\n",
    "        screen1 = \"1) Exit\\n2) Create Account\\n3) Check Balance\\n4) Deposit\\n5) Withdraw\"\n",
    "        screen2 = \"1) Checking\\n2) Savings\\n3) Go back\"\n",
    "        while True:\n",
    "            # clear output on every run of loop\n",
    "            clear_output()\n",
    "            # main screen\n",
    "            if screen == 1:\n",
    "                print (screen1)\n",
    "                try:\n",
    "                    opt = int(input('Enter Option: '))\n",
    "                except ValueError:\n",
    "                    print ('Invalid option.')\n",
    "                    input ('Enter any key to continue.')\n",
    "                    continue\n",
    "                # exiting\n",
    "                if opt == 1:\n",
    "                    print ('Thank you for banking.')\n",
    "                    break\n",
    "                # choosing the other four options\n",
    "                elif opt >= 2 and opt<= 5:\n",
    "                    screen = opt\n",
    "                # any other key, goes back to main menu\n",
    "                else:\n",
    "                    print ('Invalid option.')\n",
    "                    input ('Enter any key to continue.')\n",
    "            # creating an account\n",
    "            elif screen == 2:\n",
    "                print (screen2)\n",
    "                try:\n",
    "                    opt = int(input('Enter Option: '))\n",
    "                # any invalid option will redirect to main menu\n",
    "                except ValueError:\n",
    "                    print ('Invalid option.')\n",
    "                    input ('Enter any key to continue.')\n",
    "                    screen = 1\n",
    "                    continue\n",
    "                # adds checking account\n",
    "                if opt == 1:\n",
    "                    try:\n",
    "                        bankUser.addAccount(AccountType.CHECKING)\n",
    "                        print (str(bankUser))\n",
    "                        input('Enter any key to continue.')\n",
    "                    except Exception as e:\n",
    "                        print (e)\n",
    "                        input('Enter any key to continue.')\n",
    "                # adds savings account\n",
    "                elif opt == 2:\n",
    "                    try:\n",
    "                        bankUser.addAccount(AccountType.SAVINGS)\n",
    "                        print (str(bankUser))\n",
    "                        input('Enter any key to continue.')\n",
    "                    except Exception as e:\n",
    "                        print (e)\n",
    "                        input('Enter any key to continue.')\n",
    "                # going back to main menu\n",
    "                elif opt == 3:\n",
    "                \tpass\n",
    "                # any other key, goes back to menu\n",
    "                else:\n",
    "                    print ('Invalid option.')\n",
    "                    input ('Enter any key to continue.')\n",
    "                screen = 1\n",
    "            # checking balance\n",
    "            elif screen == 3:\n",
    "                print (screen2)\n",
    "                try:\n",
    "                    opt = int(input('Enter Option: '))\n",
    "                except ValueError:\n",
    "                    print ('Invalid option.')\n",
    "                    input ('Enter any key to continue.')\n",
    "                    screen = 1\n",
    "                    continue\n",
    "                if opt == 1:\n",
    "                    try:\n",
    "                        print ('{} has ${} in their checking account.'.format(bankUser.name, \n",
    "                                                                            bankUser.getBalance(AccountType.CHECKING)))\n",
    "                        input('Enter any key to continue.')\n",
    "                    except Exception as e:\n",
    "                        print (e)\n",
    "                        input('Enter any key to continue.')\n",
    "                elif opt == 2:\n",
    "                    try:\n",
    "                        print ('{} has ${} in their savings account.'.format(bankUser.name, \n",
    "                                                                            bankUser.getBalance(AccountType.SAVINGS)))\n",
    "                        input('Enter any key to continue.')\n",
    "                    except Exception as e:\n",
    "                        print (e)\n",
    "                        input ('Enter any key to continue.')\n",
    "                elif opt == 3:\n",
    "                \tpass\n",
    "                else:\n",
    "                    print ('Invalid option.')\n",
    "                    input ('Enter any key to continue.')\n",
    "                screen = 1\n",
    "            # depositing\n",
    "            elif screen == 4:\n",
    "                print (screen2)\n",
    "                try:\n",
    "                    opt = int(input('Enter Option: '))\n",
    "                except ValueError:\n",
    "                    print ('Invalid option.')\n",
    "                    input ('Enter any key to continue.')\n",
    "                    screen = 1\n",
    "                    continue\n",
    "                if opt == 1:\n",
    "                    try:\n",
    "                        amount = int(input('Enter Integer Amount, Cannot Be Negative: '))\n",
    "                        bankUser.deposit(AccountType.CHECKING, amount)\n",
    "                        print (str(bankUser))\n",
    "                    except (Exception, ValueError) as e:\n",
    "                        print (e)\n",
    "                    input('Enter any key to continue.')\n",
    "                elif opt == 2:\n",
    "                    try:\n",
    "                        amount = int(input('Enter Integer Amount, Cannot Be Negative: '))\n",
    "                        bankUser.deposit(AccountType.SAVINGS, amount)\n",
    "                        print (str(bankUser))\n",
    "                    except (Exception, ValueError) as e:\n",
    "                        print (e)\n",
    "                    input('Enter any key to continue.')\n",
    "                elif opt == 3:\n",
    "                \tpass\n",
    "                else:\n",
    "                    print ('Invalid option.')\n",
    "                    input ('Enter any key to continue.')              \n",
    "                screen = 1\n",
    "            # withdrawing\n",
    "            elif screen == 5:\n",
    "                print (screen2)\n",
    "                try:\n",
    "                    opt = int(input('Enter Option: '))\n",
    "                except ValueError:\n",
    "                    print ('Invalid option.')\n",
    "                    input ('Enter any key to continue.')\n",
    "                    screen = 1\n",
    "                    continue\n",
    "                if opt == 1:\n",
    "                    try:\n",
    "                        amount = int(input('Enter Integer Amount, Cannot Be Negative: '))\n",
    "                        bankUser.withdraw(AccountType.CHECKING, amount)\n",
    "                        print (str(bankUser))\n",
    "                    except (Exception, ValueError) as e:\n",
    "                        print (e)\n",
    "                    input('Enter any key to continue.')                \n",
    "                elif opt == 2:\n",
    "                    try:\n",
    "                        amount = int(input('Enter Integer Amount, Cannot Be Negative: '))\n",
    "                        bankUser.withdraw(AccountType.SAVINGS, amount)\n",
    "                        print (str(bankUser))\n",
    "                    except (Exception, ValueError) as e:\n",
    "                        print (e)\n",
    "                    input('Enter any key to continue.')\n",
    "                elif opt == 3:\n",
    "                \tpass\n",
    "                else:\n",
    "                    print ('Invalid option.')\n",
    "                    input ('Enter any key to continue.')\n",
    "                screen = 1\n",
    "    return Interface(bankUser)"
   ]
  },
  {
   "cell_type": "markdown",
   "metadata": {},
   "source": [
    "### Part 4:  Put everything in a module Bank.py\n",
    "\n",
    "We will be grading this problem with a test suite. Put the enum, classes, and closure in a single file named Bank.py. It is very important that the class and method specifications we provided are used (with the same capitalization), otherwise you will receive no credit.\n",
    "\n",
    "---"
   ]
  }
 ],
 "metadata": {
  "kernelspec": {
   "display_name": "Python 3",
   "language": "python",
   "name": "python3"
  },
  "language_info": {
   "codemirror_mode": {
    "name": "ipython",
    "version": 3
   },
   "file_extension": ".py",
   "mimetype": "text/x-python",
   "name": "python",
   "nbconvert_exporter": "python",
   "pygments_lexer": "ipython3",
   "version": "3.6.3"
  }
 },
 "nbformat": 4,
 "nbformat_minor": 2
}
