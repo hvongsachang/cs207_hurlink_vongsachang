{
 "cells": [
  {
   "cell_type": "markdown",
   "metadata": {},
   "source": [
    "# Hurlink Vongsachang\n",
    "\n",
    "### About me\n",
    "\n",
    "I am...\n",
    "* a junior at Harvard College\n",
    "* Computer Science major\n",
    "* beatboxer and dancer\n",
    "\n",
    "Which ``programming languages`` do I know?\n",
    "\n",
    "Language | Yes/No\n",
    "--- | ---\n",
    "C | Yes\n",
    "C++ | No\n",
    "Python | Yes\n",
    "OCaml | Yes\n",
    "Ruby | No\n",
    "\n",
    "[Hurlink's YouTube Channel](https://www.youtube.com/channel/UC45qpl6AJFz5e_w-jzVwAng)"
   ]
  }
 ],
 "metadata": {
  "kernelspec": {
   "display_name": "Python 3",
   "language": "python",
   "name": "python3"
  },
  "language_info": {
   "codemirror_mode": {
    "name": "ipython",
    "version": 3
   },
   "file_extension": ".py",
   "mimetype": "text/x-python",
   "name": "python",
   "nbconvert_exporter": "python",
   "pygments_lexer": "ipython3",
   "version": "3.6.3"
  }
 },
 "nbformat": 4,
 "nbformat_minor": 2
}
