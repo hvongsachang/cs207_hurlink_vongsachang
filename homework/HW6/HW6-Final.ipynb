{
 "cells": [
  {
   "cell_type": "markdown",
   "metadata": {},
   "source": [
    "# Homework 6\n",
    "\n",
    "## Due Thursday, November 15th 2018 at 11:59 PM.\n",
    "\n",
    "### Be sure to push the final version of your notebook to your GitHub repo.  Follow the instructions on the course website.\n",
    "\n",
    "### Topics\n",
    "####  [Part 1](#part_1):  Binary Search Tree (BST) [25 points]\n",
    "- [Problem 1](#p1.1). BST Traversal[25 points]\n",
    "\n",
    "####  [Part 2](#part_2):  Markov Chain Iterators [20 points]\n",
    "- [Problem 1](#p2.1). Markov Chain Iterators [10 points]\n",
    "- [Problem 2](#p2.2). Prediction using Markov Chain. [10 points]\n",
    "\n",
    "####  [Part 3](#part_3):  Evaluation [5 pts]\n",
    "\n",
    "---"
   ]
  },
  {
   "cell_type": "markdown",
   "metadata": {},
   "source": [
    "<a id='part_1'></a>\n",
    "# Part 1:  BST Traversal\n",
    "\n",
    "<a id='p1.1'></a>\n",
    "## Problem 1\n",
    "This problem builds on Problem 2 of Homework 5 in which you wrote a binary search tree.  This time, you will write a class to perform traversals of the BST.\n",
    "\n",
    "Write an iterator class called `DFSTraversal` with the following specifications:\n",
    "\n",
    "* `__init__(self, tree, traversalType)`: Constructor takes a `BinaryTree` object and one of the enums from `DFSTraversalTypes`\n",
    "\n",
    "```python\n",
    "from enum import Enum\n",
    "\n",
    "class DFSTraversalTypes(Enum):\n",
    "    PREORDER = 1\n",
    "    INORDER = 2\n",
    "    POSTORDER = 3\n",
    "```\n",
    "\n",
    "* `changeTraversalType(self, traversalType)`: Change the traversal type\n",
    "* `__iter__(self)`: This is the initialization of an iterator\n",
    "* `__next__(self)`: This is called in the iterator for getting the next value\n",
    "\n",
    "### Reminder\n",
    "In lecture, we discussed three types of depth-first traversal: preorder, inorder, and postorder.  In addition to the lecture notes, here is another reference: [Tree Traversal](https://en.wikipedia.org/wiki/Tree_traversal#Depth-first_search).\n",
    "\n",
    "### Demo of  `DFSTraveral`\n",
    "Here's how you might use your `DFSTraversal` class:\n",
    "\n",
    "```python\n",
    "input_array = [3, 9, 2, 11]\n",
    "bt = BinaryTree()\n",
    "for val in input_array:\n",
    "    bt.insert(val)\n",
    "traversal = DFSTraversal(bt, DFSTraversalTypes.INORDER)\n",
    "for val in traversal:\n",
    "    print(val)\n",
    "2\n",
    "3\n",
    "9\n",
    "11\n",
    "```\n",
    "\n",
    "\n",
    "#### Put your `BinaryTree` class (from homework 5) and your `DFSTraversal` class in a file titled `TreeTraversal.py`. Failure to follow this instruction will result in point deduction.  We provide a skeleton class below.\n",
    "\n",
    "***IMPORTANT***\n",
    "\n",
    "You should start from your own `BinaryTree` class (from HW5).  However, if parts of your implementation from HW5 were incorrect, you may use the methods from the solution we provided."
   ]
  },
  {
   "cell_type": "markdown",
   "metadata": {
    "collapsed": true
   },
   "source": [
    "```python\n",
    "class DFSTraversal():\n",
    "    def __init__(self, tree, traversalType):\n",
    "        # implement here\n",
    "\n",
    "    def changeTraversalType(self, traversalType):\n",
    "        # implement here\n",
    "        \n",
    "    def __iter__(self):\n",
    "        # implement here\n",
    "     \n",
    "    def __next__(self):\n",
    "        # implement here\n",
    "    \n",
    "    def inorder(self, bt):\n",
    "        # implement here\n",
    "        # bt is an instance of BinaryTree class from previous hw\n",
    "        return\n",
    "\n",
    "    def preorder(self, bt):\n",
    "        # implement here\n",
    "        # bt is an instance of BinaryTree class from previous hw\n",
    "        return\n",
    "    \n",
    "    def postorder(self, bt):\n",
    "        # implement here\n",
    "        # bt is an instance of BinaryTree class from previous hw\n",
    "        return\n",
    "```"
   ]
  },
  {
   "cell_type": "markdown",
   "metadata": {},
   "source": [
    "## BST TRAVERSAL DEMO (TREETRAVERSAL.PY SOLUTION IN REPO)"
   ]
  },
  {
   "cell_type": "code",
   "execution_count": 1,
   "metadata": {
    "collapsed": true
   },
   "outputs": [],
   "source": [
    "# using TreeTraversal.py\n",
    "from TreeTraversal import BinaryTree, DFSTraversal, DFSTraversalTypes"
   ]
  },
  {
   "cell_type": "markdown",
   "metadata": {},
   "source": [
    "**Example from problem statement:**"
   ]
  },
  {
   "cell_type": "code",
   "execution_count": 2,
   "metadata": {},
   "outputs": [
    {
     "name": "stdout",
     "output_type": "stream",
     "text": [
      "2\n",
      "3\n",
      "9\n",
      "11\n"
     ]
    }
   ],
   "source": [
    "input_array = [3, 9, 2, 11]\n",
    "bt = BinaryTree()\n",
    "for val in input_array:\n",
    "    bt.insert(val)\n",
    "\n",
    "# per the implementation of my BinaryTree, I pass in the binary tree object itself\n",
    "traversal = DFSTraversal(bt, DFSTraversalTypes.INORDER)\n",
    "for val in traversal:\n",
    "    print(val)"
   ]
  },
  {
   "cell_type": "markdown",
   "metadata": {},
   "source": [
    "**Changing traversal order to PREORDER:**"
   ]
  },
  {
   "cell_type": "code",
   "execution_count": 3,
   "metadata": {},
   "outputs": [
    {
     "name": "stdout",
     "output_type": "stream",
     "text": [
      "3\n",
      "2\n",
      "9\n",
      "11\n"
     ]
    }
   ],
   "source": [
    "traversal.changeTraversalType(DFSTraversalTypes.PREORDER)\n",
    "for val in traversal:\n",
    "    print(val)"
   ]
  },
  {
   "cell_type": "markdown",
   "metadata": {},
   "source": [
    "**Changing traversal order to POSTORDER:**"
   ]
  },
  {
   "cell_type": "code",
   "execution_count": 4,
   "metadata": {
    "scrolled": true
   },
   "outputs": [
    {
     "name": "stdout",
     "output_type": "stream",
     "text": [
      "2\n",
      "11\n",
      "9\n",
      "3\n"
     ]
    }
   ],
   "source": [
    "traversal.changeTraversalType(DFSTraversalTypes.POSTORDER)\n",
    "for val in traversal:\n",
    "    print(val)"
   ]
  },
  {
   "cell_type": "markdown",
   "metadata": {},
   "source": [
    "**Removing an element and then traversing**"
   ]
  },
  {
   "cell_type": "code",
   "execution_count": 5,
   "metadata": {},
   "outputs": [
    {
     "name": "stdout",
     "output_type": "stream",
     "text": [
      "PREORDER after removing element:\n",
      "3\n",
      "2\n",
      "11\n",
      "INORDER after removing element:\n",
      "2\n",
      "3\n",
      "11\n",
      "POSTORDER after removing element:\n",
      "2\n",
      "11\n",
      "3\n"
     ]
    }
   ],
   "source": [
    "bt.remove(9)\n",
    "\n",
    "print('PREORDER after removing element:')\n",
    "traversal.changeTraversalType(DFSTraversalTypes.PREORDER)\n",
    "for val in traversal:\n",
    "    print(val)\n",
    "    \n",
    "print('INORDER after removing element:')\n",
    "traversal.changeTraversalType(DFSTraversalTypes.INORDER)\n",
    "for val in traversal:\n",
    "    print(val)\n",
    "\n",
    "print('POSTORDER after removing element:')\n",
    "traversal.changeTraversalType(DFSTraversalTypes.POSTORDER)\n",
    "for val in traversal:\n",
    "    print(val)"
   ]
  },
  {
   "cell_type": "markdown",
   "metadata": {},
   "source": [
    "<a id='part_2'></a>\n",
    "# Part 2: Iterators"
   ]
  },
  {
   "cell_type": "markdown",
   "metadata": {},
   "source": [
    "Iterators are a convenient way to walk along your Markov chain.\n",
    "\n",
    "<a id='p2.1'></a>\n",
    "## Problem 1: \n",
    "Using your `Markov` class from the previous homework (HW5, problem 3), write `Markov` as an iterator by implementing the `__iter__()` and `__next__()` methods.\n",
    "\n",
    "**Remember:** \n",
    "* `__iter__()` should return the iterator object.\n",
    "* The `__next()__` method should return the next value.\n",
    "  - Each 'next' step should be stochastic (i.e. randomly selected based on the relative probabilities of the following day weather types) and should return the next day's weather as a string (e.g. \"sunny\") rather than an index (e.g. 0).\n",
    "\n",
    "#### Hints\n",
    "* You may want to use `np.random.choice()` in your `__next__()` implementation.  Note that `np.random.choice()` allows you to specify an array (called `a` in the documentation) from which to generate samples.  `np.random.choice()` also takes an argument (called `p` in the documentation) that associates a probability with each entry in `a`.\n",
    "\n",
    "We provide a skeleton class. Please be sure to fill out every method below.\n",
    "\n",
    "***IMPORTANT***\n",
    "\n",
    "You should start from your own `Markov` class (from HW5).  However, if parts of your implementation from HW5 were incorrect, you may use the methods from the solution we provided."
   ]
  },
  {
   "cell_type": "markdown",
   "metadata": {
    "collapsed": true
   },
   "source": [
    "```python\n",
    "import random\n",
    "\n",
    "class Markov:\n",
    "    def __init__(self, first_day):\n",
    "        # implement here. You may copy and paste from previous homework\n",
    "            \n",
    "    def load_data(self, array):\n",
    "        # implement here. You may copy and paste from previous homework\n",
    "    \n",
    "    def get_prob(self, previous_day, following_day):\n",
    "        # implement here. You may copy and paste from previous homework\n",
    "        # Returns a probability\n",
    "    \n",
    "    def __iter__(self):\n",
    "        # implement your iter method here\n",
    "        # should return the iterator object\n",
    "    \n",
    "    def __next__(self):        \n",
    "        # Implement your __next__ here\n",
    "        # method should return the next value.\n",
    "```"
   ]
  },
  {
   "cell_type": "code",
   "execution_count": 6,
   "metadata": {
    "collapsed": true
   },
   "outputs": [],
   "source": [
    "import numpy as np\n",
    "\n",
    "class Markov():\n",
    "    def __init__(self, first_day):\n",
    "        # initializing the current day\n",
    "        self.day = first_day\n",
    "        \n",
    "        # types of days and their corresponding indices\n",
    "        self.wtype = {'sunny':0, 'cloudy':1, 'rainy':2, 'snowy':3, 'windy':4, 'hailing':5}\n",
    "        self.listtypes = list(self.wtype)\n",
    "   \n",
    "    # loads in data\n",
    "    def load_data(self, array):\n",
    "        self.data = array\n",
    "    \n",
    "    def get_prob(self, previous_day, following_day):\n",
    "        try:\n",
    "            row = self.wtype[previous_day]\n",
    "            col = self.wtype[following_day]\n",
    "            return self.data[row][col]\n",
    "        # no data has been loaded in yet\n",
    "        except AttributeError: \n",
    "            return ('You have not loaded in weather data yet.')\n",
    "        \n",
    "    def __iter__(self):\n",
    "        return self\n",
    "\n",
    "    def __next__(self):\n",
    "        # get the probabilties of the next day's weather given current day\n",
    "        next_probs = self.data[self.wtype[self.day]]\n",
    "        \n",
    "        # choose from the weather with probabilities distributed by next_probs\n",
    "        self.day = np.random.choice(self.listtypes, p = next_probs)\n",
    "        return self.day\n",
    "    \n",
    "    # predict the weather \"day\" days from now\n",
    "    def get_weather_for_day(self, day):\n",
    "        # call next \"day\" times\n",
    "        for i in range(day):\n",
    "            self.__next__()\n",
    "        return self.day"
   ]
  },
  {
   "cell_type": "markdown",
   "metadata": {},
   "source": [
    "<a id='p2.2'></a>\n",
    "## Problem 2\n",
    "We want to predict what weather will be like in a week for 5 different cities.  Now that we have our `Markov` iterator, we can try to predict what the weather will be like seven days from now.\n",
    "\n",
    "#### Your Task\n",
    "Given each city's current weather (provided in the dictionary `city_weather` below), simulate what the weather will be like 7 days from now.  Rather than just producing one prediction per city, simulate 100 such predictions per city and store the most commonly occuring prediction.\n",
    "\n",
    "#### New methods in your class\n",
    "* `get_weather_for_day(self, day)`:  `day` is an integer representing how far from the current day we want to predict.  For example, if we want to predict the weather 5 days from now, `day` would be equal to 5.\n",
    "\n",
    "#### Outputs\n",
    "In your submission, print a dictionary `city_weather_predictions` that has each city as a key and the most commonly predicted weather (as a string) as the corresponding value.\n",
    "\n",
    "**Note**: Don't worry if your values don't seem to make intuitive sense.  We made up the weather probabilities."
   ]
  },
  {
   "cell_type": "code",
   "execution_count": 7,
   "metadata": {},
   "outputs": [
    {
     "data": {
      "text/plain": [
       "array([[0.4 , 0.3 , 0.1 , 0.05, 0.1 , 0.05],\n",
       "       [0.3 , 0.4 , 0.1 , 0.1 , 0.08, 0.02],\n",
       "       [0.2 , 0.3 , 0.35, 0.05, 0.05, 0.05],\n",
       "       [0.1 , 0.2 , 0.25, 0.3 , 0.1 , 0.05],\n",
       "       [0.15, 0.2 , 0.1 , 0.15, 0.3 , 0.1 ],\n",
       "       [0.1 , 0.2 , 0.35, 0.1 , 0.05, 0.2 ]])"
      ]
     },
     "execution_count": 7,
     "metadata": {},
     "output_type": "execute_result"
    }
   ],
   "source": [
    "# reading in the weather data\n",
    "weather_data = np.genfromtxt('weather.csv', delimiter=',')\n",
    "weather_data"
   ]
  },
  {
   "cell_type": "code",
   "execution_count": 8,
   "metadata": {
    "collapsed": true
   },
   "outputs": [],
   "source": [
    "city_weather = {\n",
    "    'New York': 'rainy',\n",
    "    'Chicago': 'snowy',\n",
    "    'Seattle': 'rainy',\n",
    "    'Boston': 'hailing',\n",
    "    'Miami': 'windy',\n",
    "    'Los Angeles': 'cloudy',\n",
    "    'San Fransisco': 'windy'\n",
    "}"
   ]
  },
  {
   "cell_type": "code",
   "execution_count": 9,
   "metadata": {
    "collapsed": true
   },
   "outputs": [],
   "source": [
    "# soon to be populated with most popular prediction for each city\n",
    "city_weather_predictions = dict()"
   ]
  },
  {
   "cell_type": "code",
   "execution_count": 10,
   "metadata": {},
   "outputs": [],
   "source": [
    "# iterate over all cities\n",
    "for city in city_weather:\n",
    "    \n",
    "    # current weather of the city\n",
    "    current_weather = city_weather[city]\n",
    "    \n",
    "    # make a new markov class with first day as current weather\n",
    "    weather = Markov(current_weather)\n",
    "    weather.load_data(weather_data)\n",
    "    \n",
    "    # create a dictionary of counts of predicted 7th day weather\n",
    "    predictions = dict()\n",
    "    \n",
    "    # 100 simulations, predicting the 7th day\n",
    "    for _ in range(100):\n",
    "        \n",
    "        # calling get_weather_for_day(7) to get the predicted 7th day\n",
    "        w = weather.get_weather_for_day(7)\n",
    "        \n",
    "        if w not in predictions:\n",
    "            predictions[w] = 1\n",
    "        else:\n",
    "            predictions[w] += 1\n",
    "            \n",
    "        # change the weather back to the current weather\n",
    "        weather.day = current_weather\n",
    "    \n",
    "    # taking the max value among the weather keys\n",
    "    city_weather_predictions[city] = max(predictions, key=predictions.get)"
   ]
  },
  {
   "cell_type": "code",
   "execution_count": 11,
   "metadata": {},
   "outputs": [
    {
     "name": "stdout",
     "output_type": "stream",
     "text": [
      "{'New York': 'sunny', 'Chicago': 'cloudy', 'Seattle': 'cloudy', 'Boston': 'cloudy', 'Miami': 'cloudy', 'Los Angeles': 'cloudy', 'San Fransisco': 'sunny'}\n"
     ]
    }
   ],
   "source": [
    "print (city_weather_predictions)"
   ]
  },
  {
   "cell_type": "markdown",
   "metadata": {},
   "source": [
    "<a id='part_3'></a>\n",
    "\n",
    "# Part 3:  Peer Evaluations\n",
    "Your TF sent you a link to the `Milestone Peer Evaluation` form.  You must fill the form out as part of this homework.  Evaluate your group members based on their contributions to milestones 1 and 2.  Contributions here are not only intellectual contributions.  They also include receptivity to ideas from other group members and overall participation.\n",
    "\n",
    "**Instructions:**\n",
    "* Please review each member of your group.\n",
    "* You must review yourself.\n",
    "* Do not leave any question unanswered.  An unanswer question is recorded as a zero."
   ]
  },
  {
   "cell_type": "markdown",
   "metadata": {},
   "source": [
    "## DONE"
   ]
  }
 ],
 "metadata": {
  "kernelspec": {
   "display_name": "Python 3",
   "language": "python",
   "name": "python3"
  },
  "language_info": {
   "codemirror_mode": {
    "name": "ipython",
    "version": 3
   },
   "file_extension": ".py",
   "mimetype": "text/x-python",
   "name": "python",
   "nbconvert_exporter": "python",
   "pygments_lexer": "ipython3",
   "version": "3.6.3"
  }
 },
 "nbformat": 4,
 "nbformat_minor": 2
}
